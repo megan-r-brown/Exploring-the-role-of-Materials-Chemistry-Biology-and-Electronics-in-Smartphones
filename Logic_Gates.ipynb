{
  "nbformat": 4,
  "nbformat_minor": 0,
  "metadata": {
    "colab": {
      "provenance": [],
      "authorship_tag": "ABX9TyNTEN5w0ItwC1OhGzb5bleN",
      "include_colab_link": true
    },
    "kernelspec": {
      "name": "python3",
      "display_name": "Python 3"
    },
    "language_info": {
      "name": "python"
    }
  },
  "cells": [
    {
      "cell_type": "markdown",
      "metadata": {
        "id": "view-in-github",
        "colab_type": "text"
      },
      "source": [
        "<a href=\"https://colab.research.google.com/github/megan-r-brown/Exploring-the-role-of-Materials-Chemistry-Biology-and-Electronics-in-Smartphones/blob/Logic-Circuits/Logic_Gates.ipynb\" target=\"_parent\"><img src=\"https://colab.research.google.com/assets/colab-badge.svg\" alt=\"Open In Colab\"/></a>"
      ]
    },
    {
      "cell_type": "markdown",
      "source": [
        "# What is a transistor?\n",
        "A transistor is a tiny electronic component that acts like a switch or amplifier for electrical signals. It's made of semiconductor material, usually silicon. Transistors can control the flow of electrical current by either allowing it to pass through or blocking it, much like turning a faucet on or off. They are the basic building blocks of modern electronic devices, from computers to smartphones to televisions. Transistors play a crucial role in processing and transmitting information within electronic circuits, making them essential for virtually all electronic technology we use today."
      ],
      "metadata": {
        "id": "oZYRgGvzXp7i"
      }
    },
    {
      "cell_type": "markdown",
      "source": [
        "#Logic gates in transistors\n",
        "Imagine you have a bunch of tiny decision-makers inside your electronic device, and they can only say \"yes\" or \"no\" based on the information they receive. These decision-makers are like logic gates in transistors.\n",
        "\n",
        "Logic gates take in electrical signals as input and produce an output based on certain rules. There are different types of logic gates, such as AND, OR, and NOT gates.\n",
        "\n",
        "An AND gate says \"yes\" only if both inputs are \"yes.\"\n",
        "An OR gate says \"yes\" if at least one input is \"yes.\"\n",
        "A NOT gate just flips the input, so if it's \"yes,\" it becomes \"no,\" and vice versa.\n",
        "Now, how does this relate to transistors? Well, inside a logic gate, transistors act as those decision-makers, determining whether the output should be \"yes\" or \"no\" based on the electrical signals they receive. By arranging transistors in different configurations, we can create these logic gates and use them to perform all sorts of logical operations in electronic circuits."
      ],
      "metadata": {
        "id": "ygozrhdX177q"
      }
    },
    {
      "cell_type": "code",
      "source": [
        "# @title Run this cell before starting\n",
        "class Transistor:\n",
        "    def __init__(self, name):\n",
        "        self.name = name\n",
        "        self.input1 = None\n",
        "        self.input2 = None\n",
        "        self.output = None\n",
        "\n",
        "    def __repr__(self):\n",
        "        if self.output:\n",
        "          result = \"ON\"\n",
        "        else:\n",
        "          result = \"OFF\"\n",
        "        return f\"Gate Output={result}\"\n",
        "\n",
        "\n",
        "class LogicGate:\n",
        "    @staticmethod\n",
        "    def IS(input1):\n",
        "      if input1 == 1:\n",
        "        result = True\n",
        "      else:\n",
        "        result = False\n",
        "      return result\n",
        "\n",
        "    @staticmethod\n",
        "    def NOT(input1):\n",
        "      if input1 == 1:\n",
        "        result = False\n",
        "      else:\n",
        "        result = True\n",
        "      return result\n",
        "\n",
        "    @staticmethod\n",
        "    def AND(input1, input2):\n",
        "      if input1 == 1 and input2 == 1:\n",
        "        result = True\n",
        "      else:\n",
        "        result = False\n",
        "      return result\n",
        "\n",
        "    @staticmethod\n",
        "    def OR(input1, input2):\n",
        "      if input1 == 1 or input2 == 1:\n",
        "        result = True\n",
        "      else:\n",
        "        result = False\n",
        "      return result\n",
        "\n",
        "    @staticmethod\n",
        "    def NAND(input1, input2):\n",
        "      if input1 == 1 and input2 == 1:\n",
        "        result = False\n",
        "      else:\n",
        "        result = True\n",
        "      return result\n",
        "\n",
        "    @staticmethod\n",
        "    def NOR(input1, input2):\n",
        "      if input1 == 1 or input2 == 1:\n",
        "        result = False\n",
        "      else:\n",
        "        result = True\n",
        "      return result\n",
        "\n",
        "    @staticmethod\n",
        "    def XOR(input1, input2):\n",
        "      return (input1 and not input2) or (not input1 and input2)\n",
        "\n",
        "    @staticmethod\n",
        "    def XNOR(input1, input2):\n",
        "      return not ((input1 and not input2) or (not input1 and input2))\n"
      ],
      "metadata": {
        "id": "hJGp56ZMXvzq",
        "cellView": "form"
      },
      "execution_count": 2,
      "outputs": []
    },
    {
      "cell_type": "markdown",
      "source": [
        "## Normal Transistor\n",
        "In digital circuits, transistors are often used as switches to represent binary states, typically denoted as 0 or 1. A transistor can be in one of two states: on or off. When a transistor is on, it allows current to flow between its two main terminals, typically referred to as the source and the drain. When it's off, it blocks the flow of current. Test the different inputs to see whether they make the gate output on or off.\n",
        "![picture](https://drive.google.com/uc?export=view&id=1Zy5wEYjt1PfeWXXn9bUOGhIww6Qynj1y)"
      ],
      "metadata": {
        "id": "D9gBzAoOCk6N"
      }
    },
    {
      "cell_type": "code",
      "source": [
        "def main():\n",
        "    # Inputs\n",
        "    input1 = 1 # @param [\"1\", \"0\"] {type:\"raw\"}\n",
        "\n",
        "    # Create gates\n",
        "    is_gate = Transistor(\"IS\")\n",
        "\n",
        "    # NOT gate\n",
        "    is_gate.input1 = input1\n",
        "    is_gate.output = LogicGate.IS(input1)\n",
        "\n",
        "    # Print gate outputs\n",
        "    print(is_gate)\n",
        "\n",
        "\n",
        "\n",
        "if __name__ == \"__main__\":\n",
        "    main()"
      ],
      "metadata": {
        "colab": {
          "base_uri": "https://localhost:8080/"
        },
        "id": "oVXRuzvjF1b4",
        "outputId": "34b3b737-4c52-4502-e183-d99b746fae0e",
        "cellView": "form"
      },
      "execution_count": 3,
      "outputs": [
        {
          "output_type": "stream",
          "name": "stdout",
          "text": [
            "Gate Output=ON\n"
          ]
        }
      ]
    },
    {
      "cell_type": "markdown",
      "source": [
        "## NOT Gate\n",
        "A NOT gate, also known as an inverter, is one of the simplest logic gates in digital electronics. Its primary function is to invert the input signal, meaning that it produces an output that is the opposite (complementary) of the input.\n",
        "\n",
        "The symbol for a NOT gate looks like a triangle with a small circle at its input side, and it typically has one input and one output.\n",
        "\n",
        "If the input is 0, the output is on.\n",
        "If the input is 1, the output is off.\n",
        "![picture](https://drive.google.com/uc?export=view&id=1ROXcTPNzyqKMwmC3GG2ul4uNuZEKNoqi)"
      ],
      "metadata": {
        "id": "u5gd8Dpi2Sky"
      }
    },
    {
      "cell_type": "code",
      "source": [
        "def main():\n",
        "    # Inputs\n",
        "    input1 = 1 # @param [\"1\", \"0\"] {type:\"raw\"}\n",
        "\n",
        "    # Create gates\n",
        "    not_gate = Transistor(\"NOT\")\n",
        "\n",
        "    # NOT gate\n",
        "    not_gate.input1 = input1\n",
        "    not_gate.output = LogicGate.NOT(input1)\n",
        "\n",
        "    # Print gate outputs\n",
        "    print(not_gate)\n",
        "\n",
        "\n",
        "\n",
        "if __name__ == \"__main__\":\n",
        "    main()"
      ],
      "metadata": {
        "colab": {
          "base_uri": "https://localhost:8080/"
        },
        "id": "fNgMNmWc2prY",
        "outputId": "04989508-8e40-4ec6-997a-538472c1e01f",
        "cellView": "form"
      },
      "execution_count": 4,
      "outputs": [
        {
          "output_type": "stream",
          "name": "stdout",
          "text": [
            "Gate Output=OFF\n"
          ]
        }
      ]
    },
    {
      "cell_type": "markdown",
      "source": [
        "## AND Gate\n",
        "In an AND gate:\n",
        "\n",
        "*   Input States: We have two inputs, let's call them A and B. These inputs can be either \"on\" (1) or \"off\" (0).\n",
        "*   Output State: The output of the AND gate will be \"on\" (1) only if both inputs, A and B, are \"on\" (1). Otherwise, the output will be \"off\" (0).\n",
        "So, the logic of an AND gate can be understood as follows:\n",
        "\n",
        "If both input A and input B are \"on\" (1), then the output will be \"on\" (1).\n",
        "If either input A or input B (or both) is \"off\" (0), then the output will be \"off\" (0).\n",
        "\n",
        "This logic reflects the behavior of an AND gate, where it requires both inputs to be \"on\" for the output to be \"on\"; otherwise, if any input is \"off,\" the output will be \"off.\" This behavior makes AND gates essential in various digital logic circuits for implementing logical conjunctions.\n",
        "![picture](https://drive.google.com/uc?export=view&id=1EecEMFFMtALrk4ZyKXpA-ftWc6OM7v_l)"
      ],
      "metadata": {
        "id": "-I8-8Sgz2bUb"
      }
    },
    {
      "cell_type": "code",
      "source": [
        "def main():\n",
        "    # Inputs\n",
        "    input1 = 1 # @param [\"1\", \"0\"] {type:\"raw\"}\n",
        "    input2 = 1 # @param [\"1\", \"0\"] {type:\"raw\"}\n",
        "\n",
        "    # Create gates\n",
        "    and_gate = Transistor(\"AND\")\n",
        "\n",
        "    # AND gate\n",
        "    and_gate.input1 = input1\n",
        "    and_gate.input2 = input2\n",
        "    and_gate.output = LogicGate.AND(input1, input2)\n",
        "\n",
        "    # Print gate outputs\n",
        "    print(and_gate)\n",
        "\n",
        "\n",
        "if __name__ == \"__main__\":\n",
        "    main()"
      ],
      "metadata": {
        "colab": {
          "base_uri": "https://localhost:8080/"
        },
        "id": "itCftjnh3MgL",
        "outputId": "be80b328-42e3-46c5-8b18-35f94f3c9ff5",
        "cellView": "form"
      },
      "execution_count": 5,
      "outputs": [
        {
          "output_type": "stream",
          "name": "stdout",
          "text": [
            "Gate Output=ON\n"
          ]
        }
      ]
    },
    {
      "cell_type": "markdown",
      "source": [
        "## OR Gate\n",
        "\n",
        "Let's break down the logic of an OR gate using the \"on\" (1) and \"off\" (0) terminology:\n",
        "\n",
        "\n",
        "*   Input States: Similar to the AND gate, an OR gate has two inputs, A and B. Each input can be \"on\" (1) or \"off\" (0).\n",
        "*   Output State: The output of the OR gate will be \"on\" (1) if at least one of the inputs (A or B) is \"on\" (1). The output will be \"off\" (0) only if both inputs are \"off\" (0).\n",
        "\n",
        "So, the logic of an OR gate can be summarized as follows:\n",
        "\n",
        "*   If either input A or input B (or both) is \"on\" (1), then the output will be \"on\" (1).\n",
        "*   If both input A and input B are \"off\" (0), then the output will be \"off\" (0).\n",
        "\n",
        "This logic captures the behavior of an OR gate, where it only requires one input to be \"on\" for the output to be \"on.\" If both inputs are \"off,\" then the output will be \"off\" as well. This characteristic makes OR gates useful for combining multiple signals in digital logic circuits, enabling logical disjunctions.\n",
        "\n",
        "![picture](https://drive.google.com/uc?export=view&id=1EDDgEs4SEZW-41JsQZAclCT69oAMdeFJ)"
      ],
      "metadata": {
        "id": "kobuQonZ2dzn"
      }
    },
    {
      "cell_type": "code",
      "source": [
        "def main():\n",
        "    # Inputs\n",
        "    input1 = 1 # @param [\"1\", \"0\"] {type:\"raw\"}\n",
        "    input2 = 1 # @param [\"1\", \"0\"] {type:\"raw\"}\n",
        "\n",
        "    # Create gates\n",
        "    or_gate = Transistor(\"OR\")\n",
        "\n",
        "    # OR gate\n",
        "    or_gate.input1 = input1\n",
        "    or_gate.input2 = input2\n",
        "    or_gate.output = LogicGate.OR(input1, input2)\n",
        "\n",
        "    # Print gate outputs\n",
        "    print(or_gate)\n",
        "\n",
        "\n",
        "if __name__ == \"__main__\":\n",
        "    main()"
      ],
      "metadata": {
        "colab": {
          "base_uri": "https://localhost:8080/"
        },
        "id": "JVRHREG_3WN3",
        "outputId": "ad3f5ac0-4aed-4644-c018-f422bd469256",
        "cellView": "form"
      },
      "execution_count": 6,
      "outputs": [
        {
          "output_type": "stream",
          "name": "stdout",
          "text": [
            "Gate Output=ON\n"
          ]
        }
      ]
    },
    {
      "cell_type": "markdown",
      "source": [
        "## NAND Gate\n",
        "A NAND gate is a type of logic gate that stands for \"NOT-AND.\" It produces an output that is the opposite of the result of an AND operation. In other words, a NAND gate produces a \"false\" output only if all of its inputs are \"true\"; otherwise, it produces a \"true\" output.\n",
        "\n",
        "Here's how a NAND gate works:\n",
        "\n",
        "\n",
        "*   Input States: Like other logic gates, a NAND gate has two inputs, typically labeled A and B. Each input can be either \"on\" (1) or \"off\" (0).\n",
        "*   Output State: The output of a NAND gate will be \"off\" (0) if both inputs A and B are \"on\" (1). Otherwise, if at least one input is \"off\" (0), the output will be \"on\" (1).\n",
        "\n",
        "So, the logic of a NAND gate can be summarized as follows:\n",
        "\n",
        "*   If both input A and input B are \"on\" (1), then the output will be \"off\" (0).\n",
        "*   If either input A or input B (or both) is \"off\" (0), then the output will be \"on\" (1).\n",
        "\n",
        "In essence, a NAND gate behaves like an AND gate followed by a NOT gate. It's one of the universal gates in digital logic, meaning that any other logic gate can be constructed using only NAND gates. This versatility makes NAND gates widely used in digital circuit design.\n",
        "![picture](https://drive.google.com/uc?export=view&id=1f4JVJjZCfSs3SofO-M99LPATvAF3gbSO)"
      ],
      "metadata": {
        "id": "kcinxhEA2isL"
      }
    },
    {
      "cell_type": "code",
      "source": [
        "def main():\n",
        "    # Inputs\n",
        "    input1 = 1 # @param [\"1\", \"0\"] {type:\"raw\"}\n",
        "    input2 = 1 # @param [\"1\", \"0\"] {type:\"raw\"}\n",
        "\n",
        "    # Create gates\n",
        "    nand_gate = Transistor(\"NAND\")\n",
        "\n",
        "    # NAND gate\n",
        "    nand_gate.input1 = input1\n",
        "    nand_gate.input2 = input2\n",
        "    nand_gate.output = LogicGate.NAND(input1, input2)\n",
        "\n",
        "    # Print gate outputs\n",
        "    print(nand_gate)\n",
        "\n",
        "\n",
        "if __name__ == \"__main__\":\n",
        "    main()"
      ],
      "metadata": {
        "colab": {
          "base_uri": "https://localhost:8080/"
        },
        "id": "m_wuuHJC3geK",
        "outputId": "66a101c6-f3a7-40d0-e21c-7e65f2a543d2",
        "cellView": "form"
      },
      "execution_count": 7,
      "outputs": [
        {
          "output_type": "stream",
          "name": "stdout",
          "text": [
            "Gate Output=OFF\n"
          ]
        }
      ]
    },
    {
      "cell_type": "markdown",
      "source": [
        "## NOR Gate\n",
        "A NOR gate is a logic gate that stands for \"NOT-OR.\" It produces an output that is the opposite of the result of an OR operation. In other words, a NOR gate produces a \"true\" output only if all of its inputs are \"false\"; otherwise, it produces a \"false\" output.\n",
        "\n",
        "Here's how a NOR gate works:\n",
        "\n",
        "\n",
        "*   Input States: Similar to other logic gates, a NOR gate typically has two inputs, labeled A and B. Each input can be either \"on\" (1) or \"off\" (0).\n",
        "*   Output State: The output of a NOR gate will be \"on\" (1) only if both inputs A and B are \"off\" (0). If at least one input is \"on\" (1), the output will be \"off\" (0).\n",
        "\n",
        "So, the logic of a NOR gate can be summarized as follows:\n",
        "\n",
        "*   If both input A and input B are \"off\" (0), then the output will be \"on\" (1).\n",
        "*   If either input A or input B (or both) is \"on\" (1), then the output will be \"off\" (0).\n",
        "\n",
        "In essence, a NOR gate behaves like an OR gate followed by a NOT gate. Similar to NAND gates, NOR gates are also universal gates, meaning that any other logic gate can be constructed using only NOR gates. This property makes NOR gates valuable in digital circuit design.\n",
        "![picture](https://drive.google.com/uc?export=view&id=19pDz8aOi800XhGeJKe-AKKsjq16MwuyW)"
      ],
      "metadata": {
        "id": "oam414eS2mRP"
      }
    },
    {
      "cell_type": "code",
      "source": [
        "def main():\n",
        "    # Inputs\n",
        "    input1 = 1 # @param [\"1\", \"0\"] {type:\"raw\"}\n",
        "    input2 = 0 # @param [\"1\", \"0\"] {type:\"raw\"}\n",
        "\n",
        "    # Create gates\n",
        "    nor_gate = Transistor(\"NOR\")\n",
        "\n",
        "    # NOR gate\n",
        "    nor_gate.input1 = input1\n",
        "    nor_gate.input2 = input2\n",
        "    nor_gate.output = LogicGate.NOR(input1, input2)\n",
        "\n",
        "    # Print gate outputs\n",
        "    print(nor_gate)\n",
        "\n",
        "\n",
        "if __name__ == \"__main__\":\n",
        "    main()"
      ],
      "metadata": {
        "colab": {
          "base_uri": "https://localhost:8080/"
        },
        "id": "cXGc24263yGn",
        "outputId": "f4fe026e-fc3b-44c4-f2c2-592d50c02e6d",
        "cellView": "form"
      },
      "execution_count": 8,
      "outputs": [
        {
          "output_type": "stream",
          "name": "stdout",
          "text": [
            "Gate Output=OFF\n"
          ]
        }
      ]
    },
    {
      "cell_type": "code",
      "source": [
        "# @title Build your own logic gates\n",
        "# @markdown Use this section to test how using two logic gates in sequence with different inputs will affect the output. Remember that the output of the first gate will be given to the second. If the output would be on then the value is 1. If the output id off then the value is 0. After running the cell you will be asked to provide the inputs yourself. Don't forget that the inputs must be 1 or 0!\n",
        "\n",
        "def main(gate1, gate2):\n",
        "    # Inputs\n",
        "    if gate1 != \"NOT\" and gate2 != \"NOT\":\n",
        "      print(\"Gate 1 inputs:\")\n",
        "      input1 = int(input(\"Input 1 or 0.\\n\"))\n",
        "      input2 = int(input(\"Input 1 or 0.\\n\"))\n",
        "      print(\"\\nGate 2 input:\")\n",
        "      input4 = int(input(\"Input 1 or 0.\\n\"))\n",
        "    elif gate1 == \"NOT\" and gate2 == \"NOT\":\n",
        "      print(\"Gate 1 input:\")\n",
        "      input1 = int(input(\"Input 1 or 0.\\n\"))\n",
        "    elif gate1 != \"NOT\" and gate2 == \"NOT\":\n",
        "      print(\"Gate 1 inputs:\")\n",
        "      input1 = int(input(\"Input 1 or 0.\\n\"))\n",
        "      input2 = int(input(\"Input 1 or 0.\\n\"))\n",
        "    else:\n",
        "      print(\"Gate 1 input:\")\n",
        "      input1 = int(input(\"Input 1 or 0.\\n\"))\n",
        "      print(\"\\nGate 2 input:\")\n",
        "      input2 = int(input(\"Input 1 or 0.\\n\"))\n",
        "\n",
        "    # Create gates\n",
        "    gate1_transistor = Transistor(gate1)\n",
        "\n",
        "    # gate\n",
        "    if gate1 == \"AND\":\n",
        "      gate1_transistor.input1 = input1\n",
        "      gate1_transistor.input2 = input2\n",
        "      gate1_transistor.output = LogicGate.AND(input1, input2)\n",
        "    elif gate1 == \"OR\":\n",
        "      gate1_transistor.input1 = input1\n",
        "      gate1_transistor.input2 = input2\n",
        "      gate1_transistor.output = LogicGate.OR(input1, input2)\n",
        "    elif gate1 == \"NAND\":\n",
        "      gate1_transistor.input1 = input1\n",
        "      gate1_transistor.input2 = input2\n",
        "      gate1_transistor.output = LogicGate.NAND(input1, input2)\n",
        "    elif gate1 == \"OR\":\n",
        "      gate1_transistor.input1 = input1\n",
        "      gate1_transistor.input2 = input2\n",
        "      gate1_transistor.output = LogicGate.NOR(input1, input2)\n",
        "    elif gate1 == \"NOT\":\n",
        "      gate1_transistor.input1 = input1\n",
        "      gate1_transistor.output = LogicGate.NOT(input1)\n",
        "\n",
        "    if gate1_transistor.output:\n",
        "      input3 = 1\n",
        "    else:\n",
        "      input3 = 0\n",
        "\n",
        "    # Create gates\n",
        "    gate2_transistor = Transistor(gate2)\n",
        "    if gate1 == \"NOT\":\n",
        "      if gate2 == \"AND\":\n",
        "        gate2_transistor.input3 = input3\n",
        "        gate2_transistor.input2 = input2\n",
        "        gate2_transistor.output = LogicGate.AND(input3, input2)\n",
        "      elif gate2 == \"OR\":\n",
        "        gate2_transistor.input3 = input3\n",
        "        gate2_transistor.input2 = input2\n",
        "        gate2_transistor.output = LogicGate.OR(input3, input2)\n",
        "      elif gate2 == \"NAND\":\n",
        "        gate2_transistor.input3 = input3\n",
        "        gate2_transistor.input2 = input2\n",
        "        gate2_transistor.output = LogicGate.NAND(input3, input2)\n",
        "      elif gate2 == \"OR\":\n",
        "        gate2_transistor.input3 = input3\n",
        "        gate2_transistor.input2 = input2\n",
        "        gate2_transistor.output = LogicGate.NOR(input3, input2)\n",
        "      elif gate2 == \"NOT\":\n",
        "        gate2_transistor.input3 = input3\n",
        "        gate2_transistor.output = LogicGate.NOT(input3)\n",
        "    else:\n",
        "      if gate2 == \"AND\":\n",
        "        gate2_transistor.input3 = input3\n",
        "        gate2_transistor.input4 = input4\n",
        "        gate2_transistor.output = LogicGate.AND(input3, input4)\n",
        "      elif gate2 == \"OR\":\n",
        "        gate2_transistor.input3 = input3\n",
        "        gate2_transistor.input4 = input4\n",
        "        gate2_transistor.output = LogicGate.OR(input3, input4)\n",
        "      elif gate2 == \"NAND\":\n",
        "        gate2_transistor.input3 = input3\n",
        "        gate2_transistor.input4 = input4\n",
        "        gate2_transistor.output = LogicGate.NAND(input3, input4)\n",
        "      elif gate2 == \"OR\":\n",
        "        gate2_transistor.input3 = input3\n",
        "        gate2_transistor.input4 = input4\n",
        "        gate2_transistor.output = LogicGate.NOR(input3, input4)\n",
        "      elif gate2 == \"NOT\":\n",
        "        gate2_transistor.input3 = input3\n",
        "        gate2_transistor.output = LogicGate.NOT(input3)\n",
        "\n",
        "    print(gate2_transistor)\n",
        "\n",
        "if __name__ == \"__main__\":\n",
        "    gate1 = \"NOT\" # @param [\"NOT\", \"OR\", \"AND\", \"NAND\", \"NOR\"]\n",
        "    gate2 = \"OR\" # @param [\"NOT\", \"OR\", \"AND\", \"NAND\", \"NOR\"]\n",
        "    main(gate1, gate2)"
      ],
      "metadata": {
        "colab": {
          "base_uri": "https://localhost:8080/"
        },
        "id": "kYEQ7tKVIboC",
        "outputId": "e8504cd3-7e85-46b7-d4dd-4fdea6e439d8"
      },
      "execution_count": 10,
      "outputs": [
        {
          "output_type": "stream",
          "name": "stdout",
          "text": [
            "Gate 1 input:\n",
            "Input 1 or 0.\n",
            "1\n",
            "\n",
            "Gate 2 input:\n",
            "Input 1 or 0.\n",
            "0\n",
            "Gate Output=OFF\n"
          ]
        }
      ]
    },
    {
      "cell_type": "markdown",
      "source": [
        "This module was developed as part of grant received from the National Science Foundation, Award Number 1905734.\n",
        "\n",
        "Copyright 2024-2025, University of Kentucky\n",
        "\n",
        "Designed by Megan Brown and Nolan Lok"
      ],
      "metadata": {
        "id": "5Z9uQrIQetO5"
      }
    }
  ]
}