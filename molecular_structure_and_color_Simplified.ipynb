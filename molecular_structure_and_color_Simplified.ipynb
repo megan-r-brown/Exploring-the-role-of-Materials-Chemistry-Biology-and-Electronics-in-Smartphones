{
  "cells": [
    {
      "cell_type": "markdown",
      "id": "ad31e0ba",
      "metadata": {
        "id": "ad31e0ba",
        "papermill": {
          "duration": 0.022416,
          "end_time": "2025-06-10T13:10:50.934789",
          "exception": false,
          "start_time": "2025-06-10T13:10:50.912373",
          "status": "completed"
        },
        "tags": []
      },
      "source": [
        "# Molecular Structure and Color  \n",
        "\n",
        "\n",
        "---"
      ]
    },
    {
      "cell_type": "markdown",
      "id": "31b1c1e3",
      "metadata": {
        "id": "31b1c1e3",
        "papermill": {
          "duration": 0.019219,
          "end_time": "2025-06-10T13:10:50.974094",
          "exception": false,
          "start_time": "2025-06-10T13:10:50.954875",
          "status": "completed"
        },
        "tags": []
      },
      "source": [
        "## Objectives:  \n",
        "1. Explain how molecular structure (conjugation, π‑bonds) affects color.  \n",
        "2. Relate photon energy and wavelength to observed color.  \n",
        "3. Compute energy gaps to predict absorption wavelengths for real molecules."
      ]
    },
    {
      "cell_type": "markdown",
      "id": "00f4e0a9",
      "metadata": {
        "id": "00f4e0a9",
        "papermill": {
          "duration": 0.019341,
          "end_time": "2025-06-10T13:10:51.012863",
          "exception": false,
          "start_time": "2025-06-10T13:10:50.993522",
          "status": "completed"
        },
        "tags": []
      },
      "source": [
        "## Setup\n",
        "First run this cell to install dependencies and enable widgets:"
      ]
    },
    {
      "cell_type": "code",
      "execution_count": null,
      "id": "3b0af6da",
      "metadata": {
        "_kg_hide-input": true,
        "cellView": "form",
        "execution": {
          "iopub.execute_input": "2025-06-10T13:10:51.054230Z",
          "iopub.status.busy": "2025-06-10T13:10:51.053918Z",
          "iopub.status.idle": "2025-06-10T13:11:23.319425Z",
          "shell.execute_reply": "2025-06-10T13:11:23.318497Z"
        },
        "id": "3b0af6da",
        "papermill": {
          "duration": 32.288295,
          "end_time": "2025-06-10T13:11:23.321217",
          "exception": false,
          "start_time": "2025-06-10T13:10:51.032922",
          "status": "completed"
        },
        "tags": [],
        "outputId": "a7fa509c-ca92-4f8f-93ab-d0ab6bf77c04"
      },
      "outputs": [
        {
          "name": "stdout",
          "output_type": "stream",
          "text": [
            "Collecting pyscf\r\n",
            "  Downloading pyscf-2.9.0-py3-none-manylinux_2_17_x86_64.manylinux2014_x86_64.whl.metadata (6.4 kB)\r\n",
            "Requirement already satisfied: numpy!=1.16,!=1.17,>=1.13 in /usr/local/lib/python3.11/dist-packages (from pyscf) (1.26.4)\r\n",
            "Requirement already satisfied: scipy>=1.6.0 in /usr/local/lib/python3.11/dist-packages (from pyscf) (1.15.2)\r\n",
            "Requirement already satisfied: h5py>=2.7 in /usr/local/lib/python3.11/dist-packages (from pyscf) (3.13.0)\r\n",
            "Requirement already satisfied: setuptools in /usr/local/lib/python3.11/dist-packages (from pyscf) (75.2.0)\r\n",
            "Requirement already satisfied: mkl_fft in /usr/local/lib/python3.11/dist-packages (from numpy!=1.16,!=1.17,>=1.13->pyscf) (1.3.8)\r\n",
            "Requirement already satisfied: mkl_random in /usr/local/lib/python3.11/dist-packages (from numpy!=1.16,!=1.17,>=1.13->pyscf) (1.2.4)\r\n",
            "Requirement already satisfied: mkl_umath in /usr/local/lib/python3.11/dist-packages (from numpy!=1.16,!=1.17,>=1.13->pyscf) (0.1.1)\r\n",
            "Requirement already satisfied: mkl in /usr/local/lib/python3.11/dist-packages (from numpy!=1.16,!=1.17,>=1.13->pyscf) (2025.1.0)\r\n",
            "Requirement already satisfied: tbb4py in /usr/local/lib/python3.11/dist-packages (from numpy!=1.16,!=1.17,>=1.13->pyscf) (2022.1.0)\r\n",
            "Requirement already satisfied: mkl-service in /usr/local/lib/python3.11/dist-packages (from numpy!=1.16,!=1.17,>=1.13->pyscf) (2.4.1)\r\n",
            "Requirement already satisfied: intel-openmp<2026,>=2024 in /usr/local/lib/python3.11/dist-packages (from mkl->numpy!=1.16,!=1.17,>=1.13->pyscf) (2024.2.0)\r\n",
            "Requirement already satisfied: tbb==2022.* in /usr/local/lib/python3.11/dist-packages (from mkl->numpy!=1.16,!=1.17,>=1.13->pyscf) (2022.1.0)\r\n",
            "Requirement already satisfied: tcmlib==1.* in /usr/local/lib/python3.11/dist-packages (from tbb==2022.*->mkl->numpy!=1.16,!=1.17,>=1.13->pyscf) (1.3.0)\r\n",
            "Requirement already satisfied: intel-cmplr-lib-rt in /usr/local/lib/python3.11/dist-packages (from mkl_umath->numpy!=1.16,!=1.17,>=1.13->pyscf) (2024.2.0)\r\n",
            "Requirement already satisfied: intel-cmplr-lib-ur==2024.2.0 in /usr/local/lib/python3.11/dist-packages (from intel-openmp<2026,>=2024->mkl->numpy!=1.16,!=1.17,>=1.13->pyscf) (2024.2.0)\r\n",
            "Downloading pyscf-2.9.0-py3-none-manylinux_2_17_x86_64.manylinux2014_x86_64.whl (50.9 MB)\r\n",
            "\u001b[2K   \u001b[90m━━━━━━━━━━━━━━━━━━━━━━━━━━━━━━━━━━━━━━━━\u001b[0m \u001b[32m50.9/50.9 MB\u001b[0m \u001b[31m29.2 MB/s\u001b[0m eta \u001b[36m0:00:00\u001b[0m\r\n",
            "\u001b[?25hInstalling collected packages: pyscf\r\n",
            "Successfully installed pyscf-2.9.0\r\n",
            "Collecting rdkit\r\n",
            "  Downloading rdkit-2025.3.2-cp311-cp311-manylinux_2_28_x86_64.whl.metadata (4.0 kB)\r\n",
            "Requirement already satisfied: numpy in /usr/local/lib/python3.11/dist-packages (from rdkit) (1.26.4)\r\n",
            "Requirement already satisfied: Pillow in /usr/local/lib/python3.11/dist-packages (from rdkit) (11.1.0)\r\n",
            "Requirement already satisfied: mkl_fft in /usr/local/lib/python3.11/dist-packages (from numpy->rdkit) (1.3.8)\r\n",
            "Requirement already satisfied: mkl_random in /usr/local/lib/python3.11/dist-packages (from numpy->rdkit) (1.2.4)\r\n",
            "Requirement already satisfied: mkl_umath in /usr/local/lib/python3.11/dist-packages (from numpy->rdkit) (0.1.1)\r\n",
            "Requirement already satisfied: mkl in /usr/local/lib/python3.11/dist-packages (from numpy->rdkit) (2025.1.0)\r\n",
            "Requirement already satisfied: tbb4py in /usr/local/lib/python3.11/dist-packages (from numpy->rdkit) (2022.1.0)\r\n",
            "Requirement already satisfied: mkl-service in /usr/local/lib/python3.11/dist-packages (from numpy->rdkit) (2.4.1)\r\n",
            "Requirement already satisfied: intel-openmp<2026,>=2024 in /usr/local/lib/python3.11/dist-packages (from mkl->numpy->rdkit) (2024.2.0)\r\n",
            "Requirement already satisfied: tbb==2022.* in /usr/local/lib/python3.11/dist-packages (from mkl->numpy->rdkit) (2022.1.0)\r\n",
            "Requirement already satisfied: tcmlib==1.* in /usr/local/lib/python3.11/dist-packages (from tbb==2022.*->mkl->numpy->rdkit) (1.3.0)\r\n",
            "Requirement already satisfied: intel-cmplr-lib-rt in /usr/local/lib/python3.11/dist-packages (from mkl_umath->numpy->rdkit) (2024.2.0)\r\n",
            "Requirement already satisfied: intel-cmplr-lib-ur==2024.2.0 in /usr/local/lib/python3.11/dist-packages (from intel-openmp<2026,>=2024->mkl->numpy->rdkit) (2024.2.0)\r\n",
            "Downloading rdkit-2025.3.2-cp311-cp311-manylinux_2_28_x86_64.whl (35.2 MB)\r\n",
            "\u001b[2K   \u001b[90m━━━━━━━━━━━━━━━━━━━━━━━━━━━━━━━━━━━━━━━━\u001b[0m \u001b[32m35.2/35.2 MB\u001b[0m \u001b[31m46.2 MB/s\u001b[0m eta \u001b[36m0:00:00\u001b[0m\r\n",
            "\u001b[?25hInstalling collected packages: rdkit\r\n",
            "Successfully installed rdkit-2025.3.2\r\n",
            "Collecting geometric\r\n",
            "  Downloading geometric-1.1.tar.gz (386 kB)\r\n",
            "\u001b[2K     \u001b[90m━━━━━━━━━━━━━━━━━━━━━━━━━━━━━━━━━━━━━━━━\u001b[0m \u001b[32m386.0/386.0 kB\u001b[0m \u001b[31m12.4 MB/s\u001b[0m eta \u001b[36m0:00:00\u001b[0m\r\n",
            "\u001b[?25h  Preparing metadata (setup.py) ... \u001b[?25l\u001b[?25hdone\r\n",
            "Requirement already satisfied: numpy>=1.11 in /usr/local/lib/python3.11/dist-packages (from geometric) (1.26.4)\r\n",
            "Requirement already satisfied: networkx in /usr/local/lib/python3.11/dist-packages (from geometric) (3.4.2)\r\n",
            "Requirement already satisfied: six in /usr/local/lib/python3.11/dist-packages (from geometric) (1.17.0)\r\n",
            "Requirement already satisfied: scipy in /usr/local/lib/python3.11/dist-packages (from geometric) (1.15.2)\r\n",
            "Requirement already satisfied: mkl_fft in /usr/local/lib/python3.11/dist-packages (from numpy>=1.11->geometric) (1.3.8)\r\n",
            "Requirement already satisfied: mkl_random in /usr/local/lib/python3.11/dist-packages (from numpy>=1.11->geometric) (1.2.4)\r\n",
            "Requirement already satisfied: mkl_umath in /usr/local/lib/python3.11/dist-packages (from numpy>=1.11->geometric) (0.1.1)\r\n",
            "Requirement already satisfied: mkl in /usr/local/lib/python3.11/dist-packages (from numpy>=1.11->geometric) (2025.1.0)\r\n",
            "Requirement already satisfied: tbb4py in /usr/local/lib/python3.11/dist-packages (from numpy>=1.11->geometric) (2022.1.0)\r\n",
            "Requirement already satisfied: mkl-service in /usr/local/lib/python3.11/dist-packages (from numpy>=1.11->geometric) (2.4.1)\r\n",
            "Requirement already satisfied: intel-openmp<2026,>=2024 in /usr/local/lib/python3.11/dist-packages (from mkl->numpy>=1.11->geometric) (2024.2.0)\r\n",
            "Requirement already satisfied: tbb==2022.* in /usr/local/lib/python3.11/dist-packages (from mkl->numpy>=1.11->geometric) (2022.1.0)\r\n",
            "Requirement already satisfied: tcmlib==1.* in /usr/local/lib/python3.11/dist-packages (from tbb==2022.*->mkl->numpy>=1.11->geometric) (1.3.0)\r\n",
            "Requirement already satisfied: intel-cmplr-lib-rt in /usr/local/lib/python3.11/dist-packages (from mkl_umath->numpy>=1.11->geometric) (2024.2.0)\r\n",
            "Requirement already satisfied: intel-cmplr-lib-ur==2024.2.0 in /usr/local/lib/python3.11/dist-packages (from intel-openmp<2026,>=2024->mkl->numpy>=1.11->geometric) (2024.2.0)\r\n",
            "Building wheels for collected packages: geometric\r\n",
            "  Building wheel for geometric (setup.py) ... \u001b[?25l\u001b[?25hdone\r\n",
            "  Created wheel for geometric: filename=geometric-1.1-py3-none-any.whl size=402087 sha256=8c71250c6d4d6acdd17e7cdfddd3b82bedba36de7cecf7557c1c96ac1cddf8c9\r\n",
            "  Stored in directory: /root/.cache/pip/wheels/c5/77/0c/96a54539fe0560749fdbe283f92582d09bddb212856407a4cb\r\n",
            "Successfully built geometric\r\n",
            "Installing collected packages: geometric\r\n",
            "Successfully installed geometric-1.1\r\n",
            "Collecting py3Dmol\r\n",
            "  Downloading py3dmol-2.5.0-py2.py3-none-any.whl.metadata (2.1 kB)\r\n",
            "Downloading py3dmol-2.5.0-py2.py3-none-any.whl (7.2 kB)\r\n",
            "Installing collected packages: py3Dmol\r\n",
            "Successfully installed py3Dmol-2.5.0\r\n"
          ]
        }
      ],
      "source": [
        "!pip install pyscf\n",
        "!pip install rdkit\n",
        "!pip install geometric\n",
        "!pip install py3Dmol\n",
        "\n",
        "import os\n",
        "import sys\n",
        "import pyscf\n",
        "import py3Dmol\n",
        "import matplotlib.pyplot as plt\n",
        "import numpy as np\n",
        "import ipywidgets as widgets\n",
        "import random\n",
        "\n",
        "from pyscf.hessian import thermo\n",
        "from pyscf import gto, scf, dft, tools, lo\n",
        "from pyscf.geomopt.geometric_solver import optimize\n",
        "\n",
        "from rdkit import Chem\n",
        "from rdkit.Chem import Draw\n",
        "from rdkit.Chem import AllChem\n",
        "from rdkit.Chem.Draw import IPythonConsole\n",
        "from rdkit.Chem.Draw import MolToImage"
      ]
    },
    {
      "cell_type": "markdown",
      "id": "b71b3559",
      "metadata": {
        "id": "b71b3559",
        "papermill": {
          "duration": 0.024002,
          "end_time": "2025-06-10T13:11:23.368705",
          "exception": false,
          "start_time": "2025-06-10T13:11:23.344703",
          "status": "completed"
        },
        "tags": []
      },
      "source": [
        "# Introduction to the Chemistry of Color\n",
        "\n",
        "---\n",
        "\n"
      ]
    },
    {
      "cell_type": "markdown",
      "id": "7b4dafd9",
      "metadata": {
        "_kg_hide-input": true,
        "id": "7b4dafd9",
        "papermill": {
          "duration": 0.021694,
          "end_time": "2025-06-10T13:11:23.411967",
          "exception": false,
          "start_time": "2025-06-10T13:11:23.390273",
          "status": "completed"
        },
        "tags": []
      },
      "source": [
        "## What is Color?\n",
        "Color is the way our eyes and brain work together to see different parts of light. Light is made up of many different colors mixed together, which we can see in a rainbow. Each color in the rainbow, like red, blue, and green, is a different type of light with its own unique energy.\n",
        "![vis.jpg](attachment:14671bc8-42e0-42e7-b1e4-5ffbcca9918a.jpg)\n",
        "*image url: https://commons.wikimedia.org/wiki/File:OSC_Microbio_02_01_Emspectrum.jpg*"
      ]
    },
    {
      "cell_type": "markdown",
      "id": "faae5462",
      "metadata": {
        "id": "faae5462",
        "papermill": {
          "duration": 0.02124,
          "end_time": "2025-06-10T13:11:23.454742",
          "exception": false,
          "start_time": "2025-06-10T13:11:23.433502",
          "status": "completed"
        },
        "tags": []
      },
      "source": [
        "### How does chemical structure affect color?\n",
        "The color of light we perceive from a chemical depends on its structure because the structure determines how the chemical interacts with light. Here's a simple way to understand this:\n",
        "\n",
        "**Atoms and Molecules:** Everything is made up of tiny particles called atoms, and atoms can join together to form molecules. Different arrangements of atoms in a molecule can affect its color.\n",
        "\n",
        "**Absorption of Light:** When light hits a molecule, certain colors (wavelengths) of light have just the right amount of energy to be absorbed by specific molecules in an object. Therefore we call this process absorption.\n",
        "\n",
        "**Reflection:** The colors that aren't absorbed get reflected or pass through the molecule. These are the colors we see. If a molecule absorbs blue light, for instance, it might reflect or transmit red light, so we see the object as red.\n",
        "\n",
        "**Emission:** Sometimes light that is absorbed by the molecule is high enough energy that the molecule cannot hold onto it so it is emitted back out as light. Unlike reflection we see the actual color of the light emitted.\n",
        "\n",
        "**Chemical Structure:** The specific arrangement of atoms and the types of bonds between them in a molecule determine which wavelengths of light the molecule absorbs. This is why different chemicals have different colors. For example, chlorophyll in plants absorbs red and blue light, making plants look green because they reflect green light.\n",
        "\n",
        "So, the chemical structure changes the color of light we perceive because it dictates which colors of light are absorbed and which are reflected or emitted. This is why a small change in the structure of a molecule can lead to a big change in its color."
      ]
    },
    {
      "cell_type": "markdown",
      "id": "3c312136",
      "metadata": {
        "id": "3c312136",
        "papermill": {
          "duration": 0.021208,
          "end_time": "2025-06-10T13:11:23.497647",
          "exception": false,
          "start_time": "2025-06-10T13:11:23.476439",
          "status": "completed"
        },
        "tags": []
      },
      "source": [
        "## Color in organic materials\n",
        "### What Are Pi Bonds and Conjugation?\n",
        "\n",
        "1. **Atoms and Bonds**: Imagine atoms as tiny building blocks that connect to form molecules. In organic molecules, carbon atoms can share electrons (tiny particles) with other carbon atoms or different kinds of atoms. These shared electrons create **bonds**.\n",
        "\n",
        "2. **Pi Bonds**: Some bonds between carbon atoms are special and are called **pi bonds**. Think of pi bonds as extra links above and below the main connection between two carbon atoms, like having an extra layer of glue holding two blocks together.\n",
        "\n",
        "3. **Conjugation**: When we have multiple pi or double bonds in a row (represented by two parallel lines), we get **conjugation**. This is like having a series of connected blocks with extra glue between each pair, allowing for stronger and more flexible connections. These shared pi bonds create a system where electrons can move more freely across several atoms.\n",
        "\n",
        "### How Conjugation Affects Color\n",
        "\n",
        "1. **Electron Movement**: In a conjugated system, electrons can move more freely over the connected pi bonds. Imagine the electrons as beads on a string that can slide back and forth easily along the string. This movement of electrons affects how the molecule interacts with light.\n",
        "\n",
        "2. **Absorption of Light**: When light hits a molecule, the energy from the light can excite these freely moving electrons, making them jump to a higher energy level. The specific energy (or color) of light that gets absorbed depends on how easy it is for the electrons to move within the conjugated system.\n",
        "\n",
        "3. **Visible Colors**: The colors we see are the ones that are **not absorbed**. For example, if a molecule absorbs blue light, it might reflect red and yellow, making the material look orange.\n",
        "\n",
        "### Examples in Nature\n",
        "\n",
        "1. **Carrots**: Carrots are orange because they contain a molecule called **beta-carotene**. This molecule has a long chain of conjugated pi bonds. The electrons in this chain absorb blue and green light, so the carrot reflects red and yellow light, which combine to look orange to our eyes.\n",
        "\n",
        "2. **Flowers**: Many flowers get their colors from molecules with conjugated pi bonds. For example, the red color in roses comes from molecules called anthocyanins, which have conjugated systems that absorb certain wavelengths of light and reflect red.\n",
        "\n",
        "### Summary\n",
        "\n",
        "So, in organic materials, the color we see is connected to the presence of conjugated pi bonds. These bonds allow electrons to move more freely across the molecule, affecting how the molecule absorbs and reflects light. The specific arrangement of these bonds determines the color we perceive, which is why different organic materials can be so colorful and beautiful."
      ]
    },
    {
      "cell_type": "markdown",
      "id": "1da83a49",
      "metadata": {
        "id": "1da83a49",
        "papermill": {
          "duration": 0.021695,
          "end_time": "2025-06-10T13:11:23.541026",
          "exception": false,
          "start_time": "2025-06-10T13:11:23.519331",
          "status": "completed"
        },
        "tags": []
      },
      "source": [
        "# Determining Color Using Calculations\n",
        "There are several different types of sofware for running quantum chemical computations. Some are free and open-source; some are not. For today, exercises, we will be usin [PySCF](https://pyscf.org/), a free open-source software for computational chemistry.\n",
        "\n",
        "Using this software we will look at differnt organic materials and begin to find trends connecting the structure of molecules and their color."
      ]
    },
    {
      "cell_type": "markdown",
      "id": "3ffdb6ba",
      "metadata": {
        "id": "3ffdb6ba",
        "papermill": {
          "duration": 0.021324,
          "end_time": "2025-06-10T13:11:23.584271",
          "exception": false,
          "start_time": "2025-06-10T13:11:23.562947",
          "status": "completed"
        },
        "tags": []
      },
      "source": [
        "## Prep Calculations"
      ]
    },
    {
      "cell_type": "markdown",
      "id": "ca38291f",
      "metadata": {
        "id": "ca38291f",
        "papermill": {
          "duration": 0.021269,
          "end_time": "2025-06-10T13:11:23.628414",
          "exception": false,
          "start_time": "2025-06-10T13:11:23.607145",
          "status": "completed"
        },
        "tags": []
      },
      "source": [
        "#### Making Molecules\n",
        "To build your molecule, we will convert a string of characters called a `smiles` string into a molecular structure. We will start by looking at the molecule ethene which consists of two carbon molecules connected by a double bond. The code below will build your molecule and show its 2D and 3D representations."
      ]
    },
    {
      "cell_type": "markdown",
      "id": "ee27c014",
      "metadata": {
        "papermill": {
          "duration": 0.021227,
          "end_time": "2025-06-10T13:11:23.671139",
          "exception": false,
          "start_time": "2025-06-10T13:11:23.649912",
          "status": "completed"
        },
        "tags": [],
        "id": "ee27c014"
      },
      "source": [
        "# Build your molecule\n",
        "The smiles text for ethene is \"C=C\" where the \"C\" represents carbon atoms and \"=\" represents a double bond. Run this cell to build the structure of ethene and see the 2D structure below.\n"
      ]
    },
    {
      "cell_type": "code",
      "execution_count": null,
      "id": "84330fc9",
      "metadata": {
        "cellView": "form",
        "execution": {
          "iopub.execute_input": "2025-06-10T13:11:23.716268Z",
          "iopub.status.busy": "2025-06-10T13:11:23.715702Z",
          "iopub.status.idle": "2025-06-10T13:11:23.761596Z",
          "shell.execute_reply": "2025-06-10T13:11:23.760721Z"
        },
        "id": "84330fc9",
        "outputId": "fb44cf3f-fd35-44a7-d188-cf48e2a3f703",
        "papermill": {
          "duration": 0.070608,
          "end_time": "2025-06-10T13:11:23.763307",
          "exception": false,
          "start_time": "2025-06-10T13:11:23.692699",
          "status": "completed"
        },
        "tags": []
      },
      "outputs": [
        {
          "name": "stdout",
          "output_type": "stream",
          "text": [
            "Your smiles:  C=C \n",
            "\n",
            "2D Structure:\n"
          ]
        },
        {
          "data": {
            "image/png": "[encoded data removed]",
            "text/plain": [
              "<rdkit.Chem.rdchem.Mol at 0x7f6d7530d150>"
            ]
          },
          "execution_count": 2,
          "metadata": {},
          "output_type": "execute_result"
        }
      ],
      "source": [
        "smiles = \"C=C\"\n",
        "molecule_name = 'ethene'\n",
        "#drawing_style = \"carton\" #@param ['stick', 'sphere', 'line','carton']\n",
        "print(\"Your smiles: \", smiles, \"\\n\\n2D Structure:\")\n",
        "\n",
        "# Establish RDKit mol object\n",
        "rd_mol = Chem.MolFromSmiles(smiles)\n",
        "rdmol_hs = Chem.rdmolops.AddHs(rd_mol)\n",
        "AllChem.EmbedMolecule(rdmol_hs)\n",
        "Chem.MolToXYZFile(rdmol_hs, \"{}.xyz\".format(molecule_name))\n",
        "\n",
        "rd_mol"
      ]
    },
    {
      "cell_type": "markdown",
      "id": "96880905",
      "metadata": {
        "papermill": {
          "duration": 0.021561,
          "end_time": "2025-06-10T13:11:23.807422",
          "exception": false,
          "start_time": "2025-06-10T13:11:23.785861",
          "status": "completed"
        },
        "tags": [],
        "id": "96880905"
      },
      "source": [
        "Run the next cell to view the moleucle in 3D"
      ]
    },
    {
      "cell_type": "code",
      "execution_count": null,
      "id": "f345dbc5",
      "metadata": {
        "cellView": "form",
        "execution": {
          "iopub.execute_input": "2025-06-10T13:11:23.852615Z",
          "iopub.status.busy": "2025-06-10T13:11:23.852279Z",
          "iopub.status.idle": "2025-06-10T13:11:23.859531Z",
          "shell.execute_reply": "2025-06-10T13:11:23.858538Z"
        },
        "id": "f345dbc5",
        "outputId": "b0039ae5-1eb0-4a23-9c02-78fc08c04102",
        "papermill": {
          "duration": 0.031963,
          "end_time": "2025-06-10T13:11:23.861070",
          "exception": false,
          "start_time": "2025-06-10T13:11:23.829107",
          "status": "completed"
        },
        "tags": []
      },
      "outputs": [
        {
          "data": {
            "application/3dmoljs_load.v0": "<div id=\"3dmolviewer_17495610838543606\"  style=\"position: relative; width: 640px; height: 480px;\">\n        <p id=\"3dmolwarning_17495610838543606\" style=\"background-color:#ffcccc;color:black\">3Dmol.js failed to load for some reason.  Please check your browser console for error messages.<br></p>\n        </div>\n<script>\n\nvar loadScriptAsync = function(uri){\n  return new Promise((resolve, reject) => {\n    //this is to ignore the existence of requirejs amd\n    var savedexports, savedmodule;\n    if (typeof exports !== 'undefined') savedexports = exports;\n    else exports = {}\n    if (typeof module !== 'undefined') savedmodule = module;\n    else module = {}\n\n    var tag = document.createElement('script');\n    tag.src = uri;\n    tag.async = true;\n    tag.onload = () => {\n        exports = savedexports;\n        module = savedmodule;\n        resolve();\n    };\n  var firstScriptTag = document.getElementsByTagName('script')[0];\n  firstScriptTag.parentNode.insertBefore(tag, firstScriptTag);\n});\n};\n\nif(typeof $3Dmolpromise === 'undefined') {\n$3Dmolpromise = null;\n  $3Dmolpromise = loadScriptAsync('https://cdn.jsdelivr.net/npm/3dmol@2.5.0/build/3Dmol-min.js');\n}\n\nvar viewer_17495610838543606 = null;\nvar warn = document.getElementById(\"3dmolwarning_17495610838543606\");\nif(warn) {\n    warn.parentNode.removeChild(warn);\n}\n$3Dmolpromise.then(function() {\nviewer_17495610838543606 = $3Dmol.createViewer(document.getElementById(\"3dmolviewer_17495610838543606\"),{backgroundColor:\"white\"});\nviewer_17495610838543606.zoomTo();\n\tviewer_17495610838543606.addModel(\"\\n     RDKit          2D\\n\\n  2  1  0  0  0  0  0  0  0  0999 V2000\\n    0.0000    0.0000    0.0000 C   0  0  0  0  0  0  0  0  0  0  0  0\\n    1.2990    0.7500    0.0000 C   0  0  0  0  0  0  0  0  0  0  0  0\\n  1  2  2  0\\nM  END\\n\",\"mol\");\n\tviewer_17495610838543606.setStyle({\"stick\": {}});\nviewer_17495610838543606.render();\n});\n</script>",
            "text/html": [
              "<div id=\"3dmolviewer_17495610838543606\"  style=\"position: relative; width: 640px; height: 480px;\">\n",
              "        <p id=\"3dmolwarning_17495610838543606\" style=\"background-color:#ffcccc;color:black\">3Dmol.js failed to load for some reason.  Please check your browser console for error messages.<br></p>\n",
              "        </div>\n",
              "<script>\n",
              "\n",
              "var loadScriptAsync = function(uri){\n",
              "  return new Promise((resolve, reject) => {\n",
              "    //this is to ignore the existence of requirejs amd\n",
              "    var savedexports, savedmodule;\n",
              "    if (typeof exports !== 'undefined') savedexports = exports;\n",
              "    else exports = {}\n",
              "    if (typeof module !== 'undefined') savedmodule = module;\n",
              "    else module = {}\n",
              "\n",
              "    var tag = document.createElement('script');\n",
              "    tag.src = uri;\n",
              "    tag.async = true;\n",
              "    tag.onload = () => {\n",
              "        exports = savedexports;\n",
              "        module = savedmodule;\n",
              "        resolve();\n",
              "    };\n",
              "  var firstScriptTag = document.getElementsByTagName('script')[0];\n",
              "  firstScriptTag.parentNode.insertBefore(tag, firstScriptTag);\n",
              "});\n",
              "};\n",
              "\n",
              "if(typeof $3Dmolpromise === 'undefined') {\n",
              "$3Dmolpromise = null;\n",
              "  $3Dmolpromise = loadScriptAsync('https://cdn.jsdelivr.net/npm/3dmol@2.5.0/build/3Dmol-min.js');\n",
              "}\n",
              "\n",
              "var viewer_17495610838543606 = null;\n",
              "var warn = document.getElementById(\"3dmolwarning_17495610838543606\");\n",
              "if(warn) {\n",
              "    warn.parentNode.removeChild(warn);\n",
              "}\n",
              "$3Dmolpromise.then(function() {\n",
              "viewer_17495610838543606 = $3Dmol.createViewer(document.getElementById(\"3dmolviewer_17495610838543606\"),{backgroundColor:\"white\"});\n",
              "viewer_17495610838543606.zoomTo();\n",
              "\tviewer_17495610838543606.addModel(\"\\n     RDKit          2D\\n\\n  2  1  0  0  0  0  0  0  0  0999 V2000\\n    0.0000    0.0000    0.0000 C   0  0  0  0  0  0  0  0  0  0  0  0\\n    1.2990    0.7500    0.0000 C   0  0  0  0  0  0  0  0  0  0  0  0\\n  1  2  2  0\\nM  END\\n\",\"mol\");\n",
              "\tviewer_17495610838543606.setStyle({\"stick\": {}});\n",
              "viewer_17495610838543606.render();\n",
              "});\n",
              "</script>"
            ]
          },
          "metadata": {},
          "output_type": "display_data"
        }
      ],
      "source": [
        "v = py3Dmol.view()\n",
        "v.addModel(Chem.MolToMolBlock(rd_mol), 'mol')\n",
        "v.setStyle({'stick':{}})\n",
        "v.show()"
      ]
    },
    {
      "cell_type": "markdown",
      "id": "4d2a0cd8",
      "metadata": {
        "id": "4d2a0cd8",
        "papermill": {
          "duration": 0.026123,
          "end_time": "2025-06-10T13:11:32.690234",
          "exception": false,
          "start_time": "2025-06-10T13:11:32.664111",
          "status": "completed"
        },
        "tags": []
      },
      "source": [
        "### ENERGY\n",
        "Energy calculations extract the energy of the molecule and provide the energy of the energy gap which is responsible for the color you see.\n",
        "\n",
        "Run the next cell to get the energy of ethene and its energy gap."
      ]
    },
    {
      "cell_type": "code",
      "execution_count": null,
      "id": "266469c9",
      "metadata": {
        "cellView": "form",
        "execution": {
          "iopub.execute_input": "2025-06-10T13:11:32.743876Z",
          "iopub.status.busy": "2025-06-10T13:11:32.743532Z",
          "iopub.status.idle": "2025-06-10T13:11:32.946273Z",
          "shell.execute_reply": "2025-06-10T13:11:32.943724Z"
        },
        "id": "266469c9",
        "outputId": "4a9ee761-a335-42de-f71c-217223c22714",
        "papermill": {
          "duration": 0.231947,
          "end_time": "2025-06-10T13:11:32.947991",
          "exception": false,
          "start_time": "2025-06-10T13:11:32.716044",
          "status": "completed"
        },
        "tags": []
      },
      "outputs": [
        {
          "name": "stdout",
          "output_type": "stream",
          "text": [
            "converged SCF energy = -78.003735175804\n",
            "Energy gap: 0.545668 Hartree\n"
          ]
        }
      ],
      "source": [
        "def read_xyz(file_path):\n",
        "    \"\"\"Reads an XYZ file and returns the atomic coordinates as a string.\"\"\"\n",
        "    with open(file_path, 'r') as f:\n",
        "        lines = f.readlines()\n",
        "    # Ignore the first two lines (atom count and comment)\n",
        "    return ''.join(lines[2:])\n",
        "\n",
        "def main():\n",
        "    # Step 1: Read the .xyz file\n",
        "    xyz_file = F'{molecule_name}_optimization.xyz'\n",
        "    atomic_coords = read_xyz(xyz_file)\n",
        "\n",
        "    # Step 2: Set up the molecule\n",
        "    mol = gto.M(\n",
        "        atom=atomic_coords,\n",
        "        basis='6-31G'\n",
        "    )\n",
        "\n",
        "    # Step 3: Run the SCF calculation\n",
        "    mf = scf.RHF(mol)\n",
        "    mf.kernel()\n",
        "\n",
        "    # Step 4: Extract the HOMO and LUMO energies\n",
        "    mo_energies = mf.mo_energy\n",
        "    homo_idx = mol.nelectron // 2 - 1\n",
        "    lumo_idx = homo_idx + 1\n",
        "    homo_energy = mo_energies[homo_idx]\n",
        "    lumo_energy = mo_energies[lumo_idx]\n",
        "    energy_gap = lumo_energy - homo_energy\n",
        "\n",
        "#    print(f'HOMO energy: {homo_energy:.6f} Hartree')\n",
        "#    print(f'LUMO energy: {lumo_energy:.6f} Hartree')\n",
        "    print(f'Energy gap: {energy_gap:.6f} Hartree')\n",
        "    return energy_gap\n",
        "\n",
        "if __name__ == '__main__':\n",
        "    energy1 = main()"
      ]
    },
    {
      "cell_type": "markdown",
      "id": "dd7d4c0b",
      "metadata": {
        "id": "dd7d4c0b",
        "papermill": {
          "duration": 0.025459,
          "end_time": "2025-06-10T13:11:33.001453",
          "exception": false,
          "start_time": "2025-06-10T13:11:32.975994",
          "status": "completed"
        },
        "tags": []
      },
      "source": [
        "### Adding a Double Bond\n",
        "Great! Now that you have optimized and calculated the energy gap for ethene we will now do the same for butadiene.\n",
        "\n",
        "The smiles text for butadiene is \"C=CC=C\". Like ethene, the molecule is made up of carbon atoms, but this structure has two double bonds and one single bond. Run this cell to build the structure of ethene and see the 2D structure below.\n"
      ]
    },
    {
      "cell_type": "code",
      "execution_count": null,
      "id": "55cf8196",
      "metadata": {
        "cellView": "form",
        "execution": {
          "iopub.execute_input": "2025-06-10T13:11:33.057080Z",
          "iopub.status.busy": "2025-06-10T13:11:33.056745Z",
          "iopub.status.idle": "2025-06-10T13:11:33.071874Z",
          "shell.execute_reply": "2025-06-10T13:11:33.071025Z"
        },
        "id": "55cf8196",
        "outputId": "58a34c5c-127d-4dd7-9c73-db1a0c077170",
        "papermill": {
          "duration": 0.04365,
          "end_time": "2025-06-10T13:11:33.073229",
          "exception": false,
          "start_time": "2025-06-10T13:11:33.029579",
          "status": "completed"
        },
        "tags": []
      },
      "outputs": [
        {
          "name": "stdout",
          "output_type": "stream",
          "text": [
            "Your smiles:  C=CC=C \n",
            "\n",
            "2D Structure:\n"
          ]
        },
        {
          "data": {
            "image/png": "[encoded data removed]",
            "text/plain": [
              "<rdkit.Chem.rdchem.Mol at 0x7f6d7392e8f0>"
            ]
          },
          "execution_count": 6,
          "metadata": {},
          "output_type": "execute_result"
        }
      ],
      "source": [
        "smiles = \"C=CC=C\"\n",
        "molecule_name = 'butadiene'\n",
        "#drawing_style = \"carton\" #@param ['stick', 'sphere', 'line','carton']\n",
        "print(\"Your smiles: \", smiles, \"\\n\\n2D Structure:\")\n",
        "\n",
        "# Establish RDKit mol object\n",
        "rd_mol = Chem.MolFromSmiles(smiles)\n",
        "rdmol_hs = Chem.rdmolops.AddHs(rd_mol)\n",
        "AllChem.EmbedMolecule(rdmol_hs)\n",
        "Chem.MolToXYZFile(rdmol_hs, \"{}.xyz\".format(molecule_name))\n",
        "\n",
        "rd_mol"
      ]
    },
    {
      "cell_type": "markdown",
      "id": "9afec445",
      "metadata": {
        "papermill": {
          "duration": 0.026332,
          "end_time": "2025-06-10T13:11:33.126649",
          "exception": false,
          "start_time": "2025-06-10T13:11:33.100317",
          "status": "completed"
        },
        "tags": [],
        "id": "9afec445"
      },
      "source": [
        "Run the next cell to see the structure in 3D."
      ]
    },
    {
      "cell_type": "code",
      "execution_count": null,
      "id": "08ea01e0",
      "metadata": {
        "cellView": "form",
        "execution": {
          "iopub.execute_input": "2025-06-10T13:11:33.182136Z",
          "iopub.status.busy": "2025-06-10T13:11:33.181805Z",
          "iopub.status.idle": "2025-06-10T13:11:33.188565Z",
          "shell.execute_reply": "2025-06-10T13:11:33.187590Z"
        },
        "id": "08ea01e0",
        "outputId": "94688f3d-cf96-4700-c9c4-d8be9dacc92c",
        "papermill": {
          "duration": 0.036927,
          "end_time": "2025-06-10T13:11:33.190161",
          "exception": false,
          "start_time": "2025-06-10T13:11:33.153234",
          "status": "completed"
        },
        "tags": []
      },
      "outputs": [
        {
          "data": {
            "application/3dmoljs_load.v0": "<div id=\"3dmolviewer_17495610931839764\"  style=\"position: relative; width: 640px; height: 480px;\">\n        <p id=\"3dmolwarning_17495610931839764\" style=\"background-color:#ffcccc;color:black\">3Dmol.js failed to load for some reason.  Please check your browser console for error messages.<br></p>\n        </div>\n<script>\n\nvar loadScriptAsync = function(uri){\n  return new Promise((resolve, reject) => {\n    //this is to ignore the existence of requirejs amd\n    var savedexports, savedmodule;\n    if (typeof exports !== 'undefined') savedexports = exports;\n    else exports = {}\n    if (typeof module !== 'undefined') savedmodule = module;\n    else module = {}\n\n    var tag = document.createElement('script');\n    tag.src = uri;\n    tag.async = true;\n    tag.onload = () => {\n        exports = savedexports;\n        module = savedmodule;\n        resolve();\n    };\n  var firstScriptTag = document.getElementsByTagName('script')[0];\n  firstScriptTag.parentNode.insertBefore(tag, firstScriptTag);\n});\n};\n\nif(typeof $3Dmolpromise === 'undefined') {\n$3Dmolpromise = null;\n  $3Dmolpromise = loadScriptAsync('https://cdn.jsdelivr.net/npm/3dmol@2.5.0/build/3Dmol-min.js');\n}\n\nvar viewer_17495610931839764 = null;\nvar warn = document.getElementById(\"3dmolwarning_17495610931839764\");\nif(warn) {\n    warn.parentNode.removeChild(warn);\n}\n$3Dmolpromise.then(function() {\nviewer_17495610931839764 = $3Dmol.createViewer(document.getElementById(\"3dmolviewer_17495610931839764\"),{backgroundColor:\"white\"});\nviewer_17495610931839764.zoomTo();\n\tviewer_17495610931839764.addModel(\"\\n     RDKit          2D\\n\\n  4  3  0  0  0  0  0  0  0  0999 V2000\\n    0.0000    0.0000    0.0000 C   0  0  0  0  0  0  0  0  0  0  0  0\\n    1.2990    0.7500    0.0000 C   0  0  0  0  0  0  0  0  0  0  0  0\\n    2.5981   -0.0000    0.0000 C   0  0  0  0  0  0  0  0  0  0  0  0\\n    3.8971    0.7500    0.0000 C   0  0  0  0  0  0  0  0  0  0  0  0\\n  1  2  2  0\\n  2  3  1  0\\n  3  4  2  0\\nM  END\\n\",\"mol\");\n\tviewer_17495610931839764.setStyle({\"stick\": {}});\nviewer_17495610931839764.render();\n});\n</script>",
            "text/html": [
              "<div id=\"3dmolviewer_17495610931839764\"  style=\"position: relative; width: 640px; height: 480px;\">\n",
              "        <p id=\"3dmolwarning_17495610931839764\" style=\"background-color:#ffcccc;color:black\">3Dmol.js failed to load for some reason.  Please check your browser console for error messages.<br></p>\n",
              "        </div>\n",
              "<script>\n",
              "\n",
              "var loadScriptAsync = function(uri){\n",
              "  return new Promise((resolve, reject) => {\n",
              "    //this is to ignore the existence of requirejs amd\n",
              "    var savedexports, savedmodule;\n",
              "    if (typeof exports !== 'undefined') savedexports = exports;\n",
              "    else exports = {}\n",
              "    if (typeof module !== 'undefined') savedmodule = module;\n",
              "    else module = {}\n",
              "\n",
              "    var tag = document.createElement('script');\n",
              "    tag.src = uri;\n",
              "    tag.async = true;\n",
              "    tag.onload = () => {\n",
              "        exports = savedexports;\n",
              "        module = savedmodule;\n",
              "        resolve();\n",
              "    };\n",
              "  var firstScriptTag = document.getElementsByTagName('script')[0];\n",
              "  firstScriptTag.parentNode.insertBefore(tag, firstScriptTag);\n",
              "});\n",
              "};\n",
              "\n",
              "if(typeof $3Dmolpromise === 'undefined') {\n",
              "$3Dmolpromise = null;\n",
              "  $3Dmolpromise = loadScriptAsync('https://cdn.jsdelivr.net/npm/3dmol@2.5.0/build/3Dmol-min.js');\n",
              "}\n",
              "\n",
              "var viewer_17495610931839764 = null;\n",
              "var warn = document.getElementById(\"3dmolwarning_17495610931839764\");\n",
              "if(warn) {\n",
              "    warn.parentNode.removeChild(warn);\n",
              "}\n",
              "$3Dmolpromise.then(function() {\n",
              "viewer_17495610931839764 = $3Dmol.createViewer(document.getElementById(\"3dmolviewer_17495610931839764\"),{backgroundColor:\"white\"});\n",
              "viewer_17495610931839764.zoomTo();\n",
              "\tviewer_17495610931839764.addModel(\"\\n     RDKit          2D\\n\\n  4  3  0  0  0  0  0  0  0  0999 V2000\\n    0.0000    0.0000    0.0000 C   0  0  0  0  0  0  0  0  0  0  0  0\\n    1.2990    0.7500    0.0000 C   0  0  0  0  0  0  0  0  0  0  0  0\\n    2.5981   -0.0000    0.0000 C   0  0  0  0  0  0  0  0  0  0  0  0\\n    3.8971    0.7500    0.0000 C   0  0  0  0  0  0  0  0  0  0  0  0\\n  1  2  2  0\\n  2  3  1  0\\n  3  4  2  0\\nM  END\\n\",\"mol\");\n",
              "\tviewer_17495610931839764.setStyle({\"stick\": {}});\n",
              "viewer_17495610931839764.render();\n",
              "});\n",
              "</script>"
            ]
          },
          "metadata": {},
          "output_type": "display_data"
        }
      ],
      "source": [
        "v = py3Dmol.view()\n",
        "v.addModel(Chem.MolToMolBlock(rd_mol), 'mol')\n",
        "v.setStyle({'stick':{}})\n",
        "v.show()"
      ]
    },
    {
      "cell_type": "markdown",
      "id": "8e3446e3",
      "metadata": {
        "papermill": {
          "duration": 0.030672,
          "end_time": "2025-06-10T13:12:20.680319",
          "exception": false,
          "start_time": "2025-06-10T13:12:20.649647",
          "status": "completed"
        },
        "tags": [],
        "id": "8e3446e3"
      },
      "source": [
        "Run the next cell to calculate the energy for butadiene."
      ]
    },
    {
      "cell_type": "code",
      "execution_count": null,
      "id": "4b66f464",
      "metadata": {
        "cellView": "form",
        "execution": {
          "iopub.execute_input": "2025-06-10T13:12:20.744306Z",
          "iopub.status.busy": "2025-06-10T13:12:20.743887Z",
          "iopub.status.idle": "2025-06-10T13:12:21.868195Z",
          "shell.execute_reply": "2025-06-10T13:12:21.866169Z"
        },
        "id": "4b66f464",
        "outputId": "91612e58-2f18-4617-f180-03c93c21488a",
        "papermill": {
          "duration": 1.161755,
          "end_time": "2025-06-10T13:12:21.873282",
          "exception": false,
          "start_time": "2025-06-10T13:12:20.711527",
          "status": "completed"
        },
        "tags": []
      },
      "outputs": [
        {
          "name": "stdout",
          "output_type": "stream",
          "text": [
            "converged SCF energy = -154.86311660998\n",
            "Energy gap: 0.437326 Hartree\n"
          ]
        }
      ],
      "source": [
        "def read_xyz(file_path):\n",
        "    \"\"\"Reads an XYZ file and returns the atomic coordinates as a string.\"\"\"\n",
        "    with open(file_path, 'r') as f:\n",
        "        lines = f.readlines()\n",
        "    # Ignore the first two lines (atom count and comment)\n",
        "    return ''.join(lines[2:])\n",
        "\n",
        "def main():\n",
        "    # Step 1: Read the .xyz file\n",
        "    xyz_file = F'butadiene_optimization.xyz'\n",
        "    atomic_coords = read_xyz(xyz_file)\n",
        "\n",
        "    # Step 2: Set up the molecule\n",
        "    mol = gto.M(\n",
        "        atom=atomic_coords,\n",
        "        basis='6-31G'\n",
        "    )\n",
        "\n",
        "    # Step 3: Run the SCF calculation\n",
        "    mf = scf.RHF(mol)\n",
        "    mf.kernel()\n",
        "\n",
        "    # Step 4: Extract the HOMO and LUMO energies\n",
        "    mo_energies = mf.mo_energy\n",
        "    homo_idx = mol.nelectron // 2 - 1\n",
        "    lumo_idx = homo_idx + 1\n",
        "    homo_energy = mo_energies[homo_idx]\n",
        "    lumo_energy = mo_energies[lumo_idx]\n",
        "    energy_gap = lumo_energy - homo_energy\n",
        "\n",
        "#    print(f'HOMO energy: {homo_energy:.6f} Hartree')\n",
        "#    print(f'LUMO energy: {lumo_energy:.6f} Hartree')\n",
        "    print(f'Energy gap: {energy_gap:.6f} Hartree')\n",
        "    return energy_gap\n",
        "\n",
        "if __name__ == '__main__':\n",
        "    energy2 = main()"
      ]
    },
    {
      "cell_type": "markdown",
      "id": "4f418c07",
      "metadata": {
        "id": "4f418c07",
        "papermill": {
          "duration": 0.039206,
          "end_time": "2025-06-10T13:12:21.970595",
          "exception": false,
          "start_time": "2025-06-10T13:12:21.931389",
          "status": "completed"
        },
        "tags": []
      },
      "source": [
        "## Hexatriene\n",
        "The last molecule we will be doing calculations for is hexatriene.\n",
        "\n",
        "The smiles text for hexatriene is \"C=CC=CC=C\". This structure contains three double bonds. Run this cell to build the structure of ethene and see the 2D structure below.\n"
      ]
    },
    {
      "cell_type": "code",
      "execution_count": null,
      "id": "112b6a10",
      "metadata": {
        "cellView": "form",
        "execution": {
          "iopub.execute_input": "2025-06-10T13:12:22.032538Z",
          "iopub.status.busy": "2025-06-10T13:12:22.032233Z",
          "iopub.status.idle": "2025-06-10T13:12:22.049448Z",
          "shell.execute_reply": "2025-06-10T13:12:22.048585Z"
        },
        "id": "112b6a10",
        "outputId": "7411bf93-d85a-49cf-b9ca-01ee12d55cd4",
        "papermill": {
          "duration": 0.05026,
          "end_time": "2025-06-10T13:12:22.050888",
          "exception": false,
          "start_time": "2025-06-10T13:12:22.000628",
          "status": "completed"
        },
        "tags": []
      },
      "outputs": [
        {
          "name": "stdout",
          "output_type": "stream",
          "text": [
            "Your smiles:  C=CC=CC=C \n",
            "\n",
            "2D Structure:\n"
          ]
        },
        {
          "data": {
            "image/png": "[encoded data removed]",
            "text/plain": [
              "<rdkit.Chem.rdchem.Mol at 0x7f6d7392d8c0>"
            ]
          },
          "execution_count": 10,
          "metadata": {},
          "output_type": "execute_result"
        }
      ],
      "source": [
        "smiles = \"C=CC=CC=C\"\n",
        "molecule_name = 'hexatriene'\n",
        "#drawing_style = \"carton\" #@param ['stick', 'sphere', 'line','carton']\n",
        "print(\"Your smiles: \", smiles, \"\\n\\n2D Structure:\")\n",
        "\n",
        "# Establish RDKit mol object\n",
        "rd_mol = Chem.MolFromSmiles(smiles)\n",
        "rdmol_hs = Chem.rdmolops.AddHs(rd_mol)\n",
        "AllChem.EmbedMolecule(rdmol_hs)\n",
        "Chem.MolToXYZFile(rdmol_hs, \"{}.xyz\".format(molecule_name))\n",
        "\n",
        "rd_mol"
      ]
    },
    {
      "cell_type": "markdown",
      "id": "e03b351b",
      "metadata": {
        "papermill": {
          "duration": 0.030465,
          "end_time": "2025-06-10T13:12:22.112933",
          "exception": false,
          "start_time": "2025-06-10T13:12:22.082468",
          "status": "completed"
        },
        "tags": [],
        "id": "e03b351b"
      },
      "source": [
        "Run the next cell to see the 3D structure."
      ]
    },
    {
      "cell_type": "code",
      "execution_count": null,
      "id": "ac2e46f7",
      "metadata": {
        "cellView": "form",
        "execution": {
          "iopub.execute_input": "2025-06-10T13:12:22.175445Z",
          "iopub.status.busy": "2025-06-10T13:12:22.175145Z",
          "iopub.status.idle": "2025-06-10T13:12:22.181689Z",
          "shell.execute_reply": "2025-06-10T13:12:22.180875Z"
        },
        "id": "ac2e46f7",
        "outputId": "134d5fb8-102a-46e5-b6c7-7ed00f188de5",
        "papermill": {
          "duration": 0.039198,
          "end_time": "2025-06-10T13:12:22.183127",
          "exception": false,
          "start_time": "2025-06-10T13:12:22.143929",
          "status": "completed"
        },
        "tags": []
      },
      "outputs": [
        {
          "data": {
            "application/3dmoljs_load.v0": "<div id=\"3dmolviewer_17495611421770842\"  style=\"position: relative; width: 640px; height: 480px;\">\n        <p id=\"3dmolwarning_17495611421770842\" style=\"background-color:#ffcccc;color:black\">3Dmol.js failed to load for some reason.  Please check your browser console for error messages.<br></p>\n        </div>\n<script>\n\nvar loadScriptAsync = function(uri){\n  return new Promise((resolve, reject) => {\n    //this is to ignore the existence of requirejs amd\n    var savedexports, savedmodule;\n    if (typeof exports !== 'undefined') savedexports = exports;\n    else exports = {}\n    if (typeof module !== 'undefined') savedmodule = module;\n    else module = {}\n\n    var tag = document.createElement('script');\n    tag.src = uri;\n    tag.async = true;\n    tag.onload = () => {\n        exports = savedexports;\n        module = savedmodule;\n        resolve();\n    };\n  var firstScriptTag = document.getElementsByTagName('script')[0];\n  firstScriptTag.parentNode.insertBefore(tag, firstScriptTag);\n});\n};\n\nif(typeof $3Dmolpromise === 'undefined') {\n$3Dmolpromise = null;\n  $3Dmolpromise = loadScriptAsync('https://cdn.jsdelivr.net/npm/3dmol@2.5.0/build/3Dmol-min.js');\n}\n\nvar viewer_17495611421770842 = null;\nvar warn = document.getElementById(\"3dmolwarning_17495611421770842\");\nif(warn) {\n    warn.parentNode.removeChild(warn);\n}\n$3Dmolpromise.then(function() {\nviewer_17495611421770842 = $3Dmol.createViewer(document.getElementById(\"3dmolviewer_17495611421770842\"),{backgroundColor:\"white\"});\nviewer_17495611421770842.zoomTo();\n\tviewer_17495611421770842.addModel(\"\\n     RDKit          2D\\n\\n  6  5  0  0  0  0  0  0  0  0999 V2000\\n    0.0000    0.0000    0.0000 C   0  0  0  0  0  0  0  0  0  0  0  0\\n    1.2990    0.7500    0.0000 C   0  0  0  0  0  0  0  0  0  0  0  0\\n    2.5981   -0.0000    0.0000 C   0  0  0  0  0  0  0  0  0  0  0  0\\n    3.8971    0.7500    0.0000 C   0  0  0  0  0  0  0  0  0  0  0  0\\n    5.1962   -0.0000    0.0000 C   0  0  0  0  0  0  0  0  0  0  0  0\\n    6.4952    0.7500    0.0000 C   0  0  0  0  0  0  0  0  0  0  0  0\\n  1  2  2  0\\n  2  3  1  0\\n  3  4  2  3\\n  4  5  1  0\\n  5  6  2  0\\nM  END\\n\",\"mol\");\n\tviewer_17495611421770842.setStyle({\"stick\": {}});\nviewer_17495611421770842.render();\n});\n</script>",
            "text/html": [
              "<div id=\"3dmolviewer_17495611421770842\"  style=\"position: relative; width: 640px; height: 480px;\">\n",
              "        <p id=\"3dmolwarning_17495611421770842\" style=\"background-color:#ffcccc;color:black\">3Dmol.js failed to load for some reason.  Please check your browser console for error messages.<br></p>\n",
              "        </div>\n",
              "<script>\n",
              "\n",
              "var loadScriptAsync = function(uri){\n",
              "  return new Promise((resolve, reject) => {\n",
              "    //this is to ignore the existence of requirejs amd\n",
              "    var savedexports, savedmodule;\n",
              "    if (typeof exports !== 'undefined') savedexports = exports;\n",
              "    else exports = {}\n",
              "    if (typeof module !== 'undefined') savedmodule = module;\n",
              "    else module = {}\n",
              "\n",
              "    var tag = document.createElement('script');\n",
              "    tag.src = uri;\n",
              "    tag.async = true;\n",
              "    tag.onload = () => {\n",
              "        exports = savedexports;\n",
              "        module = savedmodule;\n",
              "        resolve();\n",
              "    };\n",
              "  var firstScriptTag = document.getElementsByTagName('script')[0];\n",
              "  firstScriptTag.parentNode.insertBefore(tag, firstScriptTag);\n",
              "});\n",
              "};\n",
              "\n",
              "if(typeof $3Dmolpromise === 'undefined') {\n",
              "$3Dmolpromise = null;\n",
              "  $3Dmolpromise = loadScriptAsync('https://cdn.jsdelivr.net/npm/3dmol@2.5.0/build/3Dmol-min.js');\n",
              "}\n",
              "\n",
              "var viewer_17495611421770842 = null;\n",
              "var warn = document.getElementById(\"3dmolwarning_17495611421770842\");\n",
              "if(warn) {\n",
              "    warn.parentNode.removeChild(warn);\n",
              "}\n",
              "$3Dmolpromise.then(function() {\n",
              "viewer_17495611421770842 = $3Dmol.createViewer(document.getElementById(\"3dmolviewer_17495611421770842\"),{backgroundColor:\"white\"});\n",
              "viewer_17495611421770842.zoomTo();\n",
              "\tviewer_17495611421770842.addModel(\"\\n     RDKit          2D\\n\\n  6  5  0  0  0  0  0  0  0  0999 V2000\\n    0.0000    0.0000    0.0000 C   0  0  0  0  0  0  0  0  0  0  0  0\\n    1.2990    0.7500    0.0000 C   0  0  0  0  0  0  0  0  0  0  0  0\\n    2.5981   -0.0000    0.0000 C   0  0  0  0  0  0  0  0  0  0  0  0\\n    3.8971    0.7500    0.0000 C   0  0  0  0  0  0  0  0  0  0  0  0\\n    5.1962   -0.0000    0.0000 C   0  0  0  0  0  0  0  0  0  0  0  0\\n    6.4952    0.7500    0.0000 C   0  0  0  0  0  0  0  0  0  0  0  0\\n  1  2  2  0\\n  2  3  1  0\\n  3  4  2  3\\n  4  5  1  0\\n  5  6  2  0\\nM  END\\n\",\"mol\");\n",
              "\tviewer_17495611421770842.setStyle({\"stick\": {}});\n",
              "viewer_17495611421770842.render();\n",
              "});\n",
              "</script>"
            ]
          },
          "metadata": {},
          "output_type": "display_data"
        }
      ],
      "source": [
        "v = py3Dmol.view()\n",
        "v.addModel(Chem.MolToMolBlock(rd_mol), 'mol')\n",
        "v.setStyle({'stick':{}})\n",
        "v.show()"
      ]
    },
    {
      "cell_type": "markdown",
      "id": "c74f86bc",
      "metadata": {
        "papermill": {
          "duration": 0.034125,
          "end_time": "2025-06-10T13:14:46.861439",
          "exception": false,
          "start_time": "2025-06-10T13:14:46.827314",
          "status": "completed"
        },
        "tags": [],
        "id": "c74f86bc"
      },
      "source": [
        "Run the next cell to calculate the energy and energy gap for hexatriene."
      ]
    },
    {
      "cell_type": "code",
      "execution_count": null,
      "id": "d5709249",
      "metadata": {
        "cellView": "form",
        "execution": {
          "iopub.execute_input": "2025-06-10T13:14:46.933177Z",
          "iopub.status.busy": "2025-06-10T13:14:46.932067Z",
          "iopub.status.idle": "2025-06-10T13:14:48.211583Z",
          "shell.execute_reply": "2025-06-10T13:14:48.210759Z"
        },
        "id": "d5709249",
        "outputId": "b655f100-fafd-488f-ef5a-cbf291c59508",
        "papermill": {
          "duration": 1.319488,
          "end_time": "2025-06-10T13:14:48.215459",
          "exception": false,
          "start_time": "2025-06-10T13:14:46.895971",
          "status": "completed"
        },
        "tags": []
      },
      "outputs": [
        {
          "name": "stdout",
          "output_type": "stream",
          "text": [
            "converged SCF energy = -231.719982211668\n",
            "Energy gap: 0.380283 Hartree\n"
          ]
        }
      ],
      "source": [
        "def read_xyz(file_path):\n",
        "    \"\"\"Reads an XYZ file and returns the atomic coordinates as a string.\"\"\"\n",
        "    with open(file_path, 'r') as f:\n",
        "        lines = f.readlines()\n",
        "    # Ignore the first two lines (atom count and comment)\n",
        "    return ''.join(lines[2:])\n",
        "\n",
        "def main():\n",
        "    # Step 1: Read the .xyz file\n",
        "    xyz_file = F'{molecule_name}_optimization.xyz'\n",
        "    atomic_coords = read_xyz(xyz_file)\n",
        "\n",
        "    # Step 2: Set up the molecule\n",
        "    mol = gto.M(\n",
        "        atom=atomic_coords,\n",
        "        basis='6-31G'\n",
        "    )\n",
        "\n",
        "    # Step 3: Run the SCF calculation\n",
        "    mf = scf.RHF(mol)\n",
        "    mf.kernel()\n",
        "\n",
        "    # Step 4: Extract the HOMO and LUMO energies\n",
        "    mo_energies = mf.mo_energy\n",
        "    homo_idx = mol.nelectron // 2 - 1\n",
        "    lumo_idx = homo_idx + 1\n",
        "    homo_energy = mo_energies[homo_idx]\n",
        "    lumo_energy = mo_energies[lumo_idx]\n",
        "    energy_gap = lumo_energy - homo_energy\n",
        "\n",
        "#    print(f'HOMO energy: {homo_energy:.6f} Hartree')\n",
        "#    print(f'LUMO energy: {lumo_energy:.6f} Hartree')\n",
        "    print(f'Energy gap: {energy_gap:.6f} Hartree')\n",
        "    return energy_gap\n",
        "\n",
        "if __name__ == '__main__':\n",
        "    energy3 = main()\n"
      ]
    },
    {
      "cell_type": "markdown",
      "id": "8101a9a0",
      "metadata": {
        "id": "8101a9a0",
        "papermill": {
          "duration": 0.038482,
          "end_time": "2025-06-10T13:14:48.319069",
          "exception": false,
          "start_time": "2025-06-10T13:14:48.280587",
          "status": "completed"
        },
        "tags": []
      },
      "source": [
        "# Putting it all together!"
      ]
    },
    {
      "cell_type": "markdown",
      "id": "a61c0fe8",
      "metadata": {
        "papermill": {
          "duration": 0.034898,
          "end_time": "2025-06-10T13:14:48.390846",
          "exception": false,
          "start_time": "2025-06-10T13:14:48.355948",
          "status": "completed"
        },
        "tags": [],
        "id": "a61c0fe8"
      },
      "source": [
        "## Energy vs Number of Double Bonds\n",
        "There is a linear relationship between the energy gap of a molecule and the inverse of the number of double bonds. Using this relationship, we can predict the color of molecules with different numbers of double bonds."
      ]
    },
    {
      "cell_type": "code",
      "execution_count": null,
      "id": "bd3f5db5",
      "metadata": {
        "cellView": "form",
        "execution": {
          "iopub.execute_input": "2025-06-10T13:14:48.463367Z",
          "iopub.status.busy": "2025-06-10T13:14:48.463057Z",
          "iopub.status.idle": "2025-06-10T13:14:48.707081Z",
          "shell.execute_reply": "2025-06-10T13:14:48.706124Z"
        },
        "id": "bd3f5db5",
        "outputId": "e913522f-ee0d-4d12-cc10-46ab4a87dfd8",
        "papermill": {
          "duration": 0.281685,
          "end_time": "2025-06-10T13:14:48.708735",
          "exception": false,
          "start_time": "2025-06-10T13:14:48.427050",
          "status": "completed"
        },
        "tags": []
      },
      "outputs": [
        {
          "data": {
            "image/png": "[encoded data removed]",
            "text/plain": [
              "<Figure size 640x480 with 1 Axes>"
            ]
          },
          "metadata": {},
          "output_type": "display_data"
        }
      ],
      "source": [
        "# Define the three points\n",
        "energy1ev = energy1 * 27.2114\n",
        "energy2ev = energy2 * 27.2114\n",
        "energy3ev = energy3 * 27.2114\n",
        "\n",
        "x = np.array([1, 1/2, 1/3])\n",
        "y = np.array([energy1ev, energy2ev, energy3ev])\n",
        "\n",
        "# Fit a line to the points\n",
        "coefficients = np.polyfit(x, y, 1)\n",
        "trendline = np.poly1d(coefficients)\n",
        "\n",
        "# Create values for the trendline\n",
        "x_fit = np.linspace(min(x), max(x), 100)\n",
        "y_fit = trendline(x_fit)\n",
        "\n",
        "# Plot the points\n",
        "plt.scatter(x, y, color='blue', label='Data Points')\n",
        "\n",
        "# Plot the trendline\n",
        "plt.plot(x_fit, y_fit, color='red', label='Trendline')\n",
        "\n",
        "# Annotate the equation of the line\n",
        "equation_text = f'y = {coefficients[0]:.2f}x + {coefficients[1]:.2f}'\n",
        "plt.text(0, 16, equation_text, fontsize=12, color='red')\n",
        "\n",
        "# Add labels and title\n",
        "plt.xlabel('1/# of Double Bonds')\n",
        "plt.ylabel('Energy (eV)')\n",
        "#plt.title('Plot of Points with Trendline')\n",
        "#plt.legend()\n",
        "plt.grid(True)\n",
        "\n",
        "# Show the plot\n",
        "plt.show()"
      ]
    },
    {
      "cell_type": "markdown",
      "id": "230757e5",
      "metadata": {
        "id": "230757e5",
        "papermill": {
          "duration": 0.035351,
          "end_time": "2025-06-10T13:14:48.780988",
          "exception": false,
          "start_time": "2025-06-10T13:14:48.745637",
          "status": "completed"
        },
        "tags": []
      },
      "source": [
        "## Interactive Slider: Conjugation Length vs. Color  \n",
        "Color and energy are related by the following expression:\n",
        "\n",
        "![nrglambda.png](attachment:02091617-4ae9-4c70-b790-bcac68701844.png)\n",
        "\n",
        "The constant h is Planck's constant and c is the speed of light. E is the energy of the light and λ is the color. At the very bottom of this notebook are a couple of calculators to convert between energy and wavelength so do not worry about doing calculations by hand.\n",
        "\n",
        "Use the slider to see how adding conjugated π‑bonds shifts λ (wavelength) and color."
      ]
    },
    {
      "cell_type": "code",
      "execution_count": null,
      "id": "ee398601",
      "metadata": {
        "cellView": "form",
        "execution": {
          "iopub.execute_input": "2025-06-10T13:14:48.853251Z",
          "iopub.status.busy": "2025-06-10T13:14:48.852889Z",
          "iopub.status.idle": "2025-06-10T13:14:48.887148Z",
          "shell.execute_reply": "2025-06-10T13:14:48.886152Z"
        },
        "id": "ee398601",
        "outputId": "d5c24490-972d-4495-aeee-769931c44645",
        "papermill": {
          "duration": 0.072692,
          "end_time": "2025-06-10T13:14:48.889327",
          "exception": false,
          "start_time": "2025-06-10T13:14:48.816635",
          "status": "completed"
        },
        "tags": [],
        "colab": {
          "referenced_widgets": [
            "7031d2c18d184ee0b5f78b60c874585b"
          ]
        }
      },
      "outputs": [
        {
          "data": {
            "application/vnd.jupyter.widget-view+json": {
              "model_id": "7031d2c18d184ee0b5f78b60c874585b",
              "version_major": 2,
              "version_minor": 0
            },
            "text/plain": [
              "interactive(children=(IntSlider(value=2, description='Double Bonds', max=8, min=1), Output()), _dom_classes=('…"
            ]
          },
          "metadata": {},
          "output_type": "display_data"
        },
        {
          "data": {
            "text/plain": [
              "<function __main__.draw_conjugated(n)>"
            ]
          },
          "execution_count": 15,
          "metadata": {},
          "output_type": "execute_result"
        }
      ],
      "source": [
        "def wavelength_to_color(wl):\n",
        "    if wl < 450: return 'Violet'\n",
        "    elif wl < 500: return 'Blue'\n",
        "    elif wl < 570: return 'Green'\n",
        "    elif wl < 590: return 'Yellow'\n",
        "    elif wl < 620: return 'Orange'\n",
        "    else: return 'Red'\n",
        "\n",
        "def draw_conjugated(n):\n",
        "    if n==1:\n",
        "      smiles = 'C=' + 'C'\n",
        "    else:\n",
        "      smiles = 'C=' + 'C' + ('C=C' * (n-1))\n",
        "    mol = Chem.MolFromSmiles(smiles)\n",
        "    img = MolToImage(mol, size=(200,100))\n",
        "    display(img)\n",
        "    wavelength = 200 + 50 * n  # illustrative only\n",
        "    color = wavelength_to_color(wavelength)\n",
        "    display(f'Predicted λ = {wavelength} nm → {color}')\n",
        "\n",
        "slider = widgets.IntSlider(value=2, min=1, max=8, description='Double Bonds')\n",
        "widgets.interact(draw_conjugated, n=slider)"
      ]
    },
    {
      "cell_type": "markdown",
      "id": "9127fb7f",
      "metadata": {
        "id": "9127fb7f",
        "papermill": {
          "duration": 0.035432,
          "end_time": "2025-06-10T13:14:48.963909",
          "exception": false,
          "start_time": "2025-06-10T13:14:48.928477",
          "status": "completed"
        },
        "tags": []
      },
      "source": [
        "### Molecular Detective  \n",
        "For each clue, select the correct pigment. Practice counting the number of double bonds!\n",
        "![conj.png](attachment:5d999426-853e-4c08-8c71-98e112792155.png)"
      ]
    },
    {
      "cell_type": "code",
      "execution_count": null,
      "id": "3620a7c5",
      "metadata": {
        "cellView": "form",
        "execution": {
          "iopub.execute_input": "2025-06-10T13:14:49.036835Z",
          "iopub.status.busy": "2025-06-10T13:14:49.036480Z",
          "iopub.status.idle": "2025-06-10T13:14:49.072852Z",
          "shell.execute_reply": "2025-06-10T13:14:49.071912Z"
        },
        "id": "3620a7c5",
        "outputId": "198520e0-60d3-45b0-eb5e-8acbdeabb3b9",
        "papermill": {
          "duration": 0.074717,
          "end_time": "2025-06-10T13:14:49.074320",
          "exception": false,
          "start_time": "2025-06-10T13:14:48.999603",
          "status": "completed"
        },
        "tags": [],
        "colab": {
          "referenced_widgets": [
            "f7e2cf44dcec428b832ecc544710db51",
            "4dda3dc0a2494593a150b39ac83510df",
            "33c626dd97c546afa8e5b25027c30551",
            "168534b5d41848ca8ff11f20a2645ef5",
            "34a74379c1424624bcc759b42b9e4042",
            "0f56b4267bee4a12a2e9278582baaeb7",
            "ef1ad5c935c14cfaa8bf41942a8b2acf"
          ]
        }
      },
      "outputs": [
        {
          "data": {
            "text/plain": [
              "'Clue 1: 11 double bonds; colors carrots orange.'"
            ]
          },
          "metadata": {},
          "output_type": "display_data"
        },
        {
          "data": {
            "application/vnd.jupyter.widget-view+json": {
              "model_id": "f7e2cf44dcec428b832ecc544710db51",
              "version_major": 2,
              "version_minor": 0
            },
            "text/plain": [
              "Dropdown(description='Molecule:', options=('Anthocyanin', 'Beta-Carotene', 'Chlorophyll a'), value='Anthocyani…"
            ]
          },
          "metadata": {},
          "output_type": "display_data"
        },
        {
          "data": {
            "application/vnd.jupyter.widget-view+json": {
              "model_id": "4dda3dc0a2494593a150b39ac83510df",
              "version_major": 2,
              "version_minor": 0
            },
            "text/plain": [
              "Output()"
            ]
          },
          "metadata": {},
          "output_type": "display_data"
        },
        {
          "data": {
            "text/plain": [
              "'Clue 2: 15 double bonds; reflects green in leaves.'"
            ]
          },
          "metadata": {},
          "output_type": "display_data"
        },
        {
          "data": {
            "application/vnd.jupyter.widget-view+json": {
              "model_id": "33c626dd97c546afa8e5b25027c30551",
              "version_major": 2,
              "version_minor": 0
            },
            "text/plain": [
              "Dropdown(description='Molecule:', options=('Chlorophyll a', 'Beta-Carotene', 'Anthocyanin'), value='Chlorophyl…"
            ]
          },
          "metadata": {},
          "output_type": "display_data"
        },
        {
          "data": {
            "application/vnd.jupyter.widget-view+json": {
              "model_id": "168534b5d41848ca8ff11f20a2645ef5",
              "version_major": 2,
              "version_minor": 0
            },
            "text/plain": [
              "Output()"
            ]
          },
          "metadata": {},
          "output_type": "display_data"
        },
        {
          "data": {
            "text/plain": [
              "'Clue 3: 8 double bonds; flavonoid giving grapes/berries red-purple hue.'"
            ]
          },
          "metadata": {},
          "output_type": "display_data"
        },
        {
          "data": {
            "application/vnd.jupyter.widget-view+json": {
              "model_id": "34a74379c1424624bcc759b42b9e4042",
              "version_major": 2,
              "version_minor": 0
            },
            "text/plain": [
              "Dropdown(description='Molecule:', options=('Beta-Carotene', 'Chlorophyll a', 'Anthocyanin'), value='Beta-Carot…"
            ]
          },
          "metadata": {},
          "output_type": "display_data"
        },
        {
          "data": {
            "application/vnd.jupyter.widget-view+json": {
              "model_id": "0f56b4267bee4a12a2e9278582baaeb7",
              "version_major": 2,
              "version_minor": 0
            },
            "text/plain": [
              "Output()"
            ]
          },
          "metadata": {},
          "output_type": "display_data"
        },
        {
          "data": {
            "application/vnd.jupyter.widget-view+json": {
              "model_id": "ef1ad5c935c14cfaa8bf41942a8b2acf",
              "version_major": 2,
              "version_minor": 0
            },
            "text/plain": [
              "Button(description='Check All', style=ButtonStyle())"
            ]
          },
          "metadata": {},
          "output_type": "display_data"
        }
      ],
      "source": [
        "# Clues & answers\n",
        "questions = [\n",
        "    {'clue':'11 double bonds; colors carrots orange.','answer':'Beta-Carotene'},\n",
        "    {'clue':'15 double bonds; reflects green in leaves.','answer':'Chlorophyll a'},\n",
        "    {'clue':'8 double bonds; flavonoid giving grapes/berries red-purple hue.','answer':'Anthocyanin'}\n",
        "]\n",
        "options_master = ['Beta-Carotene','Chlorophyll a','Anthocyanin']\n",
        "\n",
        "dropdowns = []\n",
        "for i, q in enumerate(questions, 1):\n",
        "    display(f\"Clue {i}: {q['clue']}\")\n",
        "    opts = random.sample(options_master, 3)\n",
        "    dd = widgets.Dropdown(options=opts, description='Molecule:')\n",
        "    out = widgets.Output()\n",
        "    dropdowns.append((dd, q['answer'], out))\n",
        "    display(dd, out)\n",
        "\n",
        "submit = widgets.Button(description='Check All')\n",
        "\n",
        "def on_click(b):\n",
        "    for dd, ans, out in dropdowns:\n",
        "        with out:\n",
        "            out.clear_output()\n",
        "            print('Correct!' if dd.value == ans else f'Incorrect (Answer: {ans})')\n",
        "submit.on_click(on_click)\n",
        "display(submit)"
      ]
    },
    {
      "cell_type": "markdown",
      "id": "1f4005f9",
      "metadata": {
        "id": "1f4005f9",
        "papermill": {
          "duration": 0.036654,
          "end_time": "2025-06-10T13:14:49.147736",
          "exception": false,
          "start_time": "2025-06-10T13:14:49.111082",
          "status": "completed"
        },
        "tags": []
      },
      "source": [
        "### Matching Game: Molecule ↔ Color  \n",
        "Match each pigment to its observed color and real‑world application. Remember the trend between color and number of double bonds!\n",
        "![moles.png](attachment:29e3ca0c-ec86-4807-87c9-4511cfd2f3a7.png)"
      ]
    },
    {
      "cell_type": "code",
      "execution_count": null,
      "id": "12753694",
      "metadata": {
        "_kg_hide-input": true,
        "cellView": "form",
        "execution": {
          "iopub.execute_input": "2025-06-10T13:14:49.222721Z",
          "iopub.status.busy": "2025-06-10T13:14:49.222378Z",
          "iopub.status.idle": "2025-06-10T13:14:49.248309Z",
          "shell.execute_reply": "2025-06-10T13:14:49.247413Z"
        },
        "id": "12753694",
        "outputId": "de8a6fe0-e58c-41d0-d8c1-d4c0cb0e659e",
        "papermill": {
          "duration": 0.065427,
          "end_time": "2025-06-10T13:14:49.250143",
          "exception": false,
          "start_time": "2025-06-10T13:14:49.184716",
          "status": "completed"
        },
        "tags": [],
        "colab": {
          "referenced_widgets": [
            "430f696668b843f392430ce5e2819092",
            "a0d6e754ebf84c4096251f3ed7d4cfd2",
            "85172988e1604db2bbcfb613c8f422d2",
            "96396f68837247c491ab02d5029ac3f2",
            "0e4d0023f2cd450b8d6284378a3032a0"
          ]
        }
      },
      "outputs": [
        {
          "data": {
            "application/vnd.jupyter.widget-view+json": {
              "model_id": "430f696668b843f392430ce5e2819092",
              "version_major": 2,
              "version_minor": 0
            },
            "text/plain": [
              "Dropdown(description='Red', options=('Molecule 1', 'Molecule 3', 'Molecule 2'), value='Molecule 1')"
            ]
          },
          "metadata": {},
          "output_type": "display_data"
        },
        {
          "data": {
            "application/vnd.jupyter.widget-view+json": {
              "model_id": "a0d6e754ebf84c4096251f3ed7d4cfd2",
              "version_major": 2,
              "version_minor": 0
            },
            "text/plain": [
              "Dropdown(description='Green', options=('Molecule 2', 'Molecule 3', 'Molecule 1'), value='Molecule 2')"
            ]
          },
          "metadata": {},
          "output_type": "display_data"
        },
        {
          "data": {
            "application/vnd.jupyter.widget-view+json": {
              "model_id": "85172988e1604db2bbcfb613c8f422d2",
              "version_major": 2,
              "version_minor": 0
            },
            "text/plain": [
              "Dropdown(description='Blue', options=('Molecule 2', 'Molecule 3', 'Molecule 1'), value='Molecule 2')"
            ]
          },
          "metadata": {},
          "output_type": "display_data"
        },
        {
          "data": {
            "application/vnd.jupyter.widget-view+json": {
              "model_id": "96396f68837247c491ab02d5029ac3f2",
              "version_major": 2,
              "version_minor": 0
            },
            "text/plain": [
              "Button(description='Check Answers', style=ButtonStyle())"
            ]
          },
          "metadata": {},
          "output_type": "display_data"
        },
        {
          "data": {
            "application/vnd.jupyter.widget-view+json": {
              "model_id": "0e4d0023f2cd450b8d6284378a3032a0",
              "version_major": 2,
              "version_minor": 0
            },
            "text/plain": [
              "Output()"
            ]
          },
          "metadata": {},
          "output_type": "display_data"
        }
      ],
      "source": [
        "import random\n",
        "# Pigment data\n",
        "molecules = {\n",
        "    'Molecule 1': 'Green',\n",
        "    'Molecule 2': 'Red',\n",
        "    'Molecule 3': 'Blue',\n",
        "}\n",
        "real_world = {\n",
        "    'Molecule 1': 'used as an antimicrobial in aquaculture (Malachite Green)',\n",
        "    'Molecule 2': 'found commonly as a dye in food (Red 40)',\n",
        "    'Molecule 3': 'used in microscopy stains (Methylene Blue)'\n",
        "}\n",
        "\n",
        "colors = list(set(molecules.values()))\n",
        "dropdowns = []\n",
        "for color in colors:\n",
        "    opts = list(molecules.keys())\n",
        "    random.shuffle(opts)\n",
        "    dd = widgets.Dropdown(options=opts, description=color)\n",
        "    dropdowns.append((dd, color))\n",
        "\n",
        "submit = widgets.Button(description='Check Answers')\n",
        "output = widgets.Output()\n",
        "\n",
        "def check(b):\n",
        "    with output:\n",
        "        output.clear_output()\n",
        "        for dd, color in dropdowns:\n",
        "            choice = dd.value\n",
        "            correct = [mol for mol, col in molecules.items() if col == color]\n",
        "            if choice in correct:\n",
        "                print(f'{color}: {choice} ✔️ — {choice} {real_world[choice]}')\n",
        "            else:\n",
        "                print(f'{color}: {choice} ❌ (Expected one of {correct})')\n",
        "\n",
        "submit.on_click(check)\n",
        "display(*[dd for dd,_ in dropdowns], submit, output)"
      ]
    },
    {
      "cell_type": "markdown",
      "id": "fc1af1f3",
      "metadata": {
        "id": "fc1af1f3",
        "papermill": {
          "duration": 0.036945,
          "end_time": "2025-06-10T13:14:49.324404",
          "exception": false,
          "start_time": "2025-06-10T13:14:49.287459",
          "status": "completed"
        },
        "tags": []
      },
      "source": [
        "### Quiz: Photon Energy & Wavelength  \n",
        "Test your understanding. Remember that calculators can be found at the end of the notebook and the visible spectrum with wavelengths of colors can be found in the introduction."
      ]
    },
    {
      "cell_type": "code",
      "execution_count": null,
      "id": "fbe437ad",
      "metadata": {
        "_kg_hide-input": true,
        "cellView": "form",
        "execution": {
          "iopub.execute_input": "2025-06-10T13:14:49.401306Z",
          "iopub.status.busy": "2025-06-10T13:14:49.400917Z",
          "iopub.status.idle": "2025-06-10T13:14:49.430879Z",
          "shell.execute_reply": "2025-06-10T13:14:49.429998Z"
        },
        "id": "fbe437ad",
        "outputId": "54b2c3d8-caa7-48e1-cb0d-9c933a8a4844",
        "papermill": {
          "duration": 0.069876,
          "end_time": "2025-06-10T13:14:49.432402",
          "exception": false,
          "start_time": "2025-06-10T13:14:49.362526",
          "status": "completed"
        },
        "tags": [],
        "colab": {
          "referenced_widgets": [
            "b88fe802869541ab91226cd4444d67c5",
            "ad16d8c5381b40e5999eb1a2de182c5d",
            "7de38d7757b04e6c9616b4e3d5b9115a",
            "889f92d67af441769d4c10e4a078ebab",
            "928a219ddcf142adba1579e35f25d396"
          ]
        }
      },
      "outputs": [
        {
          "data": {
            "text/plain": [
              "'λ=700 nm corresponds to:'"
            ]
          },
          "metadata": {},
          "output_type": "display_data"
        },
        {
          "data": {
            "application/vnd.jupyter.widget-view+json": {
              "model_id": "b88fe802869541ab91226cd4444d67c5",
              "version_major": 2,
              "version_minor": 0
            },
            "text/plain": [
              "RadioButtons(options=('Blue', 'Green', 'Violet', 'Red'), value='Blue')"
            ]
          },
          "metadata": {},
          "output_type": "display_data"
        },
        {
          "data": {
            "text/plain": [
              "'Highest energy wavelength:'"
            ]
          },
          "metadata": {},
          "output_type": "display_data"
        },
        {
          "data": {
            "application/vnd.jupyter.widget-view+json": {
              "model_id": "ad16d8c5381b40e5999eb1a2de182c5d",
              "version_major": 2,
              "version_minor": 0
            },
            "text/plain": [
              "RadioButtons(options=('550 nm', '450 nm', '650 nm'), value='550 nm')"
            ]
          },
          "metadata": {},
          "output_type": "display_data"
        },
        {
          "data": {
            "text/plain": [
              "'Absorption at 520 nm makes molecule appear:'"
            ]
          },
          "metadata": {},
          "output_type": "display_data"
        },
        {
          "data": {
            "application/vnd.jupyter.widget-view+json": {
              "model_id": "7de38d7757b04e6c9616b4e3d5b9115a",
              "version_major": 2,
              "version_minor": 0
            },
            "text/plain": [
              "RadioButtons(options=('Green', 'Orange', 'Yellow'), value='Green')"
            ]
          },
          "metadata": {},
          "output_type": "display_data"
        },
        {
          "data": {
            "application/vnd.jupyter.widget-view+json": {
              "model_id": "889f92d67af441769d4c10e4a078ebab",
              "version_major": 2,
              "version_minor": 0
            },
            "text/plain": [
              "Button(description='Submit Quiz', style=ButtonStyle())"
            ]
          },
          "metadata": {},
          "output_type": "display_data"
        },
        {
          "data": {
            "application/vnd.jupyter.widget-view+json": {
              "model_id": "928a219ddcf142adba1579e35f25d396",
              "version_major": 2,
              "version_minor": 0
            },
            "text/plain": [
              "Output()"
            ]
          },
          "metadata": {},
          "output_type": "display_data"
        }
      ],
      "source": [
        "# Quiz questions\n",
        "questions = [\n",
        "    {'prompt':'λ=700 nm corresponds to:','options':['Blue','Green','Red','Violet'],'answer':'Red'},\n",
        "    {'prompt':'Highest energy wavelength:','options':['450 nm','550 nm','650 nm'],'answer':'450 nm'},\n",
        "    {'prompt':'Absorption at 520 nm makes molecule appear:','options':['Green','Yellow','Orange'],'answer':'Green'}\n",
        "]\n",
        "\n",
        "widgets_list = []\n",
        "for q in questions:\n",
        "    display(q['prompt'])\n",
        "    opts = q['options'][:]\n",
        "    random.shuffle(opts)\n",
        "    rb = widgets.RadioButtons(options=opts, description='')\n",
        "    widgets_list.append((rb, q['answer']))\n",
        "    display(rb)\n",
        "\n",
        "submit = widgets.Button(description='Submit Quiz')\n",
        "output = widgets.Output()\n",
        "def grade_q(b):\n",
        "    with output:\n",
        "        output.clear_output()\n",
        "        score = sum(1 for rb, ans in widgets_list if rb.value == ans)\n",
        "        print(f'Score: {score}/{len(widgets_list)}')\n",
        "submit.on_click(grade_q)\n",
        "display(submit, output)"
      ]
    },
    {
      "cell_type": "markdown",
      "id": "92fc7251",
      "metadata": {
        "id": "92fc7251",
        "papermill": {
          "duration": 0.03774,
          "end_time": "2025-06-10T13:14:49.508172",
          "exception": false,
          "start_time": "2025-06-10T13:14:49.470432",
          "status": "completed"
        },
        "tags": []
      },
      "source": [
        "This module was developed as part of grant received from the National Science Foundation, Award Number 1905734.\n",
        "\n",
        "\n",
        "Copyright 2025-2026, University of Kentucky\n",
        "\n",
        "Designed by Megan Brown and Nolan Lok"
      ]
    },
    {
      "cell_type": "markdown",
      "id": "e82d61fb",
      "metadata": {
        "papermill": {
          "duration": 0.037131,
          "end_time": "2025-06-10T13:14:49.582821",
          "exception": false,
          "start_time": "2025-06-10T13:14:49.545690",
          "status": "completed"
        },
        "tags": [],
        "id": "e82d61fb"
      },
      "source": [
        "# Calculators\n",
        "### Energy (eV) to Wavelength (nm)"
      ]
    },
    {
      "cell_type": "code",
      "execution_count": null,
      "id": "9b062e06",
      "metadata": {
        "execution": {
          "iopub.execute_input": "2025-06-10T13:14:49.659803Z",
          "iopub.status.busy": "2025-06-10T13:14:49.659468Z",
          "iopub.status.idle": "2025-06-10T13:14:49.809192Z",
          "shell.execute_reply": "2025-06-10T13:14:49.807998Z"
        },
        "papermill": {
          "duration": 0.189524,
          "end_time": "2025-06-10T13:14:49.810423",
          "exception": true,
          "start_time": "2025-06-10T13:14:49.620899",
          "status": "failed"
        },
        "tags": [],
        "id": "9b062e06",
        "outputId": "5d02023a-6dce-46ce-ca8c-b2b054c52331"
      },
      "outputs": [
        {
          "ename": "StdinNotImplementedError",
          "evalue": "raw_input was called, but this frontend does not support input requests.",
          "output_type": "error",
          "traceback": [
            "\u001b[0;31m---------------------------------------------------------------------------\u001b[0m",
            "\u001b[0;31mStdinNotImplementedError\u001b[0m                  Traceback (most recent call last)",
            "\u001b[0;32m/tmp/ipykernel_13/2931849383.py\u001b[0m in \u001b[0;36m<cell line: 0>\u001b[0;34m()\u001b[0m\n\u001b[1;32m      1\u001b[0m \u001b[0;31m# Converts energy in electron volts to wavelength in nanometers\u001b[0m\u001b[0;34m\u001b[0m\u001b[0;34m\u001b[0m\u001b[0m\n\u001b[0;32m----> 2\u001b[0;31m \u001b[0menergy_ev\u001b[0m \u001b[0;34m=\u001b[0m \u001b[0mfloat\u001b[0m\u001b[0;34m(\u001b[0m\u001b[0minput\u001b[0m\u001b[0;34m(\u001b[0m\u001b[0;34m\"Enter your energy in electron volts:\\n\"\u001b[0m\u001b[0;34m)\u001b[0m\u001b[0;34m)\u001b[0m\u001b[0;34m\u001b[0m\u001b[0;34m\u001b[0m\u001b[0m\n\u001b[0m\u001b[1;32m      3\u001b[0m \u001b[0mh\u001b[0m \u001b[0;34m=\u001b[0m \u001b[0;36m6.626\u001b[0m\u001b[0;34m*\u001b[0m\u001b[0;36m10\u001b[0m\u001b[0;34m**\u001b[0m\u001b[0;34m-\u001b[0m\u001b[0;36m34\u001b[0m \u001b[0;31m# m^2*kg/s\u001b[0m\u001b[0;34m\u001b[0m\u001b[0;34m\u001b[0m\u001b[0m\n\u001b[1;32m      4\u001b[0m \u001b[0mc\u001b[0m \u001b[0;34m=\u001b[0m \u001b[0;36m2.998\u001b[0m\u001b[0;34m*\u001b[0m\u001b[0;36m10\u001b[0m\u001b[0;34m**\u001b[0m\u001b[0;36m8\u001b[0m \u001b[0;31m# m/s\u001b[0m\u001b[0;34m\u001b[0m\u001b[0;34m\u001b[0m\u001b[0m\n\u001b[1;32m      5\u001b[0m \u001b[0menergy_j\u001b[0m \u001b[0;34m=\u001b[0m \u001b[0menergy_ev\u001b[0m\u001b[0;34m*\u001b[0m\u001b[0;34m(\u001b[0m\u001b[0;36m1.602\u001b[0m\u001b[0;34m*\u001b[0m\u001b[0;36m10\u001b[0m\u001b[0;34m**\u001b[0m\u001b[0;34m-\u001b[0m\u001b[0;36m19\u001b[0m\u001b[0;34m)\u001b[0m\u001b[0;34m\u001b[0m\u001b[0;34m\u001b[0m\u001b[0m\n",
            "\u001b[0;32m/usr/local/lib/python3.11/dist-packages/ipykernel/kernelbase.py\u001b[0m in \u001b[0;36mraw_input\u001b[0;34m(self, prompt)\u001b[0m\n\u001b[1;32m   1172\u001b[0m         \"\"\"\n\u001b[1;32m   1173\u001b[0m         \u001b[0;32mif\u001b[0m \u001b[0;32mnot\u001b[0m \u001b[0mself\u001b[0m\u001b[0;34m.\u001b[0m\u001b[0m_allow_stdin\u001b[0m\u001b[0;34m:\u001b[0m\u001b[0;34m\u001b[0m\u001b[0;34m\u001b[0m\u001b[0m\n\u001b[0;32m-> 1174\u001b[0;31m             raise StdinNotImplementedError(\n\u001b[0m\u001b[1;32m   1175\u001b[0m                 \u001b[0;34m\"raw_input was called, but this frontend does not support input requests.\"\u001b[0m\u001b[0;34m\u001b[0m\u001b[0;34m\u001b[0m\u001b[0m\n\u001b[1;32m   1176\u001b[0m             )\n",
            "\u001b[0;31mStdinNotImplementedError\u001b[0m: raw_input was called, but this frontend does not support input requests."
          ]
        }
      ],
      "source": [
        "# Converts energy in electron volts to wavelength in nanometers\n",
        "energy_ev = float(input(\"Enter your energy in electron volts:\\n\"))\n",
        "h = 6.626*10**-34 # m^2*kg/s\n",
        "c = 2.998*10**8 # m/s\n",
        "energy_j = energy_ev*(1.602*10**-19)\n",
        "lambda_m = (h*c)/energy_j\n",
        "lambda_nm = round(lambda_m * 1*10**9,2)\n",
        "print(f\"Wavelength = {lambda_nm} nm\")"
      ]
    },
    {
      "cell_type": "markdown",
      "id": "0b07d02c",
      "metadata": {
        "papermill": {
          "duration": null,
          "end_time": null,
          "exception": null,
          "start_time": null,
          "status": "pending"
        },
        "tags": [],
        "id": "0b07d02c"
      },
      "source": [
        "### Wavelength to Energy"
      ]
    },
    {
      "cell_type": "code",
      "execution_count": null,
      "id": "27404eb8",
      "metadata": {
        "execution": {
          "iopub.execute_input": "2025-06-10T12:15:55.340581Z",
          "iopub.status.busy": "2025-06-10T12:15:55.340327Z",
          "iopub.status.idle": "2025-06-10T12:16:00.007222Z",
          "shell.execute_reply": "2025-06-10T12:16:00.006257Z",
          "shell.execute_reply.started": "2025-06-10T12:15:55.340560Z"
        },
        "papermill": {
          "duration": null,
          "end_time": null,
          "exception": null,
          "start_time": null,
          "status": "pending"
        },
        "tags": [],
        "id": "27404eb8"
      },
      "outputs": [],
      "source": [
        "# Converts wavelength in nanometers to energy in electron volts\n",
        "lambda_nm = float(input(\"Enter your wavelength in nanometers:\\n\"))\n",
        "h = 6.626*10**-34 # m^2*kg/s\n",
        "c = 2.998*10**8 # m/s\n",
        "lambda_m = lambda_nm*10**-9\n",
        "energy_j = (h*c)/lambda_m\n",
        "energy_ev = round(energy_j*6.242*10**18,2)\n",
        "print(f\"Energy = {energy_ev} eV\")"
      ]
    }
  ],
  "metadata": {
    "colab": {
      "provenance": []
    },
    "kaggle": {
      "accelerator": "none",
      "dataSources": [],
      "dockerImageVersionId": 31040,
      "isGpuEnabled": false,
      "isInternetEnabled": true,
      "language": "python",
      "sourceType": "notebook"
    },
    "kernelspec": {
      "display_name": "Python 3",
      "language": "python",
      "name": "python3"
    },
    "language_info": {
      "codemirror_mode": {
        "name": "ipython",
        "version": 3
      },
      "file_extension": ".py",
      "mimetype": "text/x-python",
      "name": "python",
      "nbconvert_exporter": "python",
      "pygments_lexer": "ipython3",
      "version": "3.11.11"
    },
    "papermill": {
      "default_parameters": {},
      "duration": 244.560381,
      "end_time": "2025-06-10T13:14:50.469879",
      "environment_variables": {},
      "exception": true,
      "input_path": "__notebook__.ipynb",
      "output_path": "__notebook__.ipynb",
      "parameters": {},
      "start_time": "2025-06-10T13:10:45.909498",
      "version": "2.6.0"
    },
    "widgets": {
      "application/vnd.jupyter.widget-state+json": {}
    }
  },
  "nbformat": 4,
  "nbformat_minor": 5
}