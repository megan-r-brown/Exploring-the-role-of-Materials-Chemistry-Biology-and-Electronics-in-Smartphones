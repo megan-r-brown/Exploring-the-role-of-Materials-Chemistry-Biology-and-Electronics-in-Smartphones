{
 "cells": [
  {
   "cell_type": "markdown",
   "id": "51865e9d",
   "metadata": {
    "id": "4c00c8da",
    "papermill": {
     "duration": 0.020963,
     "end_time": "2025-06-10T14:35:54.318903",
     "exception": false,
     "start_time": "2025-06-10T14:35:54.297940",
     "status": "completed"
    },
    "tags": []
   },
   "source": [
    "# Molecular Structure and Color  \n",
    "\n",
    "\n",
    "---"
   ]
  },
  {
   "cell_type": "markdown",
   "id": "e4eb1f18",
   "metadata": {
    "id": "7e806605",
    "papermill": {
     "duration": 0.018922,
     "end_time": "2025-06-10T14:35:54.357805",
     "exception": false,
     "start_time": "2025-06-10T14:35:54.338883",
     "status": "completed"
    },
    "tags": []
   },
   "source": [
    "## Objectives:  \n",
    "1. Explain how molecular structure (conjugation, π‑bonds) affects color.  \n",
    "2. Relate photon energy and wavelength to observed color.  \n",
    "3. Compute energy gaps to predict absorption wavelengths for real molecules."
   ]
  },
  {
   "cell_type": "markdown",
   "id": "aa749d25",
   "metadata": {
    "id": "bce26d7d",
    "papermill": {
     "duration": 0.018896,
     "end_time": "2025-06-10T14:35:54.395481",
     "exception": false,
     "start_time": "2025-06-10T14:35:54.376585",
     "status": "completed"
    },
    "tags": []
   },
   "source": [
    "## Setup \n",
    "First run this cell to install dependencies and enable widgets:"
   ]
  },
  {
   "cell_type": "code",
   "execution_count": 1,
   "id": "650c1c1d",
   "metadata": {
    "_kg_hide-input": true,
    "cellView": "form",
    "execution": {
     "iopub.execute_input": "2025-06-10T14:35:54.435649Z",
     "iopub.status.busy": "2025-06-10T14:35:54.434578Z",
     "iopub.status.idle": "2025-06-10T14:36:30.525837Z",
     "shell.execute_reply": "2025-06-10T14:36:30.524751Z"
    },
    "id": "84e6637c",
    "papermill": {
     "duration": 36.113218,
     "end_time": "2025-06-10T14:36:30.527785",
     "exception": false,
     "start_time": "2025-06-10T14:35:54.414567",
     "status": "completed"
    },
    "tags": []
   },
   "outputs": [
    {
     "name": "stdout",
     "output_type": "stream",
     "text": [
      "Collecting pyscf\r\n",
      "  Downloading pyscf-2.9.0-py3-none-manylinux_2_17_x86_64.manylinux2014_x86_64.whl.metadata (6.4 kB)\r\n",
      "Requirement already satisfied: numpy!=1.16,!=1.17,>=1.13 in /usr/local/lib/python3.11/dist-packages (from pyscf) (1.26.4)\r\n",
      "Requirement already satisfied: scipy>=1.6.0 in /usr/local/lib/python3.11/dist-packages (from pyscf) (1.15.2)\r\n",
      "Requirement already satisfied: h5py>=2.7 in /usr/local/lib/python3.11/dist-packages (from pyscf) (3.13.0)\r\n",
      "Requirement already satisfied: setuptools in /usr/local/lib/python3.11/dist-packages (from pyscf) (75.2.0)\r\n",
      "Requirement already satisfied: mkl_fft in /usr/local/lib/python3.11/dist-packages (from numpy!=1.16,!=1.17,>=1.13->pyscf) (1.3.8)\r\n",
      "Requirement already satisfied: mkl_random in /usr/local/lib/python3.11/dist-packages (from numpy!=1.16,!=1.17,>=1.13->pyscf) (1.2.4)\r\n",
      "Requirement already satisfied: mkl_umath in /usr/local/lib/python3.11/dist-packages (from numpy!=1.16,!=1.17,>=1.13->pyscf) (0.1.1)\r\n",
      "Requirement already satisfied: mkl in /usr/local/lib/python3.11/dist-packages (from numpy!=1.16,!=1.17,>=1.13->pyscf) (2025.1.0)\r\n",
      "Requirement already satisfied: tbb4py in /usr/local/lib/python3.11/dist-packages (from numpy!=1.16,!=1.17,>=1.13->pyscf) (2022.1.0)\r\n",
      "Requirement already satisfied: mkl-service in /usr/local/lib/python3.11/dist-packages (from numpy!=1.16,!=1.17,>=1.13->pyscf) (2.4.1)\r\n",
      "Requirement already satisfied: intel-openmp<2026,>=2024 in /usr/local/lib/python3.11/dist-packages (from mkl->numpy!=1.16,!=1.17,>=1.13->pyscf) (2024.2.0)\r\n",
      "Requirement already satisfied: tbb==2022.* in /usr/local/lib/python3.11/dist-packages (from mkl->numpy!=1.16,!=1.17,>=1.13->pyscf) (2022.1.0)\r\n",
      "Requirement already satisfied: tcmlib==1.* in /usr/local/lib/python3.11/dist-packages (from tbb==2022.*->mkl->numpy!=1.16,!=1.17,>=1.13->pyscf) (1.3.0)\r\n",
      "Requirement already satisfied: intel-cmplr-lib-rt in /usr/local/lib/python3.11/dist-packages (from mkl_umath->numpy!=1.16,!=1.17,>=1.13->pyscf) (2024.2.0)\r\n",
      "Requirement already satisfied: intel-cmplr-lib-ur==2024.2.0 in /usr/local/lib/python3.11/dist-packages (from intel-openmp<2026,>=2024->mkl->numpy!=1.16,!=1.17,>=1.13->pyscf) (2024.2.0)\r\n",
      "Downloading pyscf-2.9.0-py3-none-manylinux_2_17_x86_64.manylinux2014_x86_64.whl (50.9 MB)\r\n",
      "\u001b[2K   \u001b[90m━━━━━━━━━━━━━━━━━━━━━━━━━━━━━━━━━━━━━━━━\u001b[0m \u001b[32m50.9/50.9 MB\u001b[0m \u001b[31m30.6 MB/s\u001b[0m eta \u001b[36m0:00:00\u001b[0m\r\n",
      "\u001b[?25hInstalling collected packages: pyscf\r\n",
      "Successfully installed pyscf-2.9.0\r\n",
      "Collecting rdkit\r\n",
      "  Downloading rdkit-2025.3.2-cp311-cp311-manylinux_2_28_x86_64.whl.metadata (4.0 kB)\r\n",
      "Requirement already satisfied: numpy in /usr/local/lib/python3.11/dist-packages (from rdkit) (1.26.4)\r\n",
      "Requirement already satisfied: Pillow in /usr/local/lib/python3.11/dist-packages (from rdkit) (11.1.0)\r\n",
      "Requirement already satisfied: mkl_fft in /usr/local/lib/python3.11/dist-packages (from numpy->rdkit) (1.3.8)\r\n",
      "Requirement already satisfied: mkl_random in /usr/local/lib/python3.11/dist-packages (from numpy->rdkit) (1.2.4)\r\n",
      "Requirement already satisfied: mkl_umath in /usr/local/lib/python3.11/dist-packages (from numpy->rdkit) (0.1.1)\r\n",
      "Requirement already satisfied: mkl in /usr/local/lib/python3.11/dist-packages (from numpy->rdkit) (2025.1.0)\r\n",
      "Requirement already satisfied: tbb4py in /usr/local/lib/python3.11/dist-packages (from numpy->rdkit) (2022.1.0)\r\n",
      "Requirement already satisfied: mkl-service in /usr/local/lib/python3.11/dist-packages (from numpy->rdkit) (2.4.1)\r\n",
      "Requirement already satisfied: intel-openmp<2026,>=2024 in /usr/local/lib/python3.11/dist-packages (from mkl->numpy->rdkit) (2024.2.0)\r\n",
      "Requirement already satisfied: tbb==2022.* in /usr/local/lib/python3.11/dist-packages (from mkl->numpy->rdkit) (2022.1.0)\r\n",
      "Requirement already satisfied: tcmlib==1.* in /usr/local/lib/python3.11/dist-packages (from tbb==2022.*->mkl->numpy->rdkit) (1.3.0)\r\n",
      "Requirement already satisfied: intel-cmplr-lib-rt in /usr/local/lib/python3.11/dist-packages (from mkl_umath->numpy->rdkit) (2024.2.0)\r\n",
      "Requirement already satisfied: intel-cmplr-lib-ur==2024.2.0 in /usr/local/lib/python3.11/dist-packages (from intel-openmp<2026,>=2024->mkl->numpy->rdkit) (2024.2.0)\r\n",
      "Downloading rdkit-2025.3.2-cp311-cp311-manylinux_2_28_x86_64.whl (35.2 MB)\r\n",
      "\u001b[2K   \u001b[90m━━━━━━━━━━━━━━━━━━━━━━━━━━━━━━━━━━━━━━━━\u001b[0m \u001b[32m35.2/35.2 MB\u001b[0m \u001b[31m50.4 MB/s\u001b[0m eta \u001b[36m0:00:00\u001b[0m\r\n",
      "\u001b[?25hInstalling collected packages: rdkit\r\n",
      "Successfully installed rdkit-2025.3.2\r\n",
      "Collecting geometric\r\n",
      "  Downloading geometric-1.1.tar.gz (386 kB)\r\n",
      "\u001b[2K     \u001b[90m━━━━━━━━━━━━━━━━━━━━━━━━━━━━━━━━━━━━━━━━\u001b[0m \u001b[32m386.0/386.0 kB\u001b[0m \u001b[31m5.3 MB/s\u001b[0m eta \u001b[36m0:00:00\u001b[0m\r\n",
      "\u001b[?25h  Preparing metadata (setup.py) ... \u001b[?25l\u001b[?25hdone\r\n",
      "Requirement already satisfied: numpy>=1.11 in /usr/local/lib/python3.11/dist-packages (from geometric) (1.26.4)\r\n",
      "Requirement already satisfied: networkx in /usr/local/lib/python3.11/dist-packages (from geometric) (3.4.2)\r\n",
      "Requirement already satisfied: six in /usr/local/lib/python3.11/dist-packages (from geometric) (1.17.0)\r\n",
      "Requirement already satisfied: scipy in /usr/local/lib/python3.11/dist-packages (from geometric) (1.15.2)\r\n",
      "Requirement already satisfied: mkl_fft in /usr/local/lib/python3.11/dist-packages (from numpy>=1.11->geometric) (1.3.8)\r\n",
      "Requirement already satisfied: mkl_random in /usr/local/lib/python3.11/dist-packages (from numpy>=1.11->geometric) (1.2.4)\r\n",
      "Requirement already satisfied: mkl_umath in /usr/local/lib/python3.11/dist-packages (from numpy>=1.11->geometric) (0.1.1)\r\n",
      "Requirement already satisfied: mkl in /usr/local/lib/python3.11/dist-packages (from numpy>=1.11->geometric) (2025.1.0)\r\n",
      "Requirement already satisfied: tbb4py in /usr/local/lib/python3.11/dist-packages (from numpy>=1.11->geometric) (2022.1.0)\r\n",
      "Requirement already satisfied: mkl-service in /usr/local/lib/python3.11/dist-packages (from numpy>=1.11->geometric) (2.4.1)\r\n",
      "Requirement already satisfied: intel-openmp<2026,>=2024 in /usr/local/lib/python3.11/dist-packages (from mkl->numpy>=1.11->geometric) (2024.2.0)\r\n",
      "Requirement already satisfied: tbb==2022.* in /usr/local/lib/python3.11/dist-packages (from mkl->numpy>=1.11->geometric) (2022.1.0)\r\n",
      "Requirement already satisfied: tcmlib==1.* in /usr/local/lib/python3.11/dist-packages (from tbb==2022.*->mkl->numpy>=1.11->geometric) (1.3.0)\r\n",
      "Requirement already satisfied: intel-cmplr-lib-rt in /usr/local/lib/python3.11/dist-packages (from mkl_umath->numpy>=1.11->geometric) (2024.2.0)\r\n",
      "Requirement already satisfied: intel-cmplr-lib-ur==2024.2.0 in /usr/local/lib/python3.11/dist-packages (from intel-openmp<2026,>=2024->mkl->numpy>=1.11->geometric) (2024.2.0)\r\n",
      "Building wheels for collected packages: geometric\r\n",
      "  Building wheel for geometric (setup.py) ... \u001b[?25l\u001b[?25hdone\r\n",
      "  Created wheel for geometric: filename=geometric-1.1-py3-none-any.whl size=402087 sha256=22d0b6a1781f22f7d88c5bdee1b8b79841a8f7b0c25bd1849c699de1fff61615\r\n",
      "  Stored in directory: /root/.cache/pip/wheels/c5/77/0c/96a54539fe0560749fdbe283f92582d09bddb212856407a4cb\r\n",
      "Successfully built geometric\r\n",
      "Installing collected packages: geometric\r\n",
      "Successfully installed geometric-1.1\r\n",
      "Collecting py3Dmol\r\n",
      "  Downloading py3dmol-2.5.0-py2.py3-none-any.whl.metadata (2.1 kB)\r\n",
      "Downloading py3dmol-2.5.0-py2.py3-none-any.whl (7.2 kB)\r\n",
      "Installing collected packages: py3Dmol\r\n",
      "Successfully installed py3Dmol-2.5.0\r\n",
      "Requirement already satisfied: matplotlib in /usr/local/lib/python3.11/dist-packages (3.7.2)\r\n",
      "Requirement already satisfied: contourpy>=1.0.1 in /usr/local/lib/python3.11/dist-packages (from matplotlib) (1.3.1)\r\n",
      "Requirement already satisfied: cycler>=0.10 in /usr/local/lib/python3.11/dist-packages (from matplotlib) (0.12.1)\r\n",
      "Requirement already satisfied: fonttools>=4.22.0 in /usr/local/lib/python3.11/dist-packages (from matplotlib) (4.57.0)\r\n",
      "Requirement already satisfied: kiwisolver>=1.0.1 in /usr/local/lib/python3.11/dist-packages (from matplotlib) (1.4.8)\r\n",
      "Requirement already satisfied: numpy>=1.20 in /usr/local/lib/python3.11/dist-packages (from matplotlib) (1.26.4)\r\n",
      "Requirement already satisfied: packaging>=20.0 in /usr/local/lib/python3.11/dist-packages (from matplotlib) (25.0)\r\n",
      "Requirement already satisfied: pillow>=6.2.0 in /usr/local/lib/python3.11/dist-packages (from matplotlib) (11.1.0)\r\n",
      "Requirement already satisfied: pyparsing<3.1,>=2.3.1 in /usr/local/lib/python3.11/dist-packages (from matplotlib) (3.0.9)\r\n",
      "Requirement already satisfied: python-dateutil>=2.7 in /usr/local/lib/python3.11/dist-packages (from matplotlib) (2.9.0.post0)\r\n",
      "Requirement already satisfied: mkl_fft in /usr/local/lib/python3.11/dist-packages (from numpy>=1.20->matplotlib) (1.3.8)\r\n",
      "Requirement already satisfied: mkl_random in /usr/local/lib/python3.11/dist-packages (from numpy>=1.20->matplotlib) (1.2.4)\r\n",
      "Requirement already satisfied: mkl_umath in /usr/local/lib/python3.11/dist-packages (from numpy>=1.20->matplotlib) (0.1.1)\r\n",
      "Requirement already satisfied: mkl in /usr/local/lib/python3.11/dist-packages (from numpy>=1.20->matplotlib) (2025.1.0)\r\n",
      "Requirement already satisfied: tbb4py in /usr/local/lib/python3.11/dist-packages (from numpy>=1.20->matplotlib) (2022.1.0)\r\n",
      "Requirement already satisfied: mkl-service in /usr/local/lib/python3.11/dist-packages (from numpy>=1.20->matplotlib) (2.4.1)\r\n",
      "Requirement already satisfied: six>=1.5 in /usr/local/lib/python3.11/dist-packages (from python-dateutil>=2.7->matplotlib) (1.17.0)\r\n",
      "Requirement already satisfied: intel-openmp<2026,>=2024 in /usr/local/lib/python3.11/dist-packages (from mkl->numpy>=1.20->matplotlib) (2024.2.0)\r\n",
      "Requirement already satisfied: tbb==2022.* in /usr/local/lib/python3.11/dist-packages (from mkl->numpy>=1.20->matplotlib) (2022.1.0)\r\n",
      "Requirement already satisfied: tcmlib==1.* in /usr/local/lib/python3.11/dist-packages (from tbb==2022.*->mkl->numpy>=1.20->matplotlib) (1.3.0)\r\n",
      "Requirement already satisfied: intel-cmplr-lib-rt in /usr/local/lib/python3.11/dist-packages (from mkl_umath->numpy>=1.20->matplotlib) (2024.2.0)\r\n",
      "Requirement already satisfied: intel-cmplr-lib-ur==2024.2.0 in /usr/local/lib/python3.11/dist-packages (from intel-openmp<2026,>=2024->mkl->numpy>=1.20->matplotlib) (2024.2.0)\r\n"
     ]
    }
   ],
   "source": [
    "!pip install pyscf\n",
    "!pip install rdkit\n",
    "!pip install geometric\n",
    "!pip install py3Dmol\n",
    "!pip install matplotlib\n",
    "\n",
    "import os\n",
    "import sys\n",
    "import pyscf\n",
    "import py3Dmol\n",
    "import matplotlib.pyplot as plt\n",
    "import numpy as np\n",
    "import ipywidgets as widgets\n",
    "import random\n",
    "\n",
    "from pyscf.hessian import thermo\n",
    "from pyscf import gto, scf, dft, tools, lo\n",
    "from pyscf.geomopt.geometric_solver import optimize\n",
    "\n",
    "from rdkit import Chem\n",
    "from rdkit.Chem import Draw\n",
    "from rdkit.Chem import AllChem\n",
    "from rdkit.Chem.Draw import IPythonConsole\n",
    "from rdkit.Chem.Draw import MolToImage"
   ]
  },
  {
   "cell_type": "markdown",
   "id": "68c36c55",
   "metadata": {
    "id": "3hl0vvP4RphU",
    "papermill": {
     "duration": 0.021701,
     "end_time": "2025-06-10T14:36:30.572527",
     "exception": false,
     "start_time": "2025-06-10T14:36:30.550826",
     "status": "completed"
    },
    "tags": []
   },
   "source": [
    "# Introduction to the Chemistry of Color\n",
    "\n",
    "---\n",
    "\n"
   ]
  },
  {
   "attachments": {
    "14671bc8-42e0-42e7-b1e4-5ffbcca9918a.jpg": {
     "image/jpeg": "[encoded data removed]"
    }
   },
   "cell_type": "markdown",
   "id": "b9458f51",
   "metadata": {
    "_kg_hide-input": true,
    "id": "dQx--jeDRstp",
    "papermill": {
     "duration": 0.020746,
     "end_time": "2025-06-10T14:36:30.613988",
     "exception": false,
     "start_time": "2025-06-10T14:36:30.593242",
     "status": "completed"
    },
    "tags": []
   },
   "source": [
    "## What is Color?\n",
    "Color is the way our eyes and brain work together to see different parts of light. Light is made up of many different colors mixed together, which we can see in a rainbow. Each color in the rainbow, like red, blue, and green, is a different type of light with its own unique energy.\n",
    "![vis.jpg](attachment:14671bc8-42e0-42e7-b1e4-5ffbcca9918a.jpg)\n",
    "*image url: https://commons.wikimedia.org/wiki/File:OSC_Microbio_02_01_Emspectrum.jpg*"
   ]
  },
  {
   "cell_type": "markdown",
   "id": "09a004eb",
   "metadata": {
    "id": "ybaYalLwSMfa",
    "papermill": {
     "duration": 0.021731,
     "end_time": "2025-06-10T14:36:30.657856",
     "exception": false,
     "start_time": "2025-06-10T14:36:30.636125",
     "status": "completed"
    },
    "tags": []
   },
   "source": [
    "### How does chemical structure affect color?\n",
    "The color of light we perceive from a chemical depends on its structure because the structure determines how the chemical interacts with light. Here's a simple way to understand this:\n",
    "\n",
    "**Atoms and Molecules:** Everything is made up of tiny particles called atoms, and atoms can join together to form molecules. Different arrangements of atoms in a molecule can affect its color.\n",
    "\n",
    "**Absorption of Light:** When light hits a molecule, certain colors (wavelengths) of light have just the right amount of energy to be absorbed by specific molecules in an object. Therefore we call this process absorption.\n",
    "\n",
    "**Reflection:** The colors that aren't absorbed get reflected or pass through the molecule. These are the colors we see. If a molecule absorbs blue light, for instance, it might reflect or transmit red light, so we see the object as red.\n",
    "\n",
    "**Emission:** Sometimes light that is absorbed by the molecule is high enough energy that the molecule cannot hold onto it so it is emitted back out as light. Unlike reflection we see the actual color of the light emitted.\n",
    "\n",
    "**Chemical Structure:** The specific arrangement of atoms and the types of bonds between them in a molecule determine which wavelengths of light the molecule absorbs. This is why different chemicals have different colors. For example, chlorophyll in plants absorbs red and blue light, making plants look green because they reflect green light.\n",
    "\n",
    "So, the chemical structure changes the color of light we perceive because it dictates which colors of light are absorbed and which are reflected or emitted. This is why a small change in the structure of a molecule can lead to a big change in its color."
   ]
  },
  {
   "cell_type": "markdown",
   "id": "e53f51c0",
   "metadata": {
    "id": "wo1jPOdoSbsJ",
    "papermill": {
     "duration": 0.020426,
     "end_time": "2025-06-10T14:36:30.699233",
     "exception": false,
     "start_time": "2025-06-10T14:36:30.678807",
     "status": "completed"
    },
    "tags": []
   },
   "source": [
    "## Color in organic materials\n",
    "### What Are Pi Bonds and Conjugation?\n",
    "\n",
    "1. **Atoms and Bonds**: Imagine atoms as tiny building blocks that connect to form molecules. In organic molecules, carbon atoms can share electrons (tiny particles) with other carbon atoms or different kinds of atoms. These shared electrons create **bonds**.\n",
    "\n",
    "2. **Pi Bonds**: Some bonds between carbon atoms are special and are called **pi bonds**. Think of pi bonds as extra links above and below the main connection between two carbon atoms, like having an extra layer of glue holding two blocks together.\n",
    "\n",
    "3. **Conjugation**: When we have multiple pi or double bonds in a row (represented by two parallel lines), we get **conjugation**. This is like having a series of connected blocks with extra glue between each pair, allowing for stronger and more flexible connections. These shared pi bonds create a system where electrons can move more freely across several atoms.\n",
    "\n",
    "### How Conjugation Affects Color\n",
    "\n",
    "1. **Electron Movement**: In a conjugated system, electrons can move more freely over the connected pi bonds. Imagine the electrons as beads on a string that can slide back and forth easily along the string. This movement of electrons affects how the molecule interacts with light.\n",
    "\n",
    "2. **Absorption of Light**: When light hits a molecule, the energy from the light can excite these freely moving electrons, making them jump to a higher energy level. The specific energy (or color) of light that gets absorbed depends on how easy it is for the electrons to move within the conjugated system.\n",
    "\n",
    "3. **Visible Colors**: The colors we see are the ones that are **not absorbed**. For example, if a molecule absorbs blue light, it might reflect red and yellow, making the material look orange.\n",
    "\n",
    "### Examples in Nature\n",
    "\n",
    "1. **Carrots**: Carrots are orange because they contain a molecule called **beta-carotene**. This molecule has a long chain of conjugated pi bonds. The electrons in this chain absorb blue and green light, so the carrot reflects red and yellow light, which combine to look orange to our eyes.\n",
    "\n",
    "2. **Flowers**: Many flowers get their colors from molecules with conjugated pi bonds. For example, the red color in roses comes from molecules called anthocyanins, which have conjugated systems that absorb certain wavelengths of light and reflect red.\n",
    "\n",
    "### Summary\n",
    "\n",
    "So, in organic materials, the color we see is connected to the presence of conjugated pi bonds. These bonds allow electrons to move more freely across the molecule, affecting how the molecule absorbs and reflects light. The specific arrangement of these bonds determines the color we perceive, which is why different organic materials can be so colorful and beautiful."
   ]
  },
  {
   "cell_type": "markdown",
   "id": "110eb648",
   "metadata": {
    "id": "azpIeBffSl8H",
    "papermill": {
     "duration": 0.02153,
     "end_time": "2025-06-10T14:36:30.741711",
     "exception": false,
     "start_time": "2025-06-10T14:36:30.720181",
     "status": "completed"
    },
    "tags": []
   },
   "source": [
    "# Determining Color Using Calculations\n",
    "There are several different types of sofware for running quantum chemical computations. Some are free and open-source; some are not. For today, exercises, we will be usin [PySCF](https://pyscf.org/), a free open-source software for computational chemistry.\n",
    "\n",
    "Using this software we will look at differnt organic materials and begin to find trends connecting the structure of molecules and their color."
   ]
  },
  {
   "cell_type": "markdown",
   "id": "937d6428",
   "metadata": {
    "id": "zfS1aC6DSs8x",
    "papermill": {
     "duration": 0.02218,
     "end_time": "2025-06-10T14:36:30.784995",
     "exception": false,
     "start_time": "2025-06-10T14:36:30.762815",
     "status": "completed"
    },
    "tags": []
   },
   "source": [
    "## Prep Calculations"
   ]
  },
  {
   "cell_type": "markdown",
   "id": "89a64aa1",
   "metadata": {
    "id": "qt2DSYs_Sy9y",
    "papermill": {
     "duration": 0.023148,
     "end_time": "2025-06-10T14:36:30.830692",
     "exception": false,
     "start_time": "2025-06-10T14:36:30.807544",
     "status": "completed"
    },
    "tags": []
   },
   "source": [
    "#### Making Molecules\n",
    "To build your molecule, we will convert a string of characters called a `smiles` string into a molecular structure. We will start by looking at the molecule ethene which consists of two carbon molecules connected by a double bond. The code below will build your molecule and show its 2D and 3D representations."
   ]
  },
  {
   "cell_type": "markdown",
   "id": "4e781540",
   "metadata": {
    "papermill": {
     "duration": 0.021172,
     "end_time": "2025-06-10T14:36:30.872764",
     "exception": false,
     "start_time": "2025-06-10T14:36:30.851592",
     "status": "completed"
    },
    "tags": []
   },
   "source": [
    "# Build your molecule\n",
    "The smiles text for ethene is \"C=C\" where the \"C\" represents carbon atoms and \"=\" represents a double bond. Run this cell to build the structure of ethene and see the 2D structure below.\n"
   ]
  },
  {
   "cell_type": "code",
   "execution_count": 2,
   "id": "5bf73cc1",
   "metadata": {
    "cellView": "form",
    "execution": {
     "iopub.execute_input": "2025-06-10T14:36:30.918537Z",
     "iopub.status.busy": "2025-06-10T14:36:30.917744Z",
     "iopub.status.idle": "2025-06-10T14:36:30.962060Z",
     "shell.execute_reply": "2025-06-10T14:36:30.960825Z"
    },
    "id": "RcfYT_OoS8SA",
    "outputId": "fb44cf3f-fd35-44a7-d188-cf48e2a3f703",
    "papermill": {
     "duration": 0.0694,
     "end_time": "2025-06-10T14:36:30.963778",
     "exception": false,
     "start_time": "2025-06-10T14:36:30.894378",
     "status": "completed"
    },
    "tags": []
   },
   "outputs": [
    {
     "name": "stdout",
     "output_type": "stream",
     "text": [
      "Your smiles:  C=C \n",
      "\n",
      "2D Structure:\n"
     ]
    },
    {
     "data": {
      "image/png": "[encoded data removed]",
      "text/plain": [
       "<rdkit.Chem.rdchem.Mol at 0x7a9789339150>"
      ]
     },
     "execution_count": 2,
     "metadata": {},
     "output_type": "execute_result"
    }
   ],
   "source": [
    "smiles = \"C=C\"\n",
    "molecule_name = 'ethene'\n",
    "#drawing_style = \"carton\" #@param ['stick', 'sphere', 'line','carton']\n",
    "print(\"Your smiles: \", smiles, \"\\n\\n2D Structure:\")\n",
    "\n",
    "# Establish RDKit mol object\n",
    "rd_mol = Chem.MolFromSmiles(smiles)\n",
    "rdmol_hs = Chem.rdmolops.AddHs(rd_mol)\n",
    "AllChem.EmbedMolecule(rdmol_hs)\n",
    "Chem.MolToXYZFile(rdmol_hs, \"{}.xyz\".format(molecule_name))\n",
    "\n",
    "rd_mol"
   ]
  },
  {
   "cell_type": "markdown",
   "id": "f301b5c9",
   "metadata": {
    "papermill": {
     "duration": 0.022076,
     "end_time": "2025-06-10T14:36:31.006944",
     "exception": false,
     "start_time": "2025-06-10T14:36:30.984868",
     "status": "completed"
    },
    "tags": []
   },
   "source": [
    "Run the next cell to view the moleucle in 3D"
   ]
  },
  {
   "cell_type": "code",
   "execution_count": 3,
   "id": "835a603a",
   "metadata": {
    "cellView": "form",
    "execution": {
     "iopub.execute_input": "2025-06-10T14:36:31.052580Z",
     "iopub.status.busy": "2025-06-10T14:36:31.052201Z",
     "iopub.status.idle": "2025-06-10T14:36:31.059685Z",
     "shell.execute_reply": "2025-06-10T14:36:31.058587Z"
    },
    "id": "NxGmLnaJTFDi",
    "outputId": "b0039ae5-1eb0-4a23-9c02-78fc08c04102",
    "papermill": {
     "duration": 0.032656,
     "end_time": "2025-06-10T14:36:31.061282",
     "exception": false,
     "start_time": "2025-06-10T14:36:31.028626",
     "status": "completed"
    },
    "tags": []
   },
   "outputs": [
    {
     "data": {
      "application/3dmoljs_load.v0": "<div id=\"3dmolviewer_17495661910543966\"  style=\"position: relative; width: 640px; height: 480px;\">\n        <p id=\"3dmolwarning_17495661910543966\" style=\"background-color:#ffcccc;color:black\">3Dmol.js failed to load for some reason.  Please check your browser console for error messages.<br></p>\n        </div>\n<script>\n\nvar loadScriptAsync = function(uri){\n  return new Promise((resolve, reject) => {\n    //this is to ignore the existence of requirejs amd\n    var savedexports, savedmodule;\n    if (typeof exports !== 'undefined') savedexports = exports;\n    else exports = {}\n    if (typeof module !== 'undefined') savedmodule = module;\n    else module = {}\n\n    var tag = document.createElement('script');\n    tag.src = uri;\n    tag.async = true;\n    tag.onload = () => {\n        exports = savedexports;\n        module = savedmodule;\n        resolve();\n    };\n  var firstScriptTag = document.getElementsByTagName('script')[0];\n  firstScriptTag.parentNode.insertBefore(tag, firstScriptTag);\n});\n};\n\nif(typeof $3Dmolpromise === 'undefined') {\n$3Dmolpromise = null;\n  $3Dmolpromise = loadScriptAsync('https://cdn.jsdelivr.net/npm/3dmol@2.5.0/build/3Dmol-min.js');\n}\n\nvar viewer_17495661910543966 = null;\nvar warn = document.getElementById(\"3dmolwarning_17495661910543966\");\nif(warn) {\n    warn.parentNode.removeChild(warn);\n}\n$3Dmolpromise.then(function() {\nviewer_17495661910543966 = $3Dmol.createViewer(document.getElementById(\"3dmolviewer_17495661910543966\"),{backgroundColor:\"white\"});\nviewer_17495661910543966.zoomTo();\n\tviewer_17495661910543966.addModel(\"\\n     RDKit          2D\\n\\n  2  1  0  0  0  0  0  0  0  0999 V2000\\n    0.0000    0.0000    0.0000 C   0  0  0  0  0  0  0  0  0  0  0  0\\n    1.2990    0.7500    0.0000 C   0  0  0  0  0  0  0  0  0  0  0  0\\n  1  2  2  0\\nM  END\\n\",\"mol\");\n\tviewer_17495661910543966.setStyle({\"stick\": {}});\nviewer_17495661910543966.render();\n});\n</script>",
      "text/html": [
       "<div id=\"3dmolviewer_17495661910543966\"  style=\"position: relative; width: 640px; height: 480px;\">\n",
       "        <p id=\"3dmolwarning_17495661910543966\" style=\"background-color:#ffcccc;color:black\">3Dmol.js failed to load for some reason.  Please check your browser console for error messages.<br></p>\n",
       "        </div>\n",
       "<script>\n",
       "\n",
       "var loadScriptAsync = function(uri){\n",
       "  return new Promise((resolve, reject) => {\n",
       "    //this is to ignore the existence of requirejs amd\n",
       "    var savedexports, savedmodule;\n",
       "    if (typeof exports !== 'undefined') savedexports = exports;\n",
       "    else exports = {}\n",
       "    if (typeof module !== 'undefined') savedmodule = module;\n",
       "    else module = {}\n",
       "\n",
       "    var tag = document.createElement('script');\n",
       "    tag.src = uri;\n",
       "    tag.async = true;\n",
       "    tag.onload = () => {\n",
       "        exports = savedexports;\n",
       "        module = savedmodule;\n",
       "        resolve();\n",
       "    };\n",
       "  var firstScriptTag = document.getElementsByTagName('script')[0];\n",
       "  firstScriptTag.parentNode.insertBefore(tag, firstScriptTag);\n",
       "});\n",
       "};\n",
       "\n",
       "if(typeof $3Dmolpromise === 'undefined') {\n",
       "$3Dmolpromise = null;\n",
       "  $3Dmolpromise = loadScriptAsync('https://cdn.jsdelivr.net/npm/3dmol@2.5.0/build/3Dmol-min.js');\n",
       "}\n",
       "\n",
       "var viewer_17495661910543966 = null;\n",
       "var warn = document.getElementById(\"3dmolwarning_17495661910543966\");\n",
       "if(warn) {\n",
       "    warn.parentNode.removeChild(warn);\n",
       "}\n",
       "$3Dmolpromise.then(function() {\n",
       "viewer_17495661910543966 = $3Dmol.createViewer(document.getElementById(\"3dmolviewer_17495661910543966\"),{backgroundColor:\"white\"});\n",
       "viewer_17495661910543966.zoomTo();\n",
       "\tviewer_17495661910543966.addModel(\"\\n     RDKit          2D\\n\\n  2  1  0  0  0  0  0  0  0  0999 V2000\\n    0.0000    0.0000    0.0000 C   0  0  0  0  0  0  0  0  0  0  0  0\\n    1.2990    0.7500    0.0000 C   0  0  0  0  0  0  0  0  0  0  0  0\\n  1  2  2  0\\nM  END\\n\",\"mol\");\n",
       "\tviewer_17495661910543966.setStyle({\"stick\": {}});\n",
       "viewer_17495661910543966.render();\n",
       "});\n",
       "</script>"
      ]
     },
     "metadata": {},
     "output_type": "display_data"
    }
   ],
   "source": [
    "v = py3Dmol.view()\n",
    "v.addModel(Chem.MolToMolBlock(rd_mol), 'mol')\n",
    "v.setStyle({'stick':{}})\n",
    "v.show()"
   ]
  },
  {
   "cell_type": "markdown",
   "id": "b2d9f16a",
   "metadata": {
    "id": "rSfUBfTFTdFe",
    "papermill": {
     "duration": 0.023763,
     "end_time": "2025-06-10T14:36:31.177235",
     "exception": false,
     "start_time": "2025-06-10T14:36:31.153472",
     "status": "completed"
    },
    "tags": []
   },
   "source": [
    "### ENERGY\n",
    "Energy calculations extract the energy of the molecule and provide the energy of the energy gap which is responsible for the color you see.\n",
    "\n",
    "Run the next cell to get the energy of ethene and its energy gap."
   ]
  },
  {
   "cell_type": "code",
   "execution_count": 4,
   "id": "7e6e9a3b",
   "metadata": {
    "cellView": "form",
    "execution": {
     "iopub.execute_input": "2025-06-10T14:36:31.226572Z",
     "iopub.status.busy": "2025-06-10T14:36:31.226170Z",
     "iopub.status.idle": "2025-06-10T14:36:31.371700Z",
     "shell.execute_reply": "2025-06-10T14:36:31.370130Z"
    },
    "id": "KO7HJ1NTTghi",
    "outputId": "4a9ee761-a335-42de-f71c-217223c22714",
    "papermill": {
     "duration": 0.171509,
     "end_time": "2025-06-10T14:36:31.373750",
     "exception": true,
     "start_time": "2025-06-10T14:36:31.202241",
     "status": "failed"
    },
    "tags": []
   },
   "outputs": [
    {
     "ename": "FileNotFoundError",
     "evalue": "[Errno 2] No such file or directory: 'ethene_optimization.xyz'",
     "output_type": "error",
     "traceback": [
      "\u001b[0;31m---------------------------------------------------------------------------\u001b[0m",
      "\u001b[0;31mFileNotFoundError\u001b[0m                         Traceback (most recent call last)",
      "\u001b[0;32m/tmp/ipykernel_13/3692134625.py\u001b[0m in \u001b[0;36m<cell line: 0>\u001b[0;34m()\u001b[0m\n\u001b[1;32m     36\u001b[0m \u001b[0;34m\u001b[0m\u001b[0m\n\u001b[1;32m     37\u001b[0m \u001b[0;32mif\u001b[0m \u001b[0m__name__\u001b[0m \u001b[0;34m==\u001b[0m \u001b[0;34m'__main__'\u001b[0m\u001b[0;34m:\u001b[0m\u001b[0;34m\u001b[0m\u001b[0;34m\u001b[0m\u001b[0m\n\u001b[0;32m---> 38\u001b[0;31m     \u001b[0menergy1\u001b[0m \u001b[0;34m=\u001b[0m \u001b[0mmain\u001b[0m\u001b[0;34m(\u001b[0m\u001b[0;34m)\u001b[0m\u001b[0;34m\u001b[0m\u001b[0;34m\u001b[0m\u001b[0m\n\u001b[0m",
      "\u001b[0;32m/tmp/ipykernel_13/3692134625.py\u001b[0m in \u001b[0;36mmain\u001b[0;34m()\u001b[0m\n\u001b[1;32m      9\u001b[0m     \u001b[0;31m# Step 1: Read the .xyz file\u001b[0m\u001b[0;34m\u001b[0m\u001b[0;34m\u001b[0m\u001b[0m\n\u001b[1;32m     10\u001b[0m     \u001b[0mxyz_file\u001b[0m \u001b[0;34m=\u001b[0m \u001b[0;34mF'{molecule_name}_optimization.xyz'\u001b[0m\u001b[0;34m\u001b[0m\u001b[0;34m\u001b[0m\u001b[0m\n\u001b[0;32m---> 11\u001b[0;31m     \u001b[0matomic_coords\u001b[0m \u001b[0;34m=\u001b[0m \u001b[0mread_xyz\u001b[0m\u001b[0;34m(\u001b[0m\u001b[0mxyz_file\u001b[0m\u001b[0;34m)\u001b[0m\u001b[0;34m\u001b[0m\u001b[0;34m\u001b[0m\u001b[0m\n\u001b[0m\u001b[1;32m     12\u001b[0m \u001b[0;34m\u001b[0m\u001b[0m\n\u001b[1;32m     13\u001b[0m     \u001b[0;31m# Step 2: Set up the molecule\u001b[0m\u001b[0;34m\u001b[0m\u001b[0;34m\u001b[0m\u001b[0m\n",
      "\u001b[0;32m/tmp/ipykernel_13/3692134625.py\u001b[0m in \u001b[0;36mread_xyz\u001b[0;34m(file_path)\u001b[0m\n\u001b[1;32m      1\u001b[0m \u001b[0;32mdef\u001b[0m \u001b[0mread_xyz\u001b[0m\u001b[0;34m(\u001b[0m\u001b[0mfile_path\u001b[0m\u001b[0;34m)\u001b[0m\u001b[0;34m:\u001b[0m\u001b[0;34m\u001b[0m\u001b[0;34m\u001b[0m\u001b[0m\n\u001b[1;32m      2\u001b[0m     \u001b[0;34m\"\"\"Reads an XYZ file and returns the atomic coordinates as a string.\"\"\"\u001b[0m\u001b[0;34m\u001b[0m\u001b[0;34m\u001b[0m\u001b[0m\n\u001b[0;32m----> 3\u001b[0;31m     \u001b[0;32mwith\u001b[0m \u001b[0mopen\u001b[0m\u001b[0;34m(\u001b[0m\u001b[0mfile_path\u001b[0m\u001b[0;34m,\u001b[0m \u001b[0;34m'r'\u001b[0m\u001b[0;34m)\u001b[0m \u001b[0;32mas\u001b[0m \u001b[0mf\u001b[0m\u001b[0;34m:\u001b[0m\u001b[0;34m\u001b[0m\u001b[0;34m\u001b[0m\u001b[0m\n\u001b[0m\u001b[1;32m      4\u001b[0m         \u001b[0mlines\u001b[0m \u001b[0;34m=\u001b[0m \u001b[0mf\u001b[0m\u001b[0;34m.\u001b[0m\u001b[0mreadlines\u001b[0m\u001b[0;34m(\u001b[0m\u001b[0;34m)\u001b[0m\u001b[0;34m\u001b[0m\u001b[0;34m\u001b[0m\u001b[0m\n\u001b[1;32m      5\u001b[0m     \u001b[0;31m# Ignore the first two lines (atom count and comment)\u001b[0m\u001b[0;34m\u001b[0m\u001b[0;34m\u001b[0m\u001b[0m\n",
      "\u001b[0;31mFileNotFoundError\u001b[0m: [Errno 2] No such file or directory: 'ethene_optimization.xyz'"
     ]
    }
   ],
   "source": [
    "def read_xyz(file_path):\n",
    "    \"\"\"Reads an XYZ file and returns the atomic coordinates as a string.\"\"\"\n",
    "    with open(file_path, 'r') as f:\n",
    "        lines = f.readlines()\n",
    "    # Ignore the first two lines (atom count and comment)\n",
    "    return ''.join(lines[2:])\n",
    "\n",
    "def main():\n",
    "    # Step 1: Read the .xyz file\n",
    "    xyz_file = F'{molecule_name}_optimization.xyz'\n",
    "    atomic_coords = read_xyz(xyz_file)\n",
    "\n",
    "    # Step 2: Set up the molecule\n",
    "    mol = gto.M(\n",
    "        atom=atomic_coords,\n",
    "        basis='6-31G'\n",
    "    )\n",
    "\n",
    "    # Step 3: Run the SCF calculation\n",
    "    mf = scf.RHF(mol)\n",
    "    mf.kernel()\n",
    "\n",
    "    # Step 4: Extract the HOMO and LUMO energies\n",
    "    mo_energies = mf.mo_energy\n",
    "    homo_idx = mol.nelectron // 2 - 1\n",
    "    lumo_idx = homo_idx + 1\n",
    "    homo_energy = mo_energies[homo_idx]\n",
    "    lumo_energy = mo_energies[lumo_idx]\n",
    "    energy_gap = lumo_energy - homo_energy\n",
    "    energy_gap_eV = round(energy_gap * 27.2114,2)\n",
    "\n",
    "#    print(f'HOMO energy: {homo_energy:.6f} Hartree')\n",
    "#    print(f'LUMO energy: {lumo_energy:.6f} Hartree')\n",
    "    print(f'Energy gap: {energy_gap_eV:.6f} eV')\n",
    "    return energy_gap_eV\n",
    "\n",
    "if __name__ == '__main__':\n",
    "    energy1 = main()"
   ]
  },
  {
   "cell_type": "markdown",
   "id": "2c1eeba3",
   "metadata": {
    "id": "qK3V3WlLTl4o",
    "papermill": {
     "duration": null,
     "end_time": null,
     "exception": null,
     "start_time": null,
     "status": "pending"
    },
    "tags": []
   },
   "source": [
    "### Adding a Double Bond\n",
    "Great! Now that you have optimized and calculated the energy gap for ethene we will now do the same for butadiene.\n",
    "\n",
    "The smiles text for butadiene is \"C=CC=C\". Like ethene, the molecule is made up of carbon atoms, but this structure has two double bonds and one single bond. Run this cell to build the structure of ethene and see the 2D structure below.\n"
   ]
  },
  {
   "cell_type": "code",
   "execution_count": null,
   "id": "e3e4be87",
   "metadata": {
    "cellView": "form",
    "execution": {
     "iopub.status.busy": "2025-06-10T14:34:37.336071Z",
     "iopub.status.idle": "2025-06-10T14:34:37.336374Z",
     "shell.execute_reply": "2025-06-10T14:34:37.336212Z",
     "shell.execute_reply.started": "2025-06-10T14:34:37.336202Z"
    },
    "id": "PORGVt53Tp4Y",
    "outputId": "58a34c5c-127d-4dd7-9c73-db1a0c077170",
    "papermill": {
     "duration": null,
     "end_time": null,
     "exception": null,
     "start_time": null,
     "status": "pending"
    },
    "tags": []
   },
   "outputs": [],
   "source": [
    "smiles = \"C=CC=C\"\n",
    "molecule_name = 'butadiene'\n",
    "#drawing_style = \"carton\" #@param ['stick', 'sphere', 'line','carton']\n",
    "print(\"Your smiles: \", smiles, \"\\n\\n2D Structure:\")\n",
    "\n",
    "# Establish RDKit mol object\n",
    "rd_mol = Chem.MolFromSmiles(smiles)\n",
    "rdmol_hs = Chem.rdmolops.AddHs(rd_mol)\n",
    "AllChem.EmbedMolecule(rdmol_hs)\n",
    "Chem.MolToXYZFile(rdmol_hs, \"{}.xyz\".format(molecule_name))\n",
    "\n",
    "rd_mol"
   ]
  },
  {
   "cell_type": "markdown",
   "id": "5755eaf9",
   "metadata": {
    "papermill": {
     "duration": null,
     "end_time": null,
     "exception": null,
     "start_time": null,
     "status": "pending"
    },
    "tags": []
   },
   "source": [
    "Run the next cell to see the structure in 3D."
   ]
  },
  {
   "cell_type": "code",
   "execution_count": null,
   "id": "e6f343f1",
   "metadata": {
    "cellView": "form",
    "execution": {
     "iopub.status.busy": "2025-06-10T14:34:37.338122Z",
     "iopub.status.idle": "2025-06-10T14:34:37.338488Z",
     "shell.execute_reply": "2025-06-10T14:34:37.338328Z",
     "shell.execute_reply.started": "2025-06-10T14:34:37.338312Z"
    },
    "id": "Q-Cq6gvdTuf8",
    "outputId": "94688f3d-cf96-4700-c9c4-d8be9dacc92c",
    "papermill": {
     "duration": null,
     "end_time": null,
     "exception": null,
     "start_time": null,
     "status": "pending"
    },
    "tags": []
   },
   "outputs": [],
   "source": [
    "v = py3Dmol.view()\n",
    "v.addModel(Chem.MolToMolBlock(rd_mol), 'mol')\n",
    "v.setStyle({'stick':{}})\n",
    "v.show()"
   ]
  },
  {
   "cell_type": "markdown",
   "id": "6fa3fbad",
   "metadata": {
    "papermill": {
     "duration": null,
     "end_time": null,
     "exception": null,
     "start_time": null,
     "status": "pending"
    },
    "tags": []
   },
   "source": [
    "Run the next cell to calculate the energy for butadiene."
   ]
  },
  {
   "cell_type": "code",
   "execution_count": null,
   "id": "eeebda78",
   "metadata": {
    "cellView": "form",
    "execution": {
     "iopub.status.busy": "2025-06-10T14:34:37.340421Z",
     "iopub.status.idle": "2025-06-10T14:34:37.340802Z",
     "shell.execute_reply": "2025-06-10T14:34:37.340634Z",
     "shell.execute_reply.started": "2025-06-10T14:34:37.340616Z"
    },
    "id": "bbtnQz13T3QK",
    "outputId": "91612e58-2f18-4617-f180-03c93c21488a",
    "papermill": {
     "duration": null,
     "end_time": null,
     "exception": null,
     "start_time": null,
     "status": "pending"
    },
    "tags": []
   },
   "outputs": [],
   "source": [
    "def read_xyz(file_path):\n",
    "    \"\"\"Reads an XYZ file and returns the atomic coordinates as a string.\"\"\"\n",
    "    with open(file_path, 'r') as f:\n",
    "        lines = f.readlines()\n",
    "    # Ignore the first two lines (atom count and comment)\n",
    "    return ''.join(lines[2:])\n",
    "\n",
    "def main():\n",
    "    # Step 1: Read the .xyz file\n",
    "    xyz_file = F'butadiene_optimization.xyz'\n",
    "    atomic_coords = read_xyz(xyz_file)\n",
    "\n",
    "    # Step 2: Set up the molecule\n",
    "    mol = gto.M(\n",
    "        atom=atomic_coords,\n",
    "        basis='6-31G'\n",
    "    )\n",
    "\n",
    "    # Step 3: Run the SCF calculation\n",
    "    mf = scf.RHF(mol)\n",
    "    mf.kernel()\n",
    "\n",
    "    # Step 4: Extract the HOMO and LUMO energies\n",
    "    mo_energies = mf.mo_energy\n",
    "    homo_idx = mol.nelectron // 2 - 1\n",
    "    lumo_idx = homo_idx + 1\n",
    "    homo_energy = mo_energies[homo_idx]\n",
    "    lumo_energy = mo_energies[lumo_idx]\n",
    "    energy_gap = lumo_energy - homo_energy\n",
    "    energy_gap_eV = round(energy_gap * 27.2114,2)\n",
    "\n",
    "#    print(f'HOMO energy: {homo_energy:.6f} Hartree')\n",
    "#    print(f'LUMO energy: {lumo_energy:.6f} Hartree')\n",
    "    print(f'Energy gap: {energy_gap_eV:.6f} eV')\n",
    "    return energy_gap_eV\n",
    "\n",
    "if __name__ == '__main__':\n",
    "    energy2 = main()"
   ]
  },
  {
   "cell_type": "markdown",
   "id": "c9fef39d",
   "metadata": {
    "id": "dABxUD80T9gy",
    "papermill": {
     "duration": null,
     "end_time": null,
     "exception": null,
     "start_time": null,
     "status": "pending"
    },
    "tags": []
   },
   "source": [
    "## Hexatriene\n",
    "The last molecule we will be doing calculations for is hexatriene.\n",
    "\n",
    "The smiles text for hexatriene is \"C=CC=CC=C\". This structure contains three double bonds. Run this cell to build the structure of ethene and see the 2D structure below.\n"
   ]
  },
  {
   "cell_type": "code",
   "execution_count": null,
   "id": "205d01fa",
   "metadata": {
    "cellView": "form",
    "execution": {
     "iopub.status.busy": "2025-06-10T14:34:37.341898Z",
     "iopub.status.idle": "2025-06-10T14:34:37.342434Z",
     "shell.execute_reply": "2025-06-10T14:34:37.342283Z",
     "shell.execute_reply.started": "2025-06-10T14:34:37.342254Z"
    },
    "id": "Bgmr7gfRUAzu",
    "outputId": "7411bf93-d85a-49cf-b9ca-01ee12d55cd4",
    "papermill": {
     "duration": null,
     "end_time": null,
     "exception": null,
     "start_time": null,
     "status": "pending"
    },
    "tags": []
   },
   "outputs": [],
   "source": [
    "smiles = \"C=CC=CC=C\"\n",
    "molecule_name = 'hexatriene'\n",
    "#drawing_style = \"carton\" #@param ['stick', 'sphere', 'line','carton']\n",
    "print(\"Your smiles: \", smiles, \"\\n\\n2D Structure:\")\n",
    "\n",
    "# Establish RDKit mol object\n",
    "rd_mol = Chem.MolFromSmiles(smiles)\n",
    "rdmol_hs = Chem.rdmolops.AddHs(rd_mol)\n",
    "AllChem.EmbedMolecule(rdmol_hs)\n",
    "Chem.MolToXYZFile(rdmol_hs, \"{}.xyz\".format(molecule_name))\n",
    "\n",
    "rd_mol"
   ]
  },
  {
   "cell_type": "markdown",
   "id": "5aa01565",
   "metadata": {
    "papermill": {
     "duration": null,
     "end_time": null,
     "exception": null,
     "start_time": null,
     "status": "pending"
    },
    "tags": []
   },
   "source": [
    "Run the next cell to see the 3D structure."
   ]
  },
  {
   "cell_type": "code",
   "execution_count": null,
   "id": "991dcf7f",
   "metadata": {
    "cellView": "form",
    "execution": {
     "iopub.status.busy": "2025-06-10T14:34:37.345114Z",
     "iopub.status.idle": "2025-06-10T14:34:37.345936Z",
     "shell.execute_reply": "2025-06-10T14:34:37.345769Z",
     "shell.execute_reply.started": "2025-06-10T14:34:37.345746Z"
    },
    "id": "vSt_vZPvUGeb",
    "outputId": "134d5fb8-102a-46e5-b6c7-7ed00f188de5",
    "papermill": {
     "duration": null,
     "end_time": null,
     "exception": null,
     "start_time": null,
     "status": "pending"
    },
    "tags": []
   },
   "outputs": [],
   "source": [
    "v = py3Dmol.view()\n",
    "v.addModel(Chem.MolToMolBlock(rd_mol), 'mol')\n",
    "v.setStyle({'stick':{}})\n",
    "v.show()"
   ]
  },
  {
   "cell_type": "markdown",
   "id": "b15ddea4",
   "metadata": {
    "papermill": {
     "duration": null,
     "end_time": null,
     "exception": null,
     "start_time": null,
     "status": "pending"
    },
    "tags": []
   },
   "source": [
    "Run the next cell to calculate the energy and energy gap for hexatriene."
   ]
  },
  {
   "cell_type": "code",
   "execution_count": null,
   "id": "fe07db68",
   "metadata": {
    "cellView": "form",
    "execution": {
     "iopub.status.busy": "2025-06-10T14:34:37.347096Z",
     "iopub.status.idle": "2025-06-10T14:34:37.347453Z",
     "shell.execute_reply": "2025-06-10T14:34:37.347329Z",
     "shell.execute_reply.started": "2025-06-10T14:34:37.347315Z"
    },
    "id": "MU-96_I7UQ_k",
    "outputId": "b655f100-fafd-488f-ef5a-cbf291c59508",
    "papermill": {
     "duration": null,
     "end_time": null,
     "exception": null,
     "start_time": null,
     "status": "pending"
    },
    "tags": []
   },
   "outputs": [],
   "source": [
    "def read_xyz(file_path):\n",
    "    \"\"\"Reads an XYZ file and returns the atomic coordinates as a string.\"\"\"\n",
    "    with open(file_path, 'r') as f:\n",
    "        lines = f.readlines()\n",
    "    # Ignore the first two lines (atom count and comment)\n",
    "    return ''.join(lines[2:])\n",
    "\n",
    "def main():\n",
    "    # Step 1: Read the .xyz file\n",
    "    xyz_file = F'{molecule_name}_optimization.xyz'\n",
    "    atomic_coords = read_xyz(xyz_file)\n",
    "\n",
    "    # Step 2: Set up the molecule\n",
    "    mol = gto.M(\n",
    "        atom=atomic_coords,\n",
    "        basis='6-31G'\n",
    "    )\n",
    "\n",
    "    # Step 3: Run the SCF calculation\n",
    "    mf = scf.RHF(mol)\n",
    "    mf.kernel()\n",
    "\n",
    "    # Step 4: Extract the HOMO and LUMO energies\n",
    "    mo_energies = mf.mo_energy\n",
    "    homo_idx = mol.nelectron // 2 - 1\n",
    "    lumo_idx = homo_idx + 1\n",
    "    homo_energy = mo_energies[homo_idx]\n",
    "    lumo_energy = mo_energies[lumo_idx]\n",
    "    energy_gap = lumo_energy - homo_energy\n",
    "    energy_gap_eV = round(energy_gap * 27.2114,2)\n",
    "\n",
    "#    print(f'HOMO energy: {homo_energy:.6f} Hartree')\n",
    "#    print(f'LUMO energy: {lumo_energy:.6f} Hartree')\n",
    "    print(f'Energy gap: {energy_gap_eV:.6f} eV')\n",
    "    return energy_gap_eV\n",
    "\n",
    "if __name__ == '__main__':\n",
    "    energy3 = main()\n"
   ]
  },
  {
   "cell_type": "markdown",
   "id": "ee20c111",
   "metadata": {
    "id": "DXVPrcPyUVwI",
    "papermill": {
     "duration": null,
     "end_time": null,
     "exception": null,
     "start_time": null,
     "status": "pending"
    },
    "tags": []
   },
   "source": [
    "# Putting it all together!"
   ]
  },
  {
   "cell_type": "markdown",
   "id": "623ef1db",
   "metadata": {
    "papermill": {
     "duration": null,
     "end_time": null,
     "exception": null,
     "start_time": null,
     "status": "pending"
    },
    "tags": []
   },
   "source": [
    "## Energy vs Number of Double Bonds\n",
    "There is a linear relationship between the energy gap of a molecule and the inverse of the number of double bonds. Using this relationship, we can predict the color of molecules with different numbers of double bonds."
   ]
  },
  {
   "cell_type": "code",
   "execution_count": null,
   "id": "c951c2e2",
   "metadata": {
    "cellView": "form",
    "execution": {
     "iopub.status.busy": "2025-06-10T14:34:37.348845Z",
     "iopub.status.idle": "2025-06-10T14:34:37.349183Z",
     "shell.execute_reply": "2025-06-10T14:34:37.349027Z",
     "shell.execute_reply.started": "2025-06-10T14:34:37.349016Z"
    },
    "id": "cdxrRtJsUaDa",
    "outputId": "e913522f-ee0d-4d12-cc10-46ab4a87dfd8",
    "papermill": {
     "duration": null,
     "end_time": null,
     "exception": null,
     "start_time": null,
     "status": "pending"
    },
    "tags": []
   },
   "outputs": [],
   "source": [
    "# Define the three points\n",
    "\n",
    "x = np.array([1, 1/2, 1/3])\n",
    "y = np.array([energy1, energy2, energy3])\n",
    "\n",
    "# Fit a line to the points\n",
    "coefficients = np.polyfit(x, y, 1)\n",
    "trendline = np.poly1d(coefficients)\n",
    "\n",
    "# Create values for the trendline\n",
    "x_fit = np.linspace(min(x), max(x), 100)\n",
    "y_fit = trendline(x_fit)\n",
    "\n",
    "# Plot the points\n",
    "plt.scatter(x, y, color='blue', label='Data Points')\n",
    "\n",
    "# Plot the trendline\n",
    "plt.plot(x_fit, y_fit, color='red', label='Trendline')\n",
    "\n",
    "# Annotate the equation of the line\n",
    "equation_text = f'y = {coefficients[0]:.2f}x + {coefficients[1]:.2f}'\n",
    "plt.text(0, 16, equation_text, fontsize=12, color='red')\n",
    "\n",
    "# Add labels and title\n",
    "plt.xlabel('1/# of Double Bonds')\n",
    "plt.ylabel('Energy (eV)')\n",
    "#plt.title('Plot of Points with Trendline')\n",
    "#plt.legend()\n",
    "plt.grid(True)\n",
    "\n",
    "# Show the plot\n",
    "plt.show()"
   ]
  },
  {
   "attachments": {
    "02091617-4ae9-4c70-b790-bcac68701844.png": {
     "image/png": "[encoded data removed]"
    }
   },
   "cell_type": "markdown",
   "id": "c5be3b20",
   "metadata": {
    "id": "38c9c0d9",
    "papermill": {
     "duration": null,
     "end_time": null,
     "exception": null,
     "start_time": null,
     "status": "pending"
    },
    "tags": []
   },
   "source": [
    "## Interactive Slider: Conjugation Length vs. Color  \n",
    "Color and energy are related by the following expression:\n",
    "\n",
    "![nrglambda.png](attachment:02091617-4ae9-4c70-b790-bcac68701844.png)\n",
    "\n",
    "The constant h is Planck's constant and c is the speed of light. E is the energy of the light and λ is the color. At the very bottom of this notebook are a couple of calculators to convert between energy and wavelength so do not worry about doing calculations by hand.\n",
    "\n",
    "Use the slider to see how adding conjugated π‑bonds shifts λ (wavelength) and color."
   ]
  },
  {
   "cell_type": "code",
   "execution_count": null,
   "id": "8c5e98e5",
   "metadata": {
    "cellView": "form",
    "execution": {
     "iopub.status.busy": "2025-06-10T14:34:37.350037Z",
     "iopub.status.idle": "2025-06-10T14:34:37.350348Z",
     "shell.execute_reply": "2025-06-10T14:34:37.350204Z",
     "shell.execute_reply.started": "2025-06-10T14:34:37.350192Z"
    },
    "id": "3fd44bd7",
    "outputId": "d5c24490-972d-4495-aeee-769931c44645",
    "papermill": {
     "duration": null,
     "end_time": null,
     "exception": null,
     "start_time": null,
     "status": "pending"
    },
    "tags": []
   },
   "outputs": [],
   "source": [
    "def wavelength_to_color(wl):\n",
    "    if wl < 450: return 'Violet'\n",
    "    elif wl < 500: return 'Blue'\n",
    "    elif wl < 570: return 'Green'\n",
    "    elif wl < 590: return 'Yellow'\n",
    "    elif wl < 620: return 'Orange'\n",
    "    else: return 'Red'\n",
    "\n",
    "def draw_conjugated(n):\n",
    "    if n==1:\n",
    "      smiles = 'C=' + 'C'\n",
    "    else:\n",
    "      smiles = 'C=' + 'C' + ('C=C' * (n-1))\n",
    "    mol = Chem.MolFromSmiles(smiles)\n",
    "    img = MolToImage(mol, size=(200,100))\n",
    "    display(img)\n",
    "    wavelength = 200 + 50 * n  # illustrative only\n",
    "    color = wavelength_to_color(wavelength)\n",
    "    display(f'Predicted λ = {wavelength} nm → {color}')\n",
    "\n",
    "slider = widgets.IntSlider(value=2, min=1, max=8, description='Double Bonds')\n",
    "widgets.interact(draw_conjugated, n=slider)"
   ]
  },
  {
   "attachments": {
    "5d999426-853e-4c08-8c71-98e112792155.png": {
     "image/png": "[encoded data removed]"
    }
   },
   "cell_type": "markdown",
   "id": "1fb17945",
   "metadata": {
    "id": "8a6e6852",
    "papermill": {
     "duration": null,
     "end_time": null,
     "exception": null,
     "start_time": null,
     "status": "pending"
    },
    "tags": []
   },
   "source": [
    "### Molecular Detective  \n",
    "For each clue, select the correct pigment. Practice counting the number of double bonds!\n",
    "![conj.png](attachment:5d999426-853e-4c08-8c71-98e112792155.png)"
   ]
  },
  {
   "cell_type": "code",
   "execution_count": null,
   "id": "84e1876c",
   "metadata": {
    "cellView": "form",
    "execution": {
     "iopub.status.busy": "2025-06-10T14:34:37.351312Z",
     "iopub.status.idle": "2025-06-10T14:34:37.351647Z",
     "shell.execute_reply": "2025-06-10T14:34:37.351507Z",
     "shell.execute_reply.started": "2025-06-10T14:34:37.351492Z"
    },
    "id": "172fd3d3",
    "outputId": "198520e0-60d3-45b0-eb5e-8acbdeabb3b9",
    "papermill": {
     "duration": null,
     "end_time": null,
     "exception": null,
     "start_time": null,
     "status": "pending"
    },
    "tags": []
   },
   "outputs": [],
   "source": [
    "# Clues & answers\n",
    "questions = [\n",
    "    {'clue':'11 double bonds; colors carrots orange.','answer':'Beta-Carotene'},\n",
    "    {'clue':'15 double bonds; reflects green in leaves.','answer':'Chlorophyll a'},\n",
    "    {'clue':'8 double bonds; flavonoid giving grapes/berries red-purple hue.','answer':'Anthocyanin'}\n",
    "]\n",
    "options_master = ['Beta-Carotene','Chlorophyll a','Anthocyanin']\n",
    "\n",
    "dropdowns = []\n",
    "for i, q in enumerate(questions, 1):\n",
    "    display(f\"Clue {i}: {q['clue']}\")\n",
    "    opts = random.sample(options_master, 3)\n",
    "    dd = widgets.Dropdown(options=opts, description='Molecule:')\n",
    "    out = widgets.Output()\n",
    "    dropdowns.append((dd, q['answer'], out))\n",
    "    display(dd, out)\n",
    "\n",
    "submit = widgets.Button(description='Check All')\n",
    "\n",
    "def on_click(b):\n",
    "    for dd, ans, out in dropdowns:\n",
    "        with out:\n",
    "            out.clear_output()\n",
    "            print('Correct!' if dd.value == ans else f'Incorrect (Answer: {ans})')\n",
    "submit.on_click(on_click)\n",
    "display(submit)"
   ]
  },
  {
   "attachments": {
    "29e3ca0c-ec86-4807-87c9-4511cfd2f3a7.png": {
     "image/png": "[encoded data removed]"
    }
   },
   "cell_type": "markdown",
   "id": "d9a40949",
   "metadata": {
    "id": "60a086b7",
    "papermill": {
     "duration": null,
     "end_time": null,
     "exception": null,
     "start_time": null,
     "status": "pending"
    },
    "tags": []
   },
   "source": [
    "### Matching Game: Molecule ↔ Color  \n",
    "Match each pigment to its observed color and real‑world application. Remember the trend between color and number of double bonds!\n",
    "![moles.png](attachment:29e3ca0c-ec86-4807-87c9-4511cfd2f3a7.png)"
   ]
  },
  {
   "cell_type": "code",
   "execution_count": null,
   "id": "16621306",
   "metadata": {
    "_kg_hide-input": true,
    "cellView": "form",
    "execution": {
     "iopub.status.busy": "2025-06-10T14:34:37.352628Z",
     "iopub.status.idle": "2025-06-10T14:34:37.352918Z",
     "shell.execute_reply": "2025-06-10T14:34:37.352795Z",
     "shell.execute_reply.started": "2025-06-10T14:34:37.352779Z"
    },
    "id": "757f99cf",
    "outputId": "de8a6fe0-e58c-41d0-d8c1-d4c0cb0e659e",
    "papermill": {
     "duration": null,
     "end_time": null,
     "exception": null,
     "start_time": null,
     "status": "pending"
    },
    "tags": []
   },
   "outputs": [],
   "source": [
    "import random\n",
    "# Pigment data\n",
    "molecules = {\n",
    "    'Molecule 1': 'Green',\n",
    "    'Molecule 2': 'Red',\n",
    "    'Molecule 3': 'Blue',\n",
    "}\n",
    "real_world = {\n",
    "    'Molecule 1': 'used as an antimicrobial in aquaculture (Malachite Green)',\n",
    "    'Molecule 2': 'found commonly as a dye in food (Red 40)',\n",
    "    'Molecule 3': 'used in microscopy stains (Methylene Blue)'\n",
    "}\n",
    "\n",
    "colors = list(set(molecules.values()))\n",
    "dropdowns = []\n",
    "for color in colors:\n",
    "    opts = list(molecules.keys())\n",
    "    random.shuffle(opts)\n",
    "    dd = widgets.Dropdown(options=opts, description=color)\n",
    "    dropdowns.append((dd, color))\n",
    "\n",
    "submit = widgets.Button(description='Check Answers')\n",
    "output = widgets.Output()\n",
    "\n",
    "def check(b):\n",
    "    with output:\n",
    "        output.clear_output()\n",
    "        for dd, color in dropdowns:\n",
    "            choice = dd.value\n",
    "            correct = [mol for mol, col in molecules.items() if col == color]\n",
    "            if choice in correct:\n",
    "                print(f'{color}: {choice} ✔️ — {choice} {real_world[choice]}')\n",
    "            else:\n",
    "                print(f'{color}: {choice} ❌ (Expected one of {correct})')\n",
    "\n",
    "submit.on_click(check)\n",
    "display(*[dd for dd,_ in dropdowns], submit, output)"
   ]
  },
  {
   "cell_type": "markdown",
   "id": "c4f16510",
   "metadata": {
    "id": "36ef011e",
    "papermill": {
     "duration": null,
     "end_time": null,
     "exception": null,
     "start_time": null,
     "status": "pending"
    },
    "tags": []
   },
   "source": [
    "### Quiz: Photon Energy & Wavelength  \n",
    "Test your understanding. Remember that calculators can be found at the end of the notebook and the visible spectrum with wavelengths of colors can be found in the introduction."
   ]
  },
  {
   "cell_type": "code",
   "execution_count": null,
   "id": "4a47200f",
   "metadata": {
    "_kg_hide-input": true,
    "cellView": "form",
    "execution": {
     "iopub.status.busy": "2025-06-10T14:34:37.355009Z",
     "iopub.status.idle": "2025-06-10T14:34:37.355417Z",
     "shell.execute_reply": "2025-06-10T14:34:37.355234Z",
     "shell.execute_reply.started": "2025-06-10T14:34:37.355195Z"
    },
    "id": "13ad9a14",
    "outputId": "54b2c3d8-caa7-48e1-cb0d-9c933a8a4844",
    "papermill": {
     "duration": null,
     "end_time": null,
     "exception": null,
     "start_time": null,
     "status": "pending"
    },
    "tags": []
   },
   "outputs": [],
   "source": [
    "# Quiz questions\n",
    "questions = [\n",
    "    {'prompt':'λ=700 nm corresponds to:','options':['Blue','Green','Red','Violet'],'answer':'Red'},\n",
    "    {'prompt':'Highest energy wavelength:','options':['450 nm','550 nm','650 nm'],'answer':'450 nm'},\n",
    "    {'prompt':'Absorption at 520 nm makes molecule appear:','options':['Green','Yellow','Orange'],'answer':'Green'}\n",
    "]\n",
    "\n",
    "widgets_list = []\n",
    "for q in questions:\n",
    "    display(q['prompt'])\n",
    "    opts = q['options'][:]\n",
    "    random.shuffle(opts)\n",
    "    rb = widgets.RadioButtons(options=opts, description='')\n",
    "    widgets_list.append((rb, q['answer']))\n",
    "    display(rb)\n",
    "\n",
    "submit = widgets.Button(description='Submit Quiz')\n",
    "output = widgets.Output()\n",
    "def grade_q(b):\n",
    "    with output:\n",
    "        output.clear_output()\n",
    "        score = sum(1 for rb, ans in widgets_list if rb.value == ans)\n",
    "        print(f'Score: {score}/{len(widgets_list)}')\n",
    "submit.on_click(grade_q)\n",
    "display(submit, output)"
   ]
  },
  {
   "cell_type": "markdown",
   "id": "8975574a",
   "metadata": {
    "id": "ycUvOX7eUiyp",
    "papermill": {
     "duration": null,
     "end_time": null,
     "exception": null,
     "start_time": null,
     "status": "pending"
    },
    "tags": []
   },
   "source": [
    "This module was developed as part of grant received from the National Science Foundation, Award Number 1905734.\n",
    "\n",
    "\n",
    "Copyright 2025-2026, University of Kentucky\n",
    "\n",
    "Designed by Megan Brown and Nolan Lok"
   ]
  },
  {
   "cell_type": "markdown",
   "id": "dba73ebc",
   "metadata": {
    "papermill": {
     "duration": null,
     "end_time": null,
     "exception": null,
     "start_time": null,
     "status": "pending"
    },
    "tags": []
   },
   "source": [
    "# Calculators\n",
    "### Energy (eV) to Wavelength (nm)"
   ]
  },
  {
   "cell_type": "code",
   "execution_count": null,
   "id": "0395d783",
   "metadata": {
    "execution": {
     "iopub.status.busy": "2025-06-10T14:34:37.356482Z",
     "iopub.status.idle": "2025-06-10T14:34:37.356845Z",
     "shell.execute_reply": "2025-06-10T14:34:37.356676Z",
     "shell.execute_reply.started": "2025-06-10T14:34:37.356661Z"
    },
    "papermill": {
     "duration": null,
     "end_time": null,
     "exception": null,
     "start_time": null,
     "status": "pending"
    },
    "tags": []
   },
   "outputs": [],
   "source": [
    "# Converts energy in electron volts to wavelength in nanometers\n",
    "energy_ev = float(input(\"Enter your energy in electron volts:\\n\"))\n",
    "h = 6.626*10**-34 # m^2*kg/s\n",
    "c = 2.998*10**8 # m/s\n",
    "energy_j = energy_ev*(1.602*10**-19)\n",
    "lambda_m = (h*c)/energy_j\n",
    "lambda_nm = round(lambda_m * 1*10**9,2)\n",
    "print(f\"Wavelength = {lambda_nm} nm\")"
   ]
  },
  {
   "cell_type": "markdown",
   "id": "0ac57004",
   "metadata": {
    "papermill": {
     "duration": null,
     "end_time": null,
     "exception": null,
     "start_time": null,
     "status": "pending"
    },
    "tags": []
   },
   "source": [
    "### Wavelength to Energy"
   ]
  },
  {
   "cell_type": "code",
   "execution_count": null,
   "id": "7b1ed4ef",
   "metadata": {
    "execution": {
     "iopub.status.busy": "2025-06-10T14:34:37.358195Z",
     "iopub.status.idle": "2025-06-10T14:34:37.358663Z",
     "shell.execute_reply": "2025-06-10T14:34:37.358427Z",
     "shell.execute_reply.started": "2025-06-10T14:34:37.358410Z"
    },
    "papermill": {
     "duration": null,
     "end_time": null,
     "exception": null,
     "start_time": null,
     "status": "pending"
    },
    "tags": []
   },
   "outputs": [],
   "source": [
    "# Converts wavelength in nanometers to energy in electron volts\n",
    "lambda_nm = float(input(\"Enter your wavelength in nanometers:\\n\"))\n",
    "h = 6.626*10**-34 # m^2*kg/s\n",
    "c = 2.998*10**8 # m/s\n",
    "lambda_m = lambda_nm*10**-9\n",
    "energy_j = (h*c)/lambda_m\n",
    "energy_ev = round(energy_j*6.242*10**18,2)\n",
    "print(f\"Energy = {energy_ev} eV\")"
   ]
  }
 ],
 "metadata": {
  "colab": {
   "provenance": []
  },
  "kaggle": {
   "accelerator": "none",
   "dataSources": [],
   "dockerImageVersionId": 31040,
   "isGpuEnabled": false,
   "isInternetEnabled": true,
   "language": "python",
   "sourceType": "notebook"
  },
  "kernelspec": {
   "display_name": "Python 3",
   "language": "python",
   "name": "python3"
  },
  "language_info": {
   "codemirror_mode": {
    "name": "ipython",
    "version": 3
   },
   "file_extension": ".py",
   "mimetype": "text/x-python",
   "name": "python",
   "nbconvert_exporter": "python",
   "pygments_lexer": "ipython3",
   "version": "3.11.11"
  },
  "papermill": {
   "default_parameters": {},
   "duration": 42.668885,
   "end_time": "2025-06-10T14:36:32.023819",
   "environment_variables": {},
   "exception": true,
   "input_path": "__notebook__.ipynb",
   "output_path": "__notebook__.ipynb",
   "parameters": {},
   "start_time": "2025-06-10T14:35:49.354934",
   "version": "2.6.0"
  },
  "widgets": {
   "application/vnd.jupyter.widget-state+json": {
    "state": {
     "07597ab1ef1e464d95d3df299b3e998e": {
      "model_module": "@jupyter-widgets/base",
      "model_module_version": "2.0.0",
      "model_name": "LayoutModel",
      "state": {
       "_model_module": "@jupyter-widgets/base",
       "_model_module_version": "2.0.0",
       "_model_name": "LayoutModel",
       "_view_count": null,
       "_view_module": "@jupyter-widgets/base",
       "_view_module_version": "2.0.0",
       "_view_name": "LayoutView",
       "align_content": null,
       "align_items": null,
       "align_self": null,
       "border_bottom": null,
       "border_left": null,
       "border_right": null,
       "border_top": null,
       "bottom": null,
       "display": null,
       "flex": null,
       "flex_flow": null,
       "grid_area": null,
       "grid_auto_columns": null,
       "grid_auto_flow": null,
       "grid_auto_rows": null,
       "grid_column": null,
       "grid_gap": null,
       "grid_row": null,
       "grid_template_areas": null,
       "grid_template_columns": null,
       "grid_template_rows": null,
       "height": null,
       "justify_content": null,
       "justify_items": null,
       "left": null,
       "margin": null,
       "max_height": null,
       "max_width": null,
       "min_height": null,
       "min_width": null,
       "object_fit": null,
       "object_position": null,
       "order": null,
       "overflow": null,
       "padding": null,
       "right": null,
       "top": null,
       "visibility": null,
       "width": null
      }
     },
     "089a6a83d65b489a8c57ac74408688a0": {
      "model_module": "@jupyter-widgets/controls",
      "model_module_version": "2.0.0",
      "model_name": "DescriptionStyleModel",
      "state": {
       "_model_module": "@jupyter-widgets/controls",
       "_model_module_version": "2.0.0",
       "_model_name": "DescriptionStyleModel",
       "_view_count": null,
       "_view_module": "@jupyter-widgets/base",
       "_view_module_version": "2.0.0",
       "_view_name": "StyleView",
       "description_width": ""
      }
     },
     "0e4d0023f2cd450b8d6284378a3032a0": {
      "model_module": "@jupyter-widgets/output",
      "model_module_version": "1.0.0",
      "model_name": "OutputModel",
      "state": {
       "_dom_classes": [],
       "_model_module": "@jupyter-widgets/output",
       "_model_module_version": "1.0.0",
       "_model_name": "OutputModel",
       "_view_count": null,
       "_view_module": "@jupyter-widgets/output",
       "_view_module_version": "1.0.0",
       "_view_name": "OutputView",
       "layout": "IPY_MODEL_7bd1a17a9a30492591b7d5c18c45f213",
       "msg_id": "",
       "outputs": [],
       "tabbable": null,
       "tooltip": null
      }
     },
     "0f56b4267bee4a12a2e9278582baaeb7": {
      "model_module": "@jupyter-widgets/output",
      "model_module_version": "1.0.0",
      "model_name": "OutputModel",
      "state": {
       "_dom_classes": [],
       "_model_module": "@jupyter-widgets/output",
       "_model_module_version": "1.0.0",
       "_model_name": "OutputModel",
       "_view_count": null,
       "_view_module": "@jupyter-widgets/output",
       "_view_module_version": "1.0.0",
       "_view_name": "OutputView",
       "layout": "IPY_MODEL_6f0512f761104098a844b68b58c87919",
       "msg_id": "",
       "outputs": [],
       "tabbable": null,
       "tooltip": null
      }
     },
     "168534b5d41848ca8ff11f20a2645ef5": {
      "model_module": "@jupyter-widgets/output",
      "model_module_version": "1.0.0",
      "model_name": "OutputModel",
      "state": {
       "_dom_classes": [],
       "_model_module": "@jupyter-widgets/output",
       "_model_module_version": "1.0.0",
       "_model_name": "OutputModel",
       "_view_count": null,
       "_view_module": "@jupyter-widgets/output",
       "_view_module_version": "1.0.0",
       "_view_name": "OutputView",
       "layout": "IPY_MODEL_07597ab1ef1e464d95d3df299b3e998e",
       "msg_id": "",
       "outputs": [],
       "tabbable": null,
       "tooltip": null
      }
     },
     "1a7f2e5067e143da9992b4692f3b6e7f": {
      "model_module": "@jupyter-widgets/controls",
      "model_module_version": "2.0.0",
      "model_name": "ButtonStyleModel",
      "state": {
       "_model_module": "@jupyter-widgets/controls",
       "_model_module_version": "2.0.0",
       "_model_name": "ButtonStyleModel",
       "_view_count": null,
       "_view_module": "@jupyter-widgets/base",
       "_view_module_version": "2.0.0",
       "_view_name": "StyleView",
       "button_color": null,
       "font_family": null,
       "font_size": null,
       "font_style": null,
       "font_variant": null,
       "font_weight": null,
       "text_color": null,
       "text_decoration": null
      }
     },
     "1a8079b84095467c9883f75c0f14e472": {
      "model_module": "@jupyter-widgets/base",
      "model_module_version": "2.0.0",
      "model_name": "LayoutModel",
      "state": {
       "_model_module": "@jupyter-widgets/base",
       "_model_module_version": "2.0.0",
       "_model_name": "LayoutModel",
       "_view_count": null,
       "_view_module": "@jupyter-widgets/base",
       "_view_module_version": "2.0.0",
       "_view_name": "LayoutView",
       "align_content": null,
       "align_items": null,
       "align_self": null,
       "border_bottom": null,
       "border_left": null,
       "border_right": null,
       "border_top": null,
       "bottom": null,
       "display": null,
       "flex": null,
       "flex_flow": null,
       "grid_area": null,
       "grid_auto_columns": null,
       "grid_auto_flow": null,
       "grid_auto_rows": null,
       "grid_column": null,
       "grid_gap": null,
       "grid_row": null,
       "grid_template_areas": null,
       "grid_template_columns": null,
       "grid_template_rows": null,
       "height": null,
       "justify_content": null,
       "justify_items": null,
       "left": null,
       "margin": null,
       "max_height": null,
       "max_width": null,
       "min_height": null,
       "min_width": null,
       "object_fit": null,
       "object_position": null,
       "order": null,
       "overflow": null,
       "padding": null,
       "right": null,
       "top": null,
       "visibility": null,
       "width": null
      }
     },
     "1defe75838a9470c9e152f642b507425": {
      "model_module": "@jupyter-widgets/controls",
      "model_module_version": "2.0.0",
      "model_name": "DescriptionStyleModel",
      "state": {
       "_model_module": "@jupyter-widgets/controls",
       "_model_module_version": "2.0.0",
       "_model_name": "DescriptionStyleModel",
       "_view_count": null,
       "_view_module": "@jupyter-widgets/base",
       "_view_module_version": "2.0.0",
       "_view_name": "StyleView",
       "description_width": ""
      }
     },
     "206dfdc724c1450d908eaacf167d0ea2": {
      "model_module": "@jupyter-widgets/controls",
      "model_module_version": "2.0.0",
      "model_name": "DescriptionStyleModel",
      "state": {
       "_model_module": "@jupyter-widgets/controls",
       "_model_module_version": "2.0.0",
       "_model_name": "DescriptionStyleModel",
       "_view_count": null,
       "_view_module": "@jupyter-widgets/base",
       "_view_module_version": "2.0.0",
       "_view_name": "StyleView",
       "description_width": ""
      }
     },
     "2c47b95a628c4152b3d6e9d00c7f8b3e": {
      "model_module": "@jupyter-widgets/base",
      "model_module_version": "2.0.0",
      "model_name": "LayoutModel",
      "state": {
       "_model_module": "@jupyter-widgets/base",
       "_model_module_version": "2.0.0",
       "_model_name": "LayoutModel",
       "_view_count": null,
       "_view_module": "@jupyter-widgets/base",
       "_view_module_version": "2.0.0",
       "_view_name": "LayoutView",
       "align_content": null,
       "align_items": null,
       "align_self": null,
       "border_bottom": null,
       "border_left": null,
       "border_right": null,
       "border_top": null,
       "bottom": null,
       "display": null,
       "flex": null,
       "flex_flow": null,
       "grid_area": null,
       "grid_auto_columns": null,
       "grid_auto_flow": null,
       "grid_auto_rows": null,
       "grid_column": null,
       "grid_gap": null,
       "grid_row": null,
       "grid_template_areas": null,
       "grid_template_columns": null,
       "grid_template_rows": null,
       "height": null,
       "justify_content": null,
       "justify_items": null,
       "left": null,
       "margin": null,
       "max_height": null,
       "max_width": null,
       "min_height": null,
       "min_width": null,
       "object_fit": null,
       "object_position": null,
       "order": null,
       "overflow": null,
       "padding": null,
       "right": null,
       "top": null,
       "visibility": null,
       "width": null
      }
     },
     "2e55fc3487c843d68b08d05900a78d1d": {
      "model_module": "@jupyter-widgets/base",
      "model_module_version": "2.0.0",
      "model_name": "LayoutModel",
      "state": {
       "_model_module": "@jupyter-widgets/base",
       "_model_module_version": "2.0.0",
       "_model_name": "LayoutModel",
       "_view_count": null,
       "_view_module": "@jupyter-widgets/base",
       "_view_module_version": "2.0.0",
       "_view_name": "LayoutView",
       "align_content": null,
       "align_items": null,
       "align_self": null,
       "border_bottom": null,
       "border_left": null,
       "border_right": null,
       "border_top": null,
       "bottom": null,
       "display": null,
       "flex": null,
       "flex_flow": null,
       "grid_area": null,
       "grid_auto_columns": null,
       "grid_auto_flow": null,
       "grid_auto_rows": null,
       "grid_column": null,
       "grid_gap": null,
       "grid_row": null,
       "grid_template_areas": null,
       "grid_template_columns": null,
       "grid_template_rows": null,
       "height": null,
       "justify_content": null,
       "justify_items": null,
       "left": null,
       "margin": null,
       "max_height": null,
       "max_width": null,
       "min_height": null,
       "min_width": null,
       "object_fit": null,
       "object_position": null,
       "order": null,
       "overflow": null,
       "padding": null,
       "right": null,
       "top": null,
       "visibility": null,
       "width": null
      }
     },
     "33c626dd97c546afa8e5b25027c30551": {
      "model_module": "@jupyter-widgets/controls",
      "model_module_version": "2.0.0",
      "model_name": "DropdownModel",
      "state": {
       "_dom_classes": [],
       "_model_module": "@jupyter-widgets/controls",
       "_model_module_version": "2.0.0",
       "_model_name": "DropdownModel",
       "_options_labels": [
        "Chlorophyll a",
        "Beta-Carotene",
        "Anthocyanin"
       ],
       "_view_count": null,
       "_view_module": "@jupyter-widgets/controls",
       "_view_module_version": "2.0.0",
       "_view_name": "DropdownView",
       "description": "Molecule:",
       "description_allow_html": false,
       "disabled": false,
       "index": 0,
       "layout": "IPY_MODEL_1a8079b84095467c9883f75c0f14e472",
       "style": "IPY_MODEL_089a6a83d65b489a8c57ac74408688a0",
       "tabbable": null,
       "tooltip": null
      }
     },
     "34041094817a4a8abbc8efc1da1a99dd": {
      "model_module": "@jupyter-widgets/base",
      "model_module_version": "2.0.0",
      "model_name": "LayoutModel",
      "state": {
       "_model_module": "@jupyter-widgets/base",
       "_model_module_version": "2.0.0",
       "_model_name": "LayoutModel",
       "_view_count": null,
       "_view_module": "@jupyter-widgets/base",
       "_view_module_version": "2.0.0",
       "_view_name": "LayoutView",
       "align_content": null,
       "align_items": null,
       "align_self": null,
       "border_bottom": null,
       "border_left": null,
       "border_right": null,
       "border_top": null,
       "bottom": null,
       "display": null,
       "flex": null,
       "flex_flow": null,
       "grid_area": null,
       "grid_auto_columns": null,
       "grid_auto_flow": null,
       "grid_auto_rows": null,
       "grid_column": null,
       "grid_gap": null,
       "grid_row": null,
       "grid_template_areas": null,
       "grid_template_columns": null,
       "grid_template_rows": null,
       "height": null,
       "justify_content": null,
       "justify_items": null,
       "left": null,
       "margin": null,
       "max_height": null,
       "max_width": null,
       "min_height": null,
       "min_width": null,
       "object_fit": null,
       "object_position": null,
       "order": null,
       "overflow": null,
       "padding": null,
       "right": null,
       "top": null,
       "visibility": null,
       "width": null
      }
     },
     "34a74379c1424624bcc759b42b9e4042": {
      "model_module": "@jupyter-widgets/controls",
      "model_module_version": "2.0.0",
      "model_name": "DropdownModel",
      "state": {
       "_dom_classes": [],
       "_model_module": "@jupyter-widgets/controls",
       "_model_module_version": "2.0.0",
       "_model_name": "DropdownModel",
       "_options_labels": [
        "Beta-Carotene",
        "Chlorophyll a",
        "Anthocyanin"
       ],
       "_view_count": null,
       "_view_module": "@jupyter-widgets/controls",
       "_view_module_version": "2.0.0",
       "_view_name": "DropdownView",
       "description": "Molecule:",
       "description_allow_html": false,
       "disabled": false,
       "index": 0,
       "layout": "IPY_MODEL_4607574c6c7e4658a4d88b029b9b9dad",
       "style": "IPY_MODEL_7705726e0e64426babb71ef83e345250",
       "tabbable": null,
       "tooltip": null
      }
     },
     "386ab9d99cb64a65a3fa2be382fc089e": {
      "model_module": "@jupyter-widgets/controls",
      "model_module_version": "2.0.0",
      "model_name": "DescriptionStyleModel",
      "state": {
       "_model_module": "@jupyter-widgets/controls",
       "_model_module_version": "2.0.0",
       "_model_name": "DescriptionStyleModel",
       "_view_count": null,
       "_view_module": "@jupyter-widgets/base",
       "_view_module_version": "2.0.0",
       "_view_name": "StyleView",
       "description_width": ""
      }
     },
     "430f696668b843f392430ce5e2819092": {
      "model_module": "@jupyter-widgets/controls",
      "model_module_version": "2.0.0",
      "model_name": "DropdownModel",
      "state": {
       "_dom_classes": [],
       "_model_module": "@jupyter-widgets/controls",
       "_model_module_version": "2.0.0",
       "_model_name": "DropdownModel",
       "_options_labels": [
        "Molecule 1",
        "Molecule 3",
        "Molecule 2"
       ],
       "_view_count": null,
       "_view_module": "@jupyter-widgets/controls",
       "_view_module_version": "2.0.0",
       "_view_name": "DropdownView",
       "description": "Red",
       "description_allow_html": false,
       "disabled": false,
       "index": 0,
       "layout": "IPY_MODEL_52208f8a41244ce390cbcade13b1ca7c",
       "style": "IPY_MODEL_7f980385a5b34e82a3a26039cc8ca1f8",
       "tabbable": null,
       "tooltip": null
      }
     },
     "4607574c6c7e4658a4d88b029b9b9dad": {
      "model_module": "@jupyter-widgets/base",
      "model_module_version": "2.0.0",
      "model_name": "LayoutModel",
      "state": {
       "_model_module": "@jupyter-widgets/base",
       "_model_module_version": "2.0.0",
       "_model_name": "LayoutModel",
       "_view_count": null,
       "_view_module": "@jupyter-widgets/base",
       "_view_module_version": "2.0.0",
       "_view_name": "LayoutView",
       "align_content": null,
       "align_items": null,
       "align_self": null,
       "border_bottom": null,
       "border_left": null,
       "border_right": null,
       "border_top": null,
       "bottom": null,
       "display": null,
       "flex": null,
       "flex_flow": null,
       "grid_area": null,
       "grid_auto_columns": null,
       "grid_auto_flow": null,
       "grid_auto_rows": null,
       "grid_column": null,
       "grid_gap": null,
       "grid_row": null,
       "grid_template_areas": null,
       "grid_template_columns": null,
       "grid_template_rows": null,
       "height": null,
       "justify_content": null,
       "justify_items": null,
       "left": null,
       "margin": null,
       "max_height": null,
       "max_width": null,
       "min_height": null,
       "min_width": null,
       "object_fit": null,
       "object_position": null,
       "order": null,
       "overflow": null,
       "padding": null,
       "right": null,
       "top": null,
       "visibility": null,
       "width": null
      }
     },
     "4dda3dc0a2494593a150b39ac83510df": {
      "model_module": "@jupyter-widgets/output",
      "model_module_version": "1.0.0",
      "model_name": "OutputModel",
      "state": {
       "_dom_classes": [],
       "_model_module": "@jupyter-widgets/output",
       "_model_module_version": "1.0.0",
       "_model_name": "OutputModel",
       "_view_count": null,
       "_view_module": "@jupyter-widgets/output",
       "_view_module_version": "1.0.0",
       "_view_name": "OutputView",
       "layout": "IPY_MODEL_e6ab46ad64274d8cb7e78ccecc593c81",
       "msg_id": "",
       "outputs": [],
       "tabbable": null,
       "tooltip": null
      }
     },
     "52208f8a41244ce390cbcade13b1ca7c": {
      "model_module": "@jupyter-widgets/base",
      "model_module_version": "2.0.0",
      "model_name": "LayoutModel",
      "state": {
       "_model_module": "@jupyter-widgets/base",
       "_model_module_version": "2.0.0",
       "_model_name": "LayoutModel",
       "_view_count": null,
       "_view_module": "@jupyter-widgets/base",
       "_view_module_version": "2.0.0",
       "_view_name": "LayoutView",
       "align_content": null,
       "align_items": null,
       "align_self": null,
       "border_bottom": null,
       "border_left": null,
       "border_right": null,
       "border_top": null,
       "bottom": null,
       "display": null,
       "flex": null,
       "flex_flow": null,
       "grid_area": null,
       "grid_auto_columns": null,
       "grid_auto_flow": null,
       "grid_auto_rows": null,
       "grid_column": null,
       "grid_gap": null,
       "grid_row": null,
       "grid_template_areas": null,
       "grid_template_columns": null,
       "grid_template_rows": null,
       "height": null,
       "justify_content": null,
       "justify_items": null,
       "left": null,
       "margin": null,
       "max_height": null,
       "max_width": null,
       "min_height": null,
       "min_width": null,
       "object_fit": null,
       "object_position": null,
       "order": null,
       "overflow": null,
       "padding": null,
       "right": null,
       "top": null,
       "visibility": null,
       "width": null
      }
     },
     "5a4ee06982fb47aa86a3c586dd8ac5a1": {
      "model_module": "@jupyter-widgets/base",
      "model_module_version": "2.0.0",
      "model_name": "LayoutModel",
      "state": {
       "_model_module": "@jupyter-widgets/base",
       "_model_module_version": "2.0.0",
       "_model_name": "LayoutModel",
       "_view_count": null,
       "_view_module": "@jupyter-widgets/base",
       "_view_module_version": "2.0.0",
       "_view_name": "LayoutView",
       "align_content": null,
       "align_items": null,
       "align_self": null,
       "border_bottom": null,
       "border_left": null,
       "border_right": null,
       "border_top": null,
       "bottom": null,
       "display": null,
       "flex": null,
       "flex_flow": null,
       "grid_area": null,
       "grid_auto_columns": null,
       "grid_auto_flow": null,
       "grid_auto_rows": null,
       "grid_column": null,
       "grid_gap": null,
       "grid_row": null,
       "grid_template_areas": null,
       "grid_template_columns": null,
       "grid_template_rows": null,
       "height": null,
       "justify_content": null,
       "justify_items": null,
       "left": null,
       "margin": null,
       "max_height": null,
       "max_width": null,
       "min_height": null,
       "min_width": null,
       "object_fit": null,
       "object_position": null,
       "order": null,
       "overflow": null,
       "padding": null,
       "right": null,
       "top": null,
       "visibility": null,
       "width": null
      }
     },
     "5b50b9e66b134c45942aecb3fd3ad398": {
      "model_module": "@jupyter-widgets/base",
      "model_module_version": "2.0.0",
      "model_name": "LayoutModel",
      "state": {
       "_model_module": "@jupyter-widgets/base",
       "_model_module_version": "2.0.0",
       "_model_name": "LayoutModel",
       "_view_count": null,
       "_view_module": "@jupyter-widgets/base",
       "_view_module_version": "2.0.0",
       "_view_name": "LayoutView",
       "align_content": null,
       "align_items": null,
       "align_self": null,
       "border_bottom": null,
       "border_left": null,
       "border_right": null,
       "border_top": null,
       "bottom": null,
       "display": null,
       "flex": null,
       "flex_flow": null,
       "grid_area": null,
       "grid_auto_columns": null,
       "grid_auto_flow": null,
       "grid_auto_rows": null,
       "grid_column": null,
       "grid_gap": null,
       "grid_row": null,
       "grid_template_areas": null,
       "grid_template_columns": null,
       "grid_template_rows": null,
       "height": null,
       "justify_content": null,
       "justify_items": null,
       "left": null,
       "margin": null,
       "max_height": null,
       "max_width": null,
       "min_height": null,
       "min_width": null,
       "object_fit": null,
       "object_position": null,
       "order": null,
       "overflow": null,
       "padding": null,
       "right": null,
       "top": null,
       "visibility": null,
       "width": null
      }
     },
     "62db943a1da84170850eeaf7219be58c": {
      "model_module": "@jupyter-widgets/base",
      "model_module_version": "2.0.0",
      "model_name": "LayoutModel",
      "state": {
       "_model_module": "@jupyter-widgets/base",
       "_model_module_version": "2.0.0",
       "_model_name": "LayoutModel",
       "_view_count": null,
       "_view_module": "@jupyter-widgets/base",
       "_view_module_version": "2.0.0",
       "_view_name": "LayoutView",
       "align_content": null,
       "align_items": null,
       "align_self": null,
       "border_bottom": null,
       "border_left": null,
       "border_right": null,
       "border_top": null,
       "bottom": null,
       "display": null,
       "flex": null,
       "flex_flow": null,
       "grid_area": null,
       "grid_auto_columns": null,
       "grid_auto_flow": null,
       "grid_auto_rows": null,
       "grid_column": null,
       "grid_gap": null,
       "grid_row": null,
       "grid_template_areas": null,
       "grid_template_columns": null,
       "grid_template_rows": null,
       "height": null,
       "justify_content": null,
       "justify_items": null,
       "left": null,
       "margin": null,
       "max_height": null,
       "max_width": null,
       "min_height": null,
       "min_width": null,
       "object_fit": null,
       "object_position": null,
       "order": null,
       "overflow": null,
       "padding": null,
       "right": null,
       "top": null,
       "visibility": null,
       "width": null
      }
     },
     "687c4352896549ec9fcb8e7ccd47146f": {
      "model_module": "@jupyter-widgets/controls",
      "model_module_version": "2.0.0",
      "model_name": "ButtonStyleModel",
      "state": {
       "_model_module": "@jupyter-widgets/controls",
       "_model_module_version": "2.0.0",
       "_model_name": "ButtonStyleModel",
       "_view_count": null,
       "_view_module": "@jupyter-widgets/base",
       "_view_module_version": "2.0.0",
       "_view_name": "StyleView",
       "button_color": null,
       "font_family": null,
       "font_size": null,
       "font_style": null,
       "font_variant": null,
       "font_weight": null,
       "text_color": null,
       "text_decoration": null
      }
     },
     "6f0512f761104098a844b68b58c87919": {
      "model_module": "@jupyter-widgets/base",
      "model_module_version": "2.0.0",
      "model_name": "LayoutModel",
      "state": {
       "_model_module": "@jupyter-widgets/base",
       "_model_module_version": "2.0.0",
       "_model_name": "LayoutModel",
       "_view_count": null,
       "_view_module": "@jupyter-widgets/base",
       "_view_module_version": "2.0.0",
       "_view_name": "LayoutView",
       "align_content": null,
       "align_items": null,
       "align_self": null,
       "border_bottom": null,
       "border_left": null,
       "border_right": null,
       "border_top": null,
       "bottom": null,
       "display": null,
       "flex": null,
       "flex_flow": null,
       "grid_area": null,
       "grid_auto_columns": null,
       "grid_auto_flow": null,
       "grid_auto_rows": null,
       "grid_column": null,
       "grid_gap": null,
       "grid_row": null,
       "grid_template_areas": null,
       "grid_template_columns": null,
       "grid_template_rows": null,
       "height": null,
       "justify_content": null,
       "justify_items": null,
       "left": null,
       "margin": null,
       "max_height": null,
       "max_width": null,
       "min_height": null,
       "min_width": null,
       "object_fit": null,
       "object_position": null,
       "order": null,
       "overflow": null,
       "padding": null,
       "right": null,
       "top": null,
       "visibility": null,
       "width": null
      }
     },
     "7031d2c18d184ee0b5f78b60c874585b": {
      "model_module": "@jupyter-widgets/controls",
      "model_module_version": "2.0.0",
      "model_name": "VBoxModel",
      "state": {
       "_dom_classes": [
        "widget-interact"
       ],
       "_model_module": "@jupyter-widgets/controls",
       "_model_module_version": "2.0.0",
       "_model_name": "VBoxModel",
       "_view_count": null,
       "_view_module": "@jupyter-widgets/controls",
       "_view_module_version": "2.0.0",
       "_view_name": "VBoxView",
       "box_style": "",
       "children": [
        "IPY_MODEL_c8045e2dd4444adf90f42e7b9dda7380",
        "IPY_MODEL_b296e84889f543ab822d9b9d6f039f4d"
       ],
       "layout": "IPY_MODEL_2e55fc3487c843d68b08d05900a78d1d",
       "tabbable": null,
       "tooltip": null
      }
     },
     "7705726e0e64426babb71ef83e345250": {
      "model_module": "@jupyter-widgets/controls",
      "model_module_version": "2.0.0",
      "model_name": "DescriptionStyleModel",
      "state": {
       "_model_module": "@jupyter-widgets/controls",
       "_model_module_version": "2.0.0",
       "_model_name": "DescriptionStyleModel",
       "_view_count": null,
       "_view_module": "@jupyter-widgets/base",
       "_view_module_version": "2.0.0",
       "_view_name": "StyleView",
       "description_width": ""
      }
     },
     "784d50673e5c4733ba2477a4c0686fc3": {
      "model_module": "@jupyter-widgets/controls",
      "model_module_version": "2.0.0",
      "model_name": "ButtonStyleModel",
      "state": {
       "_model_module": "@jupyter-widgets/controls",
       "_model_module_version": "2.0.0",
       "_model_name": "ButtonStyleModel",
       "_view_count": null,
       "_view_module": "@jupyter-widgets/base",
       "_view_module_version": "2.0.0",
       "_view_name": "StyleView",
       "button_color": null,
       "font_family": null,
       "font_size": null,
       "font_style": null,
       "font_variant": null,
       "font_weight": null,
       "text_color": null,
       "text_decoration": null
      }
     },
     "79454b08fe08460e88e3327921eb99c5": {
      "model_module": "@jupyter-widgets/base",
      "model_module_version": "2.0.0",
      "model_name": "LayoutModel",
      "state": {
       "_model_module": "@jupyter-widgets/base",
       "_model_module_version": "2.0.0",
       "_model_name": "LayoutModel",
       "_view_count": null,
       "_view_module": "@jupyter-widgets/base",
       "_view_module_version": "2.0.0",
       "_view_name": "LayoutView",
       "align_content": null,
       "align_items": null,
       "align_self": null,
       "border_bottom": null,
       "border_left": null,
       "border_right": null,
       "border_top": null,
       "bottom": null,
       "display": null,
       "flex": null,
       "flex_flow": null,
       "grid_area": null,
       "grid_auto_columns": null,
       "grid_auto_flow": null,
       "grid_auto_rows": null,
       "grid_column": null,
       "grid_gap": null,
       "grid_row": null,
       "grid_template_areas": null,
       "grid_template_columns": null,
       "grid_template_rows": null,
       "height": null,
       "justify_content": null,
       "justify_items": null,
       "left": null,
       "margin": null,
       "max_height": null,
       "max_width": null,
       "min_height": null,
       "min_width": null,
       "object_fit": null,
       "object_position": null,
       "order": null,
       "overflow": null,
       "padding": null,
       "right": null,
       "top": null,
       "visibility": null,
       "width": null
      }
     },
     "79bb284c6b074068b7724780a1e598bd": {
      "model_module": "@jupyter-widgets/base",
      "model_module_version": "2.0.0",
      "model_name": "LayoutModel",
      "state": {
       "_model_module": "@jupyter-widgets/base",
       "_model_module_version": "2.0.0",
       "_model_name": "LayoutModel",
       "_view_count": null,
       "_view_module": "@jupyter-widgets/base",
       "_view_module_version": "2.0.0",
       "_view_name": "LayoutView",
       "align_content": null,
       "align_items": null,
       "align_self": null,
       "border_bottom": null,
       "border_left": null,
       "border_right": null,
       "border_top": null,
       "bottom": null,
       "display": null,
       "flex": null,
       "flex_flow": null,
       "grid_area": null,
       "grid_auto_columns": null,
       "grid_auto_flow": null,
       "grid_auto_rows": null,
       "grid_column": null,
       "grid_gap": null,
       "grid_row": null,
       "grid_template_areas": null,
       "grid_template_columns": null,
       "grid_template_rows": null,
       "height": null,
       "justify_content": null,
       "justify_items": null,
       "left": null,
       "margin": null,
       "max_height": null,
       "max_width": null,
       "min_height": null,
       "min_width": null,
       "object_fit": null,
       "object_position": null,
       "order": null,
       "overflow": null,
       "padding": null,
       "right": null,
       "top": null,
       "visibility": null,
       "width": null
      }
     },
     "7bd1a17a9a30492591b7d5c18c45f213": {
      "model_module": "@jupyter-widgets/base",
      "model_module_version": "2.0.0",
      "model_name": "LayoutModel",
      "state": {
       "_model_module": "@jupyter-widgets/base",
       "_model_module_version": "2.0.0",
       "_model_name": "LayoutModel",
       "_view_count": null,
       "_view_module": "@jupyter-widgets/base",
       "_view_module_version": "2.0.0",
       "_view_name": "LayoutView",
       "align_content": null,
       "align_items": null,
       "align_self": null,
       "border_bottom": null,
       "border_left": null,
       "border_right": null,
       "border_top": null,
       "bottom": null,
       "display": null,
       "flex": null,
       "flex_flow": null,
       "grid_area": null,
       "grid_auto_columns": null,
       "grid_auto_flow": null,
       "grid_auto_rows": null,
       "grid_column": null,
       "grid_gap": null,
       "grid_row": null,
       "grid_template_areas": null,
       "grid_template_columns": null,
       "grid_template_rows": null,
       "height": null,
       "justify_content": null,
       "justify_items": null,
       "left": null,
       "margin": null,
       "max_height": null,
       "max_width": null,
       "min_height": null,
       "min_width": null,
       "object_fit": null,
       "object_position": null,
       "order": null,
       "overflow": null,
       "padding": null,
       "right": null,
       "top": null,
       "visibility": null,
       "width": null
      }
     },
     "7beee527430d4df2b058fc2de6fceec2": {
      "model_module": "@jupyter-widgets/base",
      "model_module_version": "2.0.0",
      "model_name": "LayoutModel",
      "state": {
       "_model_module": "@jupyter-widgets/base",
       "_model_module_version": "2.0.0",
       "_model_name": "LayoutModel",
       "_view_count": null,
       "_view_module": "@jupyter-widgets/base",
       "_view_module_version": "2.0.0",
       "_view_name": "LayoutView",
       "align_content": null,
       "align_items": null,
       "align_self": null,
       "border_bottom": null,
       "border_left": null,
       "border_right": null,
       "border_top": null,
       "bottom": null,
       "display": null,
       "flex": null,
       "flex_flow": null,
       "grid_area": null,
       "grid_auto_columns": null,
       "grid_auto_flow": null,
       "grid_auto_rows": null,
       "grid_column": null,
       "grid_gap": null,
       "grid_row": null,
       "grid_template_areas": null,
       "grid_template_columns": null,
       "grid_template_rows": null,
       "height": null,
       "justify_content": null,
       "justify_items": null,
       "left": null,
       "margin": null,
       "max_height": null,
       "max_width": null,
       "min_height": null,
       "min_width": null,
       "object_fit": null,
       "object_position": null,
       "order": null,
       "overflow": null,
       "padding": null,
       "right": null,
       "top": null,
       "visibility": null,
       "width": null
      }
     },
     "7de38d7757b04e6c9616b4e3d5b9115a": {
      "model_module": "@jupyter-widgets/controls",
      "model_module_version": "2.0.0",
      "model_name": "RadioButtonsModel",
      "state": {
       "_dom_classes": [],
       "_model_module": "@jupyter-widgets/controls",
       "_model_module_version": "2.0.0",
       "_model_name": "RadioButtonsModel",
       "_options_labels": [
        "Green",
        "Orange",
        "Yellow"
       ],
       "_view_count": null,
       "_view_module": "@jupyter-widgets/controls",
       "_view_module_version": "2.0.0",
       "_view_name": "RadioButtonsView",
       "description": "",
       "description_allow_html": false,
       "disabled": false,
       "index": 0,
       "layout": "IPY_MODEL_7ee5cc6764ea4bf595a8b5e63c86a7c8",
       "orientation": "vertical",
       "style": "IPY_MODEL_91118023d3f54f82a2151238e19eab0c",
       "tabbable": null,
       "tooltip": null
      }
     },
     "7ee5cc6764ea4bf595a8b5e63c86a7c8": {
      "model_module": "@jupyter-widgets/base",
      "model_module_version": "2.0.0",
      "model_name": "LayoutModel",
      "state": {
       "_model_module": "@jupyter-widgets/base",
       "_model_module_version": "2.0.0",
       "_model_name": "LayoutModel",
       "_view_count": null,
       "_view_module": "@jupyter-widgets/base",
       "_view_module_version": "2.0.0",
       "_view_name": "LayoutView",
       "align_content": null,
       "align_items": null,
       "align_self": null,
       "border_bottom": null,
       "border_left": null,
       "border_right": null,
       "border_top": null,
       "bottom": null,
       "display": null,
       "flex": null,
       "flex_flow": null,
       "grid_area": null,
       "grid_auto_columns": null,
       "grid_auto_flow": null,
       "grid_auto_rows": null,
       "grid_column": null,
       "grid_gap": null,
       "grid_row": null,
       "grid_template_areas": null,
       "grid_template_columns": null,
       "grid_template_rows": null,
       "height": null,
       "justify_content": null,
       "justify_items": null,
       "left": null,
       "margin": null,
       "max_height": null,
       "max_width": null,
       "min_height": null,
       "min_width": null,
       "object_fit": null,
       "object_position": null,
       "order": null,
       "overflow": null,
       "padding": null,
       "right": null,
       "top": null,
       "visibility": null,
       "width": null
      }
     },
     "7f980385a5b34e82a3a26039cc8ca1f8": {
      "model_module": "@jupyter-widgets/controls",
      "model_module_version": "2.0.0",
      "model_name": "DescriptionStyleModel",
      "state": {
       "_model_module": "@jupyter-widgets/controls",
       "_model_module_version": "2.0.0",
       "_model_name": "DescriptionStyleModel",
       "_view_count": null,
       "_view_module": "@jupyter-widgets/base",
       "_view_module_version": "2.0.0",
       "_view_name": "StyleView",
       "description_width": ""
      }
     },
     "85172988e1604db2bbcfb613c8f422d2": {
      "model_module": "@jupyter-widgets/controls",
      "model_module_version": "2.0.0",
      "model_name": "DropdownModel",
      "state": {
       "_dom_classes": [],
       "_model_module": "@jupyter-widgets/controls",
       "_model_module_version": "2.0.0",
       "_model_name": "DropdownModel",
       "_options_labels": [
        "Molecule 2",
        "Molecule 3",
        "Molecule 1"
       ],
       "_view_count": null,
       "_view_module": "@jupyter-widgets/controls",
       "_view_module_version": "2.0.0",
       "_view_name": "DropdownView",
       "description": "Blue",
       "description_allow_html": false,
       "disabled": false,
       "index": 0,
       "layout": "IPY_MODEL_5a4ee06982fb47aa86a3c586dd8ac5a1",
       "style": "IPY_MODEL_1defe75838a9470c9e152f642b507425",
       "tabbable": null,
       "tooltip": null
      }
     },
     "8878d1d9dd0344e2852cdc9b37e92b7e": {
      "model_module": "@jupyter-widgets/base",
      "model_module_version": "2.0.0",
      "model_name": "LayoutModel",
      "state": {
       "_model_module": "@jupyter-widgets/base",
       "_model_module_version": "2.0.0",
       "_model_name": "LayoutModel",
       "_view_count": null,
       "_view_module": "@jupyter-widgets/base",
       "_view_module_version": "2.0.0",
       "_view_name": "LayoutView",
       "align_content": null,
       "align_items": null,
       "align_self": null,
       "border_bottom": null,
       "border_left": null,
       "border_right": null,
       "border_top": null,
       "bottom": null,
       "display": null,
       "flex": null,
       "flex_flow": null,
       "grid_area": null,
       "grid_auto_columns": null,
       "grid_auto_flow": null,
       "grid_auto_rows": null,
       "grid_column": null,
       "grid_gap": null,
       "grid_row": null,
       "grid_template_areas": null,
       "grid_template_columns": null,
       "grid_template_rows": null,
       "height": null,
       "justify_content": null,
       "justify_items": null,
       "left": null,
       "margin": null,
       "max_height": null,
       "max_width": null,
       "min_height": null,
       "min_width": null,
       "object_fit": null,
       "object_position": null,
       "order": null,
       "overflow": null,
       "padding": null,
       "right": null,
       "top": null,
       "visibility": null,
       "width": null
      }
     },
     "889f92d67af441769d4c10e4a078ebab": {
      "model_module": "@jupyter-widgets/controls",
      "model_module_version": "2.0.0",
      "model_name": "ButtonModel",
      "state": {
       "_dom_classes": [],
       "_model_module": "@jupyter-widgets/controls",
       "_model_module_version": "2.0.0",
       "_model_name": "ButtonModel",
       "_view_count": null,
       "_view_module": "@jupyter-widgets/controls",
       "_view_module_version": "2.0.0",
       "_view_name": "ButtonView",
       "button_style": "",
       "description": "Submit Quiz",
       "disabled": false,
       "icon": "",
       "layout": "IPY_MODEL_2c47b95a628c4152b3d6e9d00c7f8b3e",
       "style": "IPY_MODEL_687c4352896549ec9fcb8e7ccd47146f",
       "tabbable": null,
       "tooltip": null
      }
     },
     "91118023d3f54f82a2151238e19eab0c": {
      "model_module": "@jupyter-widgets/controls",
      "model_module_version": "2.0.0",
      "model_name": "DescriptionStyleModel",
      "state": {
       "_model_module": "@jupyter-widgets/controls",
       "_model_module_version": "2.0.0",
       "_model_name": "DescriptionStyleModel",
       "_view_count": null,
       "_view_module": "@jupyter-widgets/base",
       "_view_module_version": "2.0.0",
       "_view_name": "StyleView",
       "description_width": ""
      }
     },
     "928a219ddcf142adba1579e35f25d396": {
      "model_module": "@jupyter-widgets/output",
      "model_module_version": "1.0.0",
      "model_name": "OutputModel",
      "state": {
       "_dom_classes": [],
       "_model_module": "@jupyter-widgets/output",
       "_model_module_version": "1.0.0",
       "_model_name": "OutputModel",
       "_view_count": null,
       "_view_module": "@jupyter-widgets/output",
       "_view_module_version": "1.0.0",
       "_view_name": "OutputView",
       "layout": "IPY_MODEL_62db943a1da84170850eeaf7219be58c",
       "msg_id": "",
       "outputs": [],
       "tabbable": null,
       "tooltip": null
      }
     },
     "96396f68837247c491ab02d5029ac3f2": {
      "model_module": "@jupyter-widgets/controls",
      "model_module_version": "2.0.0",
      "model_name": "ButtonModel",
      "state": {
       "_dom_classes": [],
       "_model_module": "@jupyter-widgets/controls",
       "_model_module_version": "2.0.0",
       "_model_name": "ButtonModel",
       "_view_count": null,
       "_view_module": "@jupyter-widgets/controls",
       "_view_module_version": "2.0.0",
       "_view_name": "ButtonView",
       "button_style": "",
       "description": "Check Answers",
       "disabled": false,
       "icon": "",
       "layout": "IPY_MODEL_79bb284c6b074068b7724780a1e598bd",
       "style": "IPY_MODEL_1a7f2e5067e143da9992b4692f3b6e7f",
       "tabbable": null,
       "tooltip": null
      }
     },
     "a0d6e754ebf84c4096251f3ed7d4cfd2": {
      "model_module": "@jupyter-widgets/controls",
      "model_module_version": "2.0.0",
      "model_name": "DropdownModel",
      "state": {
       "_dom_classes": [],
       "_model_module": "@jupyter-widgets/controls",
       "_model_module_version": "2.0.0",
       "_model_name": "DropdownModel",
       "_options_labels": [
        "Molecule 2",
        "Molecule 3",
        "Molecule 1"
       ],
       "_view_count": null,
       "_view_module": "@jupyter-widgets/controls",
       "_view_module_version": "2.0.0",
       "_view_name": "DropdownView",
       "description": "Green",
       "description_allow_html": false,
       "disabled": false,
       "index": 0,
       "layout": "IPY_MODEL_ecc5dc6688324c339fd871603cd22498",
       "style": "IPY_MODEL_206dfdc724c1450d908eaacf167d0ea2",
       "tabbable": null,
       "tooltip": null
      }
     },
     "ad16d8c5381b40e5999eb1a2de182c5d": {
      "model_module": "@jupyter-widgets/controls",
      "model_module_version": "2.0.0",
      "model_name": "RadioButtonsModel",
      "state": {
       "_dom_classes": [],
       "_model_module": "@jupyter-widgets/controls",
       "_model_module_version": "2.0.0",
       "_model_name": "RadioButtonsModel",
       "_options_labels": [
        "550 nm",
        "450 nm",
        "650 nm"
       ],
       "_view_count": null,
       "_view_module": "@jupyter-widgets/controls",
       "_view_module_version": "2.0.0",
       "_view_name": "RadioButtonsView",
       "description": "",
       "description_allow_html": false,
       "disabled": false,
       "index": 0,
       "layout": "IPY_MODEL_fb280c8bc95a48cc94a8a7ffab2b68a9",
       "orientation": "vertical",
       "style": "IPY_MODEL_af1fbaa040134973997a64c513d215bc",
       "tabbable": null,
       "tooltip": null
      }
     },
     "af1fbaa040134973997a64c513d215bc": {
      "model_module": "@jupyter-widgets/controls",
      "model_module_version": "2.0.0",
      "model_name": "DescriptionStyleModel",
      "state": {
       "_model_module": "@jupyter-widgets/controls",
       "_model_module_version": "2.0.0",
       "_model_name": "DescriptionStyleModel",
       "_view_count": null,
       "_view_module": "@jupyter-widgets/base",
       "_view_module_version": "2.0.0",
       "_view_name": "StyleView",
       "description_width": ""
      }
     },
     "b296e84889f543ab822d9b9d6f039f4d": {
      "model_module": "@jupyter-widgets/output",
      "model_module_version": "1.0.0",
      "model_name": "OutputModel",
      "state": {
       "_dom_classes": [],
       "_model_module": "@jupyter-widgets/output",
       "_model_module_version": "1.0.0",
       "_model_name": "OutputModel",
       "_view_count": null,
       "_view_module": "@jupyter-widgets/output",
       "_view_module_version": "1.0.0",
       "_view_name": "OutputView",
       "layout": "IPY_MODEL_7beee527430d4df2b058fc2de6fceec2",
       "msg_id": "",
       "outputs": [
        {
         "data": {
          "image/jpeg": "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",
          "image/png": "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",
          "text/plain": "<PIL.PngImagePlugin.PngImageFile image mode=RGB size=200x100>"
         },
         "metadata": {},
         "output_type": "display_data"
        },
        {
         "data": {
          "text/plain": "'Predicted λ = 300 nm → Violet'"
         },
         "metadata": {},
         "output_type": "display_data"
        }
       ],
       "tabbable": null,
       "tooltip": null
      }
     },
     "b88fe802869541ab91226cd4444d67c5": {
      "model_module": "@jupyter-widgets/controls",
      "model_module_version": "2.0.0",
      "model_name": "RadioButtonsModel",
      "state": {
       "_dom_classes": [],
       "_model_module": "@jupyter-widgets/controls",
       "_model_module_version": "2.0.0",
       "_model_name": "RadioButtonsModel",
       "_options_labels": [
        "Blue",
        "Green",
        "Violet",
        "Red"
       ],
       "_view_count": null,
       "_view_module": "@jupyter-widgets/controls",
       "_view_module_version": "2.0.0",
       "_view_name": "RadioButtonsView",
       "description": "",
       "description_allow_html": false,
       "disabled": false,
       "index": 0,
       "layout": "IPY_MODEL_8878d1d9dd0344e2852cdc9b37e92b7e",
       "orientation": "vertical",
       "style": "IPY_MODEL_e40981d19bce487a931369c30d217b0d",
       "tabbable": null,
       "tooltip": null
      }
     },
     "c8045e2dd4444adf90f42e7b9dda7380": {
      "model_module": "@jupyter-widgets/controls",
      "model_module_version": "2.0.0",
      "model_name": "IntSliderModel",
      "state": {
       "_dom_classes": [],
       "_model_module": "@jupyter-widgets/controls",
       "_model_module_version": "2.0.0",
       "_model_name": "IntSliderModel",
       "_view_count": null,
       "_view_module": "@jupyter-widgets/controls",
       "_view_module_version": "2.0.0",
       "_view_name": "IntSliderView",
       "behavior": "drag-tap",
       "continuous_update": true,
       "description": "Double Bonds",
       "description_allow_html": false,
       "disabled": false,
       "layout": "IPY_MODEL_79454b08fe08460e88e3327921eb99c5",
       "max": 8,
       "min": 1,
       "orientation": "horizontal",
       "readout": true,
       "readout_format": "d",
       "step": 1,
       "style": "IPY_MODEL_fb9d29a01f3a4fda804275cb28048c69",
       "tabbable": null,
       "tooltip": null,
       "value": 2
      }
     },
     "e40981d19bce487a931369c30d217b0d": {
      "model_module": "@jupyter-widgets/controls",
      "model_module_version": "2.0.0",
      "model_name": "DescriptionStyleModel",
      "state": {
       "_model_module": "@jupyter-widgets/controls",
       "_model_module_version": "2.0.0",
       "_model_name": "DescriptionStyleModel",
       "_view_count": null,
       "_view_module": "@jupyter-widgets/base",
       "_view_module_version": "2.0.0",
       "_view_name": "StyleView",
       "description_width": ""
      }
     },
     "e6ab46ad64274d8cb7e78ccecc593c81": {
      "model_module": "@jupyter-widgets/base",
      "model_module_version": "2.0.0",
      "model_name": "LayoutModel",
      "state": {
       "_model_module": "@jupyter-widgets/base",
       "_model_module_version": "2.0.0",
       "_model_name": "LayoutModel",
       "_view_count": null,
       "_view_module": "@jupyter-widgets/base",
       "_view_module_version": "2.0.0",
       "_view_name": "LayoutView",
       "align_content": null,
       "align_items": null,
       "align_self": null,
       "border_bottom": null,
       "border_left": null,
       "border_right": null,
       "border_top": null,
       "bottom": null,
       "display": null,
       "flex": null,
       "flex_flow": null,
       "grid_area": null,
       "grid_auto_columns": null,
       "grid_auto_flow": null,
       "grid_auto_rows": null,
       "grid_column": null,
       "grid_gap": null,
       "grid_row": null,
       "grid_template_areas": null,
       "grid_template_columns": null,
       "grid_template_rows": null,
       "height": null,
       "justify_content": null,
       "justify_items": null,
       "left": null,
       "margin": null,
       "max_height": null,
       "max_width": null,
       "min_height": null,
       "min_width": null,
       "object_fit": null,
       "object_position": null,
       "order": null,
       "overflow": null,
       "padding": null,
       "right": null,
       "top": null,
       "visibility": null,
       "width": null
      }
     },
     "ecc5dc6688324c339fd871603cd22498": {
      "model_module": "@jupyter-widgets/base",
      "model_module_version": "2.0.0",
      "model_name": "LayoutModel",
      "state": {
       "_model_module": "@jupyter-widgets/base",
       "_model_module_version": "2.0.0",
       "_model_name": "LayoutModel",
       "_view_count": null,
       "_view_module": "@jupyter-widgets/base",
       "_view_module_version": "2.0.0",
       "_view_name": "LayoutView",
       "align_content": null,
       "align_items": null,
       "align_self": null,
       "border_bottom": null,
       "border_left": null,
       "border_right": null,
       "border_top": null,
       "bottom": null,
       "display": null,
       "flex": null,
       "flex_flow": null,
       "grid_area": null,
       "grid_auto_columns": null,
       "grid_auto_flow": null,
       "grid_auto_rows": null,
       "grid_column": null,
       "grid_gap": null,
       "grid_row": null,
       "grid_template_areas": null,
       "grid_template_columns": null,
       "grid_template_rows": null,
       "height": null,
       "justify_content": null,
       "justify_items": null,
       "left": null,
       "margin": null,
       "max_height": null,
       "max_width": null,
       "min_height": null,
       "min_width": null,
       "object_fit": null,
       "object_position": null,
       "order": null,
       "overflow": null,
       "padding": null,
       "right": null,
       "top": null,
       "visibility": null,
       "width": null
      }
     },
     "ef1ad5c935c14cfaa8bf41942a8b2acf": {
      "model_module": "@jupyter-widgets/controls",
      "model_module_version": "2.0.0",
      "model_name": "ButtonModel",
      "state": {
       "_dom_classes": [],
       "_model_module": "@jupyter-widgets/controls",
       "_model_module_version": "2.0.0",
       "_model_name": "ButtonModel",
       "_view_count": null,
       "_view_module": "@jupyter-widgets/controls",
       "_view_module_version": "2.0.0",
       "_view_name": "ButtonView",
       "button_style": "",
       "description": "Check All",
       "disabled": false,
       "icon": "",
       "layout": "IPY_MODEL_5b50b9e66b134c45942aecb3fd3ad398",
       "style": "IPY_MODEL_784d50673e5c4733ba2477a4c0686fc3",
       "tabbable": null,
       "tooltip": null
      }
     },
     "f7e2cf44dcec428b832ecc544710db51": {
      "model_module": "@jupyter-widgets/controls",
      "model_module_version": "2.0.0",
      "model_name": "DropdownModel",
      "state": {
       "_dom_classes": [],
       "_model_module": "@jupyter-widgets/controls",
       "_model_module_version": "2.0.0",
       "_model_name": "DropdownModel",
       "_options_labels": [
        "Anthocyanin",
        "Beta-Carotene",
        "Chlorophyll a"
       ],
       "_view_count": null,
       "_view_module": "@jupyter-widgets/controls",
       "_view_module_version": "2.0.0",
       "_view_name": "DropdownView",
       "description": "Molecule:",
       "description_allow_html": false,
       "disabled": false,
       "index": 0,
       "layout": "IPY_MODEL_34041094817a4a8abbc8efc1da1a99dd",
       "style": "IPY_MODEL_386ab9d99cb64a65a3fa2be382fc089e",
       "tabbable": null,
       "tooltip": null
      }
     },
     "fb280c8bc95a48cc94a8a7ffab2b68a9": {
      "model_module": "@jupyter-widgets/base",
      "model_module_version": "2.0.0",
      "model_name": "LayoutModel",
      "state": {
       "_model_module": "@jupyter-widgets/base",
       "_model_module_version": "2.0.0",
       "_model_name": "LayoutModel",
       "_view_count": null,
       "_view_module": "@jupyter-widgets/base",
       "_view_module_version": "2.0.0",
       "_view_name": "LayoutView",
       "align_content": null,
       "align_items": null,
       "align_self": null,
       "border_bottom": null,
       "border_left": null,
       "border_right": null,
       "border_top": null,
       "bottom": null,
       "display": null,
       "flex": null,
       "flex_flow": null,
       "grid_area": null,
       "grid_auto_columns": null,
       "grid_auto_flow": null,
       "grid_auto_rows": null,
       "grid_column": null,
       "grid_gap": null,
       "grid_row": null,
       "grid_template_areas": null,
       "grid_template_columns": null,
       "grid_template_rows": null,
       "height": null,
       "justify_content": null,
       "justify_items": null,
       "left": null,
       "margin": null,
       "max_height": null,
       "max_width": null,
       "min_height": null,
       "min_width": null,
       "object_fit": null,
       "object_position": null,
       "order": null,
       "overflow": null,
       "padding": null,
       "right": null,
       "top": null,
       "visibility": null,
       "width": null
      }
     },
     "fb9d29a01f3a4fda804275cb28048c69": {
      "model_module": "@jupyter-widgets/controls",
      "model_module_version": "2.0.0",
      "model_name": "SliderStyleModel",
      "state": {
       "_model_module": "@jupyter-widgets/controls",
       "_model_module_version": "2.0.0",
       "_model_name": "SliderStyleModel",
       "_view_count": null,
       "_view_module": "@jupyter-widgets/base",
       "_view_module_version": "2.0.0",
       "_view_name": "StyleView",
       "description_width": "",
       "handle_color": null
      }
     }
    },
    "version_major": 2,
    "version_minor": 0
   }
  }
 },
 "nbformat": 4,
 "nbformat_minor": 5
}
